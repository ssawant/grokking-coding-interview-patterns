{
 "cells": [
  {
   "cell_type": "markdown",
   "metadata": {},
   "source": [
    "### Knapsack (Recursive Soluation):"
   ]
  },
  {
   "cell_type": "code",
   "execution_count": 7,
   "metadata": {
    "vscode": {
     "languageId": "python"
    }
   },
   "outputs": [],
   "source": [
    "def knapsack(wg, val, w, n):\n",
    "    # base condition\n",
    "    if w == 0 or n == 0:\n",
    "        return 0\n",
    "    \n",
    "    elif (wg[n-1] > w):\n",
    "        return knapsack(wg, val, w, n-1)\n",
    "    \n",
    "    else:\n",
    "        return max(val[n-1] + knapsack(wg, val, w-wg[n-1], n-1), knapsack(wg, val, w, n-1))"
   ]
  },
  {
   "cell_type": "code",
   "execution_count": 10,
   "metadata": {
    "vscode": {
     "languageId": "python"
    }
   },
   "outputs": [
    {
     "name": "stdout",
     "output_type": "stream",
     "text": [
      "220\n"
     ]
    }
   ],
   "source": [
    "w = 50\n",
    "wg = [10, 20, 30]\n",
    "val = [60, 100, 120]\n",
    "\n",
    "print(knapsack(wg, val, w, len(val)))"
   ]
  },
  {
   "cell_type": "code",
   "execution_count": 4,
   "metadata": {
    "vscode": {
     "languageId": "python"
    }
   },
   "outputs": [
    {
     "data": {
      "text/plain": [
       "0"
      ]
     },
     "execution_count": 4,
     "metadata": {},
     "output_type": "execute_result"
    }
   ],
   "source": []
  }
 ],
 "metadata": {
  "kernelspec": {
   "display_name": "vmlimpl",
   "language": "python",
   "name": "vmlimpl"
  },
  "orig_nbformat": 4
 },
 "nbformat": 4,
 "nbformat_minor": 2
}
