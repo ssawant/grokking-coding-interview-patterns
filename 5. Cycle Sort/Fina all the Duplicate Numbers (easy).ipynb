{
 "cells": [
  {
   "cell_type": "markdown",
   "metadata": {},
   "source": [
    "#### Find all the Duplicate Numbers\n",
    "We are given an unsorted array containing `n` numbers taken from the range 1 to `n`. \\\n",
    "The array has some duplicates, find all the duplucate umbers without using any extra space.\n",
    "\n",
    "```\n",
    "Example 1:\n",
    "\n",
    "Input: [3, 4, 4, 5, 5]\n",
    "Output: [4, 5]\n",
    "```\n"
   ]
  },
  {
   "cell_type": "markdown",
   "metadata": {},
   "source": [
    "*Time Complexity*: `O(N)` \\\n",
    "*Space Complexity*: `O(1)`"
   ]
  },
  {
   "cell_type": "code",
   "execution_count": 1,
   "metadata": {
    "vscode": {
     "languageId": "python"
    }
   },
   "outputs": [],
   "source": [
    "def find_all_duplicates(arr):\n",
    "    duplicates = []\n",
    "    \n",
    "    for i in range(len(arr)):\n",
    "        j = arr[i]-1\n",
    "        if arr[i] != arr[j]:\n",
    "            arr[i], arr[j] = arr[j], arr[i]\n",
    "    \n",
    "    print(arr)\n",
    "    for i in range(len(arr)):\n",
    "        if arr[i] != i+1:\n",
    "            duplicates.append(arr[i])\n",
    "    \n",
    "    return duplicates"
   ]
  },
  {
   "cell_type": "code",
   "execution_count": 2,
   "metadata": {
    "vscode": {
     "languageId": "python"
    }
   },
   "outputs": [
    {
     "name": "stdout",
     "output_type": "stream",
     "text": [
      "[4, 5, 3, 4, 5]\n",
      "Duplicate numbers in given arrays are [4, 5]\n"
     ]
    }
   ],
   "source": [
    "print(f\"Duplicate numbers in given arrays are {find_all_duplicates([3, 4, 4, 5, 5])}\")"
   ]
  }
 ],
 "metadata": {
  "kernelspec": {
   "display_name": "vmlimpl",
   "language": "python",
   "name": "vmlimpl"
  },
  "orig_nbformat": 4
 },
 "nbformat": 4,
 "nbformat_minor": 2
}
