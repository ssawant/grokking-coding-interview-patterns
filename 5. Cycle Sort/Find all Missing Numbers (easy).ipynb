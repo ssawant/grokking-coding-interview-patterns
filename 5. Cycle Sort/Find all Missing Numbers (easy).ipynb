{
 "cells": [
  {
   "cell_type": "markdown",
   "metadata": {},
   "source": [
    "#### Find all Missing numbers\n",
    "\n",
    "We are given an unsorted array containing numbers taken fromthe range 1 to `n`.\\\n",
    "The array can have duplicates, which means some numbers will be missing. Find all thosemissing mumbers.\n",
    "\n",
    "```\n",
    "Example 1:\n",
    "\n",
    "Input: [2, 3, 1, 8, 2, 3, 5, 1]\n",
    "Output: 4, 6, 7\n",
    "Explanation: The array should have all numbers from 1 to 8, due to duplicates 4, 6, are 7 are missing.\n",
    "\n",
    "```"
   ]
  },
  {
   "cell_type": "markdown",
   "metadata": {},
   "source": [
    "##### Using HashMap"
   ]
  },
  {
   "cell_type": "code",
   "execution_count": 20,
   "metadata": {},
   "outputs": [],
   "source": [
    "def find_all_missing(arr):\n",
    "    freq_map = {}\n",
    "    result = []\n",
    "\n",
    "    for i in range(len(arr)):\n",
    "        if arr[i] not in freq_map:\n",
    "            freq_map[arr[i]] = 0\n",
    "        freq_map[arr[i]] += 1\n",
    "    \n",
    "    for i in range(1, len(arr)+1):\n",
    "        if i not in freq_map:\n",
    "            result.append(i)\n",
    "    \n",
    "    return result\n",
    "    "
   ]
  },
  {
   "cell_type": "code",
   "execution_count": 21,
   "metadata": {},
   "outputs": [
    {
     "name": "stdout",
     "output_type": "stream",
     "text": [
      "Missing numbers are [4, 6, 7]\n"
     ]
    }
   ],
   "source": [
    "print(f\"Missing numbers are {find_all_missing([2, 3, 1, 8, 2, 3, 5, 1])}\")"
   ]
  },
  {
   "cell_type": "markdown",
   "metadata": {},
   "source": [
    "##### Using Cycle Sort"
   ]
  },
  {
   "cell_type": "code",
   "execution_count": 26,
   "metadata": {},
   "outputs": [],
   "source": [
    "def find_missing_numbers(arr):\n",
    "    missing_numbers = []\n",
    "    for i in range(len(arr)):\n",
    "        j = abs(arr[i])-1\n",
    "        if arr[j] >= 0:\n",
    "            arr[j] = -arr[j]\n",
    "    \n",
    "    print(arr)\n",
    "    for i in range(len(arr)):\n",
    "        if arr[i] > 0:\n",
    "            missing_numbers.append(i+1)\n",
    "    return missing_numbers"
   ]
  },
  {
   "cell_type": "code",
   "execution_count": 27,
   "metadata": {},
   "outputs": [
    {
     "name": "stdout",
     "output_type": "stream",
     "text": [
      "[-2, -3, -1, 8, -2, 3, 5, -1]\n",
      "Missing numbers are [4, 6, 7]\n"
     ]
    }
   ],
   "source": [
    "print(f\"Missing numbers are {find_missing_numbers([2, 3, 1, 8, 2, 3, 5, 1])}\")"
   ]
  },
  {
   "cell_type": "code",
   "execution_count": 31,
   "metadata": {},
   "outputs": [],
   "source": [
    "def find_missing_numbers_cycle(arr):\n",
    "    missing_numbers = []\n",
    "\n",
    "    for i in range(len(arr)):\n",
    "        j = arr[i] - 1\n",
    "        if arr[i] != arr[j]:\n",
    "            arr[i], arr[j] = arr[j], arr[i]\n",
    "    \n",
    "    print(arr)\n",
    "    for i in range(len(arr)):\n",
    "        if arr[i] != i+1:\n",
    "            missing_numbers.append(i+1)\n",
    "    \n",
    "    return missing_numbers"
   ]
  },
  {
   "cell_type": "code",
   "execution_count": 32,
   "metadata": {},
   "outputs": [
    {
     "name": "stdout",
     "output_type": "stream",
     "text": [
      "[1, 2, 3, 1, 5, 3, 2, 8]\n",
      "Missing numbers are [4, 6, 7]\n"
     ]
    }
   ],
   "source": [
    "print(f\"Missing numbers are {find_missing_numbers_cycle([2, 3, 1, 8, 2, 3, 5, 1])}\")"
   ]
  }
 ],
 "metadata": {
  "kernelspec": {
   "display_name": "vmlimpl",
   "language": "python",
   "name": "vmlimpl"
  },
  "language_info": {
   "codemirror_mode": {
    "name": "ipython",
    "version": 3
   },
   "file_extension": ".py",
   "mimetype": "text/x-python",
   "name": "python",
   "nbconvert_exporter": "python",
   "pygments_lexer": "ipython3",
   "version": "3.8.10"
  },
  "orig_nbformat": 4
 },
 "nbformat": 4,
 "nbformat_minor": 2
}
