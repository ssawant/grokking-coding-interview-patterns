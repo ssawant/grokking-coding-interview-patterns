{
 "cells": [
  {
   "cell_type": "markdown",
   "metadata": {},
   "source": [
    "#### Cycle Sort\n",
    "\n",
    "We are given an array containing `n` objects. Each object,when created, was assigned a unique number from 1 to `n` based on their creation sequence. Thhis means that the object with sequence number `3` was createdjust beforethe object with sequence number `4`.\n",
    "\n",
    "Write a function to sort the objects in-place on their creation sequence number in `O(N)` and without any extra space.\n",
    "For simplicity, lets assume we arepassedan integer array containing only the sequence numbers, through each number is actually an object.\n",
    "\n",
    "```\n",
    "Example 1:\n",
    "\n",
    "Input: [3, 1, 5, 4, 2]\n",
    "Ouput: [1, 2, 3, 4, 5]\n",
    "\n",
    "Example 2:\n",
    "\n",
    "Input: [2, 6, 4, 3, 1, 5]\n",
    "Output: [1, 2, 3, 4, 5, 6]\n",
    "```"
   ]
  },
  {
   "cell_type": "markdown",
   "metadata": {},
   "source": [
    "*Time Complexity* `O(N)` \\\n",
    "*Space Complexity* `O(1)`"
   ]
  },
  {
   "cell_type": "code",
   "execution_count": 11,
   "metadata": {
    "vscode": {
     "languageId": "python"
    }
   },
   "outputs": [],
   "source": [
    "def cycle_sort(arr):\n",
    "    for i in range(0, len(arr)):\n",
    "        if arr[i] != i+1:\n",
    "            arr[arr[i]-1], arr[i] = arr[i], arr[arr[i]-1]\n",
    "    \n",
    "    return arr         "
   ]
  },
  {
   "cell_type": "code",
   "execution_count": 12,
   "metadata": {
    "vscode": {
     "languageId": "python"
    }
   },
   "outputs": [
    {
     "name": "stdout",
     "output_type": "stream",
     "text": [
      "Cycle sort result [1, 2, 3, 4, 5]\n"
     ]
    }
   ],
   "source": [
    "print(f\"Cycle sort result {cycle_sort(arr=[3, 1, 5, 4, 2])}\")"
   ]
  }
 ],
 "metadata": {
  "kernelspec": {
   "display_name": "vmlimpl",
   "language": "python",
   "name": "vmlimpl"
  },
  "orig_nbformat": 4
 },
 "nbformat": 4,
 "nbformat_minor": 2
}
