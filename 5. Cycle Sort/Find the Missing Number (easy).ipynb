{
 "cells": [
  {
   "cell_type": "markdown",
   "metadata": {},
   "source": [
    "#### Find the missing number\n",
    "\n",
    "We are given an array containing `n` distinct numbers taken fromthe range 0 to `n`.\n",
    "Since the array has onlye `n` numbers out of total `n+1` numbers, find the missing number.\n",
    "\n",
    "```\n",
    "Example 1:\n",
    "\n",
    "Input: [4, 0, 3, 1]\n",
    "Output: 2\n",
    "```"
   ]
  },
  {
   "cell_type": "markdown",
   "metadata": {},
   "source": [
    "*Time complexity*: `O(N)` \\\n",
    "*Space complexity*: `O(1)`"
   ]
  },
  {
   "cell_type": "code",
   "execution_count": 33,
   "metadata": {
    "vscode": {
     "languageId": "python"
    }
   },
   "outputs": [],
   "source": [
    "def find_missing_number(arr):\n",
    "    for i in range(len(arr)):\n",
    "        if abs(arr[i]) < len(arr):\n",
    "            print(arr[i], i, -arr[abs(arr[i])])\n",
    "            arr[abs(arr[i])] = -arr[abs(arr[i])]\n",
    "    \n",
    "    print(arr)\n",
    "    for i in range(len(arr)):\n",
    "        if arr[i] > 0:\n",
    "            return i\n",
    "    return len(arr)"
   ]
  },
  {
   "cell_type": "code",
   "execution_count": 34,
   "metadata": {
    "vscode": {
     "languageId": "python"
    }
   },
   "outputs": [
    {
     "name": "stdout",
     "output_type": "stream",
     "text": [
      "0 1 -4\n",
      "3 2 -1\n",
      "-1 3 0\n",
      "[-4, 0, 3, -1]\n",
      "Missing number in given array is 2\n"
     ]
    }
   ],
   "source": [
    "print(f\"Missing number in given array is {find_missing_number([4, 0, 3, 1])}\")\n",
    "# print(f\"Missing number in given array is {find_missing_number([8, 3, 5, 2, 4, 6, 0, 1])}\")"
   ]
  }
 ],
 "metadata": {
  "kernelspec": {
   "display_name": "vmlimpl",
   "language": "python",
   "name": "vmlimpl"
  },
  "orig_nbformat": 4
 },
 "nbformat": 4,
 "nbformat_minor": 2
}
