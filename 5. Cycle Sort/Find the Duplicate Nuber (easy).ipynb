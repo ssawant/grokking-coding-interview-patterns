{
 "cells": [
  {
   "cell_type": "markdown",
   "metadata": {},
   "source": [
    "#### Find the duplicate number\n",
    "We are given an unsorted array containing `n+1` numbers taken fromthe range 1 to `n`. \\\n",
    "The array has onlye one duplicate but it cab ne repeated multiple times.    \\\n",
    "Find that duplicate number without using any extra space. You are, however, allowed to modify the input array.\n",
    "\n",
    "```\n",
    "Example 1:\n",
    "\n",
    "Input: [1, 4, 4, 3, 2]\n",
    "Output: 4\n",
    "```"
   ]
  },
  {
   "cell_type": "code",
   "execution_count": 8,
   "metadata": {},
   "outputs": [],
   "source": [
    "def find_the_duplicate(arr):\n",
    "    for i in range(len(arr)):\n",
    "        if arr[i] != i + 1:\n",
    "            j = arr[i]-1\n",
    "            if arr[i] != arr[j]:\n",
    "                arr[i], arr[j] = arr[j], arr[i]\n",
    "            else:\n",
    "                return arr[i]\n",
    "    \n",
    "    return -1\n"
   ]
  },
  {
   "cell_type": "code",
   "execution_count": 9,
   "metadata": {},
   "outputs": [
    {
     "data": {
      "text/plain": [
       "4"
      ]
     },
     "execution_count": 9,
     "metadata": {},
     "output_type": "execute_result"
    }
   ],
   "source": [
    "find_the_duplicate([1,4,4,3,2])"
   ]
  }
 ],
 "metadata": {
  "kernelspec": {
   "display_name": "vmlimpl",
   "language": "python",
   "name": "vmlimpl"
  },
  "language_info": {
   "codemirror_mode": {
    "name": "ipython",
    "version": 3
   },
   "file_extension": ".py",
   "mimetype": "text/x-python",
   "name": "python",
   "nbconvert_exporter": "python",
   "pygments_lexer": "ipython3",
   "version": "3.8.10"
  },
  "orig_nbformat": 4
 },
 "nbformat": 4,
 "nbformat_minor": 2
}
