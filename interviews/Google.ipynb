{
 "cells": [
  {
   "cell_type": "markdown",
   "metadata": {},
   "source": [
    "#### Automatic binning\n",
    "Give a list of interges called `datasets`, write a function called `automatic_histogram` to automatically generate a disctionary representing a histogram of the data set with x bins uniformaly distributed over the values.\n",
    "\n",
    "*Note: You should not included any bins that have zero values in them in your dictionary.* \\\n",
    "\n",
    "*Note: Do NOT use numpy or pandas.*\n",
    "\n",
    "```\n",
    "x = 3\n",
    "dataset = [1,2,2,3,4,5]\n",
    "\n",
    "automatic_histogram(dataset, x) -> {'1-2':3,'3-4': 2,'5':1}\n",
    "```"
   ]
  },
  {
   "cell_type": "code",
   "execution_count": 24,
   "metadata": {},
   "outputs": [],
   "source": [
    "def automatic_histogram(dataset, x):\n",
    "    # find min and max and freq hash\n",
    "    histogram = {}\n",
    "    elements = {}\n",
    "    minimum, maximum = dataset[0], dataset[0]\n",
    "\n",
    "    for i in dataset:\n",
    "        minimum = min(minimum, i)\n",
    "        maximum = max(maximum, i)\n",
    "        elements[i] = 1 + elements.get(i, 0)\n",
    "    \n",
    "    # find the bucket size\n",
    "    bucket_width = 0\n",
    "    if maximum % 3 == 0:\n",
    "        bucket_width = maximum//x-1\n",
    "    else:\n",
    "        bucket_width = maximum//x\n",
    "    \n",
    "    start = minimum\n",
    "    while start <= maximum:\n",
    "        if start == maximum:\n",
    "            bucket_str = str(maximum)\n",
    "        elif (start + bucket_width) > maximum:\n",
    "            bucket_str = str(start) + '-' + str(maximum)\n",
    "        else:\n",
    "            bucket_str = str(start) + '-' + str((start + bucket_width))\n",
    "        \n",
    "        for i in range(start, start + bucket_width + 1):\n",
    "            if i > maximum:\n",
    "                break\n",
    "            if i in elements:\n",
    "                histogram[bucket_str] = 1 + histogram.get(bucket_str, 0)\n",
    "        \n",
    "        start = start + bucket_width + 1\n",
    "\n",
    "    return histogram"
   ]
  },
  {
   "cell_type": "code",
   "execution_count": 25,
   "metadata": {},
   "outputs": [
    {
     "data": {
      "text/plain": [
       "{'1-2': 2, '3-4': 2, '5': 1}"
      ]
     },
     "execution_count": 25,
     "metadata": {},
     "output_type": "execute_result"
    }
   ],
   "source": [
    "automatic_histogram(dataset=[1,2,2,3,4,5],x=3)"
   ]
  }
 ],
 "metadata": {
  "kernelspec": {
   "display_name": "vmlimpl",
   "language": "python",
   "name": "vmlimpl"
  },
  "language_info": {
   "codemirror_mode": {
    "name": "ipython",
    "version": 3
   },
   "file_extension": ".py",
   "mimetype": "text/x-python",
   "name": "python",
   "nbconvert_exporter": "python",
   "pygments_lexer": "ipython3",
   "version": "3.8.10"
  },
  "orig_nbformat": 4
 },
 "nbformat": 4,
 "nbformat_minor": 2
}
