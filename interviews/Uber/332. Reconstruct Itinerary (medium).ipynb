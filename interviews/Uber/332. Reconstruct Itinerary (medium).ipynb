{
 "cells": [
  {
   "cell_type": "code",
   "execution_count": 12,
   "metadata": {},
   "outputs": [],
   "source": [
    "from __future__ import annotations\n",
    "\n",
    "class Solution:\n",
    "    def findLinerary(self, tickets: List[List[str]]) -> List[str]:\n",
    "        adj = { src: [] for src, dst in tickets}\n",
    "        tickets.sort() # logn\n",
    "\n",
    "        for src, dst in tickets:\n",
    "            adj[src].append(dst)\n",
    "        \n",
    "        res = ['JFK']\n",
    "        def dfs(src):\n",
    "            if len(src) == len(tickets) + 1:\n",
    "                return True\n",
    "            if src not in adj:  \n",
    "                return False\n",
    "            \n",
    "            temp  = list(adj[src]) # copy of adj\n",
    "            for i, v in enumerate(temp):\n",
    "                adj[src].pop(i)\n",
    "                res.append(v)\n",
    "                if dfs(v): return True\n",
    "                adj[src].insert(i,v) # backtrack here as no route from src to dist\n",
    "                res.pop()\n",
    "            return False\n",
    "        \n",
    "        dfs('JFK')\n",
    "        return res\n",
    "        "
   ]
  },
  {
   "cell_type": "code",
   "execution_count": 13,
   "metadata": {},
   "outputs": [
    {
     "data": {
      "text/plain": [
       "['JFK']"
      ]
     },
     "execution_count": 13,
     "metadata": {},
     "output_type": "execute_result"
    }
   ],
   "source": [
    "solution = Solution()\n",
    "solution.findLinerary([[\"JFK\",\"SFO\"],[\"JFK\",\"ATL\"],[\"SFO\",\"ATL\"],[\"ATL\",\"JFK\"],[\"ATL\",\"SFO\"]])"
   ]
  }
 ],
 "metadata": {
  "kernelspec": {
   "display_name": "Python 3.8.10 ('vmlimpl')",
   "language": "python",
   "name": "python3"
  },
  "language_info": {
   "codemirror_mode": {
    "name": "ipython",
    "version": 3
   },
   "file_extension": ".py",
   "mimetype": "text/x-python",
   "name": "python",
   "nbconvert_exporter": "python",
   "pygments_lexer": "ipython3",
   "version": "3.8.10"
  },
  "orig_nbformat": 4,
  "vscode": {
   "interpreter": {
    "hash": "7626a37170bde8cbd07d8d30684bdff5f1c1a26dbdf249b53898a22fb9c20fab"
   }
  }
 },
 "nbformat": 4,
 "nbformat_minor": 2
}
