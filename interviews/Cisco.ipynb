{
 "cells": [
  {
   "cell_type": "markdown",
   "metadata": {},
   "source": [
    "#### Leet Code 468. Validate IP Address\n",
    "\n",
    "Given a string queryIP, return \"IPv4\" if IP is a valid IPv4 address, \"IPv6\" if IP is a valid IPv6 address or \"Neither\" if IP is not a correct IP of any type.\n",
    "\n",
    "A valid IPv4 address is an IP in the form \"x1.x2.x3.x4\" where 0 <= xi <= 255 and xi cannot contain leading zeros. \n",
    "\n",
    "For example, \"192.168.1.1\" and \"192.168.1.0\" are valid IPv4 addresses while \"192.168.01.1\", \"192.168.1.00\", and \"192.168@1.1\" are invalid IPv4 addresses.\n",
    "\n",
    "Solution : https://leetcode.com/problems/validate-ip-address/discuss/95484/PythonJava-Easy-Understand-Solution"
   ]
  },
  {
   "cell_type": "code",
   "execution_count": 24,
   "metadata": {},
   "outputs": [],
   "source": [
    "class Solution:\n",
    "    def validIPAddress(self, queryIP: str) -> str:\n",
    "        \n",
    "        if queryIP.count(\".\") == 3 and self.isIPv4(queryIP):\n",
    "            return \"IPv4\"\n",
    "\n",
    "        if queryIP.count(\":\") == 7 and self.isIPv6(queryIP):\n",
    "            return \"IPv6\"\n",
    "    \n",
    "        return \"Neither\"\n",
    "    \n",
    "    def isIPv4(self, ip: str):\n",
    "        ipList = [x for x in ip.split(\".\")]\n",
    "        for i in ipList:\n",
    "            try: True if str(int(i)) == i and 0 <= int(i) <= 255 else False\n",
    "            except: return False\n",
    "\n",
    "    \n",
    "    def isIPv6(self, ip: str):\n",
    "        ipList = [x for x in ip.split(\":\")]\n",
    "        for i in ipList:\n",
    "            try: True if len(i) <=4 and int(i, 16) >=0 else False\n",
    "            except: return False"
   ]
  },
  {
   "cell_type": "code",
   "execution_count": 25,
   "metadata": {},
   "outputs": [
    {
     "data": {
      "text/plain": [
       "'Neither'"
      ]
     },
     "execution_count": 25,
     "metadata": {},
     "output_type": "execute_result"
    }
   ],
   "source": [
    "solution = Solution()\n",
    "solution.validIPAddress('1.1.1.1')"
   ]
  },
  {
   "cell_type": "markdown",
   "metadata": {},
   "source": [
    "### Chess Board\n",
    "Write a function that prints a chessboard pattern, with 'W' being white square and 'B' being black. Input is an integer that is the number of squares on the board. Output is a 2D char array. For example,\n",
    "input:\n",
    "2\n",
    "Output:\n",
    "W B\n",
    "B W\n",
    "The topmost left square is always 'W'."
   ]
  },
  {
   "cell_type": "code",
   "execution_count": 32,
   "metadata": {},
   "outputs": [],
   "source": [
    "def getChessBoard(dim: int):\n",
    "    chessboard = [['W']*dim for _ in range(dim)]\n",
    "\n",
    "    for i in range(dim * dim):\n",
    "        m, n = divmod(i, dim)\n",
    "\n",
    "        if (m + n) % 2:\n",
    "            chessboard[m][n] = 'B'\n",
    "    \n",
    "    return chessboard"
   ]
  },
  {
   "cell_type": "code",
   "execution_count": 35,
   "metadata": {},
   "outputs": [
    {
     "data": {
      "text/plain": [
       "[['W', 'B', 'W', 'B', 'W'],\n",
       " ['B', 'W', 'B', 'W', 'B'],\n",
       " ['W', 'B', 'W', 'B', 'W'],\n",
       " ['B', 'W', 'B', 'W', 'B'],\n",
       " ['W', 'B', 'W', 'B', 'W']]"
      ]
     },
     "execution_count": 35,
     "metadata": {},
     "output_type": "execute_result"
    }
   ],
   "source": [
    "getChessBoard(5)"
   ]
  },
  {
   "cell_type": "markdown",
   "metadata": {},
   "source": [
    "#### Validate Braces\n",
    "\n",
    "Given a string containing braces `{}[]()`. Check if the string is balanced. If yes,return how many braces thee are ad if not return -1"
   ]
  },
  {
   "cell_type": "code",
   "execution_count": 40,
   "metadata": {},
   "outputs": [],
   "source": [
    "class Solution:\n",
    "    def validBraces(self, str):\n",
    "        stack = []\n",
    "        charMap = { '}':'{',')':'(',']':'['}\n",
    "        count = 0\n",
    "\n",
    "        for char in str:\n",
    "            if char in charMap:\n",
    "                if stack and stack[-1] == charMap[char]:\n",
    "                    count += 1\n",
    "                    stack.pop()\n",
    "                else:\n",
    "                    return -1\n",
    "            else:\n",
    "                stack.append(char)\n",
    "        return count if len(stack) == 0 else -1"
   ]
  },
  {
   "cell_type": "code",
   "execution_count": 42,
   "metadata": {},
   "outputs": [
    {
     "data": {
      "text/plain": [
       "3"
      ]
     },
     "execution_count": 42,
     "metadata": {},
     "output_type": "execute_result"
    }
   ],
   "source": [
    "solution = Solution()\n",
    "solution.validBraces('{[()]}')"
   ]
  },
  {
   "cell_type": "markdown",
   "metadata": {},
   "source": [
    "#### Return Prime Number or Lowest Divisable\n",
    "\n",
    "find the prime number or else return loest divisor"
   ]
  },
  {
   "cell_type": "code",
   "execution_count": 4,
   "metadata": {},
   "outputs": [],
   "source": [
    "def isPrime(num: int):\n",
    "    flag = True\n",
    "    if num > 1:\n",
    "        # checkfor factors\n",
    "        for i in range(2, num):\n",
    "            if (num % i) == 0:\n",
    "                print(f\"{num} is not a prime number\")\n",
    "                print(f\" {i} times {num//i} is {num}\")\n",
    "                flag = False\n",
    "                break\n",
    "        if flag == False:\n",
    "            return i\n",
    "        else:\n",
    "            print(f\"{num} is a prime number\")\n",
    "            return 1"
   ]
  },
  {
   "cell_type": "code",
   "execution_count": 5,
   "metadata": {},
   "outputs": [
    {
     "name": "stdout",
     "output_type": "stream",
     "text": [
      "407 is not a prime number\n",
      " 11 times 37 is 407\n"
     ]
    },
    {
     "data": {
      "text/plain": [
       "11"
      ]
     },
     "execution_count": 5,
     "metadata": {},
     "output_type": "execute_result"
    }
   ],
   "source": [
    "isPrime(407)"
   ]
  }
 ],
 "metadata": {
  "kernelspec": {
   "display_name": "Python 3.8.10 ('vmlimpl')",
   "language": "python",
   "name": "python3"
  },
  "language_info": {
   "codemirror_mode": {
    "name": "ipython",
    "version": 3
   },
   "file_extension": ".py",
   "mimetype": "text/x-python",
   "name": "python",
   "nbconvert_exporter": "python",
   "pygments_lexer": "ipython3",
   "version": "3.8.10"
  },
  "orig_nbformat": 4,
  "vscode": {
   "interpreter": {
    "hash": "7626a37170bde8cbd07d8d30684bdff5f1c1a26dbdf249b53898a22fb9c20fab"
   }
  }
 },
 "nbformat": 4,
 "nbformat_minor": 2
}
