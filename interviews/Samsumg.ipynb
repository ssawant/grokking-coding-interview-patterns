{
 "cells": [
  {
   "cell_type": "code",
   "execution_count": 83,
   "metadata": {},
   "outputs": [],
   "source": [
    "class Node:\n",
    "    def __init__(self, value):\n",
    "        self.value = value\n",
    "        self.next = None\n",
    "\n",
    "class MyLinkedList:\n",
    "    def __init__(self):\n",
    "        self.head = None\n",
    "    \n",
    "    def addHead(self, value):\n",
    "        new_head = Node(value)\n",
    "        new_head.next = self.head\n",
    "        self.head = new_head\n",
    "    \n",
    "    def addTail(self, value):\n",
    "        if self.head is None:\n",
    "            self.head = Node(value)\n",
    "            return\n",
    "            \n",
    "        tail = self.head\n",
    "        while tail.next is not None:\n",
    "            tail = tail.next\n",
    "        tail.next = Node(value)\n",
    "\n",
    "    def delIndex(self, value):\n",
    "        curr, prev = self.head, None\n",
    "\n",
    "        if curr is None:\n",
    "            return\n",
    "        \n",
    "        if curr.value == value:\n",
    "            self.head = curr.next\n",
    "            return\n",
    "            \n",
    "        while curr.next is not None and curr.value != value:\n",
    "            prev = curr\n",
    "            curr = curr.next\n",
    "\n",
    "        if curr.value == value and curr.next is None:\n",
    "            prev.next = None\n",
    "            return\n",
    "        elif curr.value == value and curr.next is not None:\n",
    "            prev.next = curr.next\n",
    "            return\n",
    "\n",
    "    def printLL(self):\n",
    "        curr = self.head\n",
    "        while(curr):\n",
    "            print(curr.value, end=\" \")\n",
    "            curr = curr.next\n",
    "        print()\n",
    "    \n",
    "    def __len__(self):\n",
    "        curr, count = self.head, 0\n",
    "\n",
    "        while(curr):\n",
    "            count += 1\n",
    "            curr = curr.next\n",
    "        return count"
   ]
  },
  {
   "cell_type": "code",
   "execution_count": 84,
   "metadata": {},
   "outputs": [
    {
     "name": "stdout",
     "output_type": "stream",
     "text": [
      "5 1 2 3 4 \n",
      "5 1 2 3 \n",
      "5 1 3 \n",
      "1 3 \n"
     ]
    },
    {
     "data": {
      "text/plain": [
       "2"
      ]
     },
     "execution_count": 84,
     "metadata": {},
     "output_type": "execute_result"
    }
   ],
   "source": [
    "head = MyLinkedList()\n",
    "head.addTail(1)\n",
    "head.addTail(2)\n",
    "head.addTail(3)\n",
    "head.addTail(4)\n",
    "\n",
    "#head.delIndex(2)\n",
    "head.addHead(5)\n",
    "head.printLL()\n",
    "head.delIndex(4)\n",
    "head.printLL()\n",
    "head.delIndex(2)\n",
    "head.printLL()\n",
    "head.delIndex(5)\n",
    "head.printLL()\n",
    "len(head)"
   ]
  }
 ],
 "metadata": {
  "kernelspec": {
   "display_name": "vmlimpl",
   "language": "python",
   "name": "vmlimpl"
  },
  "language_info": {
   "codemirror_mode": {
    "name": "ipython",
    "version": 3
   },
   "file_extension": ".py",
   "mimetype": "text/x-python",
   "name": "python",
   "nbconvert_exporter": "python",
   "pygments_lexer": "ipython3",
   "version": "3.8.10"
  },
  "orig_nbformat": 4
 },
 "nbformat": 4,
 "nbformat_minor": 2
}
