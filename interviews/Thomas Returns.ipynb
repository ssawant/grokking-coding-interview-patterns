{
 "cells": [
  {
   "cell_type": "code",
   "execution_count": 3,
   "metadata": {},
   "outputs": [],
   "source": [
    "### Prime or Not\n",
    "\n",
    "def isPrime(n: int) -> int:\n",
    "    flag = True\n",
    "    if n < 2:\n",
    "        return 1\n",
    "    for i in range(2, n):\n",
    "        if n % i == 0:\n",
    "            flag = False\n",
    "            break\n",
    "    if flag == False:\n",
    "        return i\n",
    "    else:\n",
    "        return 1"
   ]
  },
  {
   "cell_type": "code",
   "execution_count": 4,
   "metadata": {},
   "outputs": [
    {
     "name": "stdout",
     "output_type": "stream",
     "text": [
      "11\n"
     ]
    }
   ],
   "source": [
    "print(isPrime(407))"
   ]
  },
  {
   "cell_type": "markdown",
   "metadata": {},
   "source": [
    "Given array count the number which will be removed to make array balanced\n",
    "\n",
    "Array will be balanced if sum of even index element equal to sum of odd index element is equal\n",
    "\n",
    "for ex : arr ={2,1,6,4}\n",
    "\n",
    "after deleting 1 from array : {2,6,4}\n",
    "\n",
    "(2+4)=(6)\n",
    "\n",
    "hence count is 1\n",
    "\n",
    "for ex : arr = {5,5,2,5,8}\n",
    "\n",
    "if we delete arr[0] or arr[1] , array will be balanced\n",
    "\n",
    "(5+5)==(2+8)\n",
    "\n",
    "so count is 2 --> arr[0],arr[1]\n",
    "\n",
    "https://www.geeksforgeeks.org/count-ways-to-make-sum-of-odd-and-even-indexed-elements-equal-by-removing-an-array-element/"
   ]
  },
  {
   "cell_type": "code",
   "execution_count": 12,
   "metadata": {},
   "outputs": [],
   "source": [
    "### Balanced Array\n",
    "from __future__ import annotations\n",
    "\n",
    "def balanceArr(arr: List[int]) -> int:\n",
    "    n = len(arr)\n",
    "    \n",
    "    if n == 1:\n",
    "        return 1\n",
    "    \n",
    "    if n == 2:\n",
    "        return 0\n",
    "\n",
    "    even, odd = 0, 0\n",
    "    \n",
    "    for i in range(n):\n",
    "        if i % 2 == 0:\n",
    "            even += arr[i]\n",
    "        else:\n",
    "            odd += arr[i]\n",
    "        \n",
    "    currOdd, currEven = 0 , arr[0]\n",
    "    res = 0\n",
    "    newEvenSum, newOddSum = 0, 0\n",
    "    for i in range(1, n -1):\n",
    "        if i % 2:\n",
    "            currOdd += arr[i]\n",
    "            newEvenSum = (currEven + odd - currOdd)\n",
    "            newOddSum = (currOdd + even - currEven - arr[i])\n",
    "        else:\n",
    "            currEven += arr[i]\n",
    "            newOddSum = (currOdd + even - currEven)\n",
    "            newEvenSum = (currEven + odd - currOdd - arr[i])\n",
    "        \n",
    "        if newEvenSum == newOddSum:\n",
    "            res += 1\n",
    "    \n",
    "    if odd == even - arr[0]:\n",
    "        res += 1\n",
    "    \n",
    "    if n % 2 == 1:\n",
    "        if odd == even - arr[n-1]:\n",
    "            res += 1\n",
    "    else:\n",
    "        if even == odd - arr[n-1]:\n",
    "            res += 1\n",
    "\n",
    "    return res"
   ]
  },
  {
   "cell_type": "code",
   "execution_count": 13,
   "metadata": {},
   "outputs": [
    {
     "name": "stdout",
     "output_type": "stream",
     "text": [
      "1\n"
     ]
    }
   ],
   "source": [
    "print(balanceArr([2,1,6,4]))"
   ]
  },
  {
   "cell_type": "markdown",
   "metadata": {},
   "source": [
    "#### Merged Intervals"
   ]
  },
  {
   "cell_type": "code",
   "execution_count": 14,
   "metadata": {},
   "outputs": [],
   "source": [
    "class Solution:\n",
    "    def merge(self, intervals: List[List[int]]) -> List[List[int]]:\n",
    "        intervals.sort()\n",
    "        merged = []\n",
    "        for i in range(len(intervals)):\n",
    "            if merged == []:\n",
    "                merged.append(intervals[i])\n",
    "            else:\n",
    "                previous_end = merged[-1][1]\n",
    "                current_start = intervals[i][0]\n",
    "                current_end = intervals[i][1]\n",
    "                if previous_end >= current_start: # overlap\n",
    "                    merged[-1][1] = max(previous_end,current_end)\n",
    "                else:\n",
    "                    merged.append(intervals[i])\n",
    "        return merged"
   ]
  },
  {
   "cell_type": "code",
   "execution_count": 15,
   "metadata": {},
   "outputs": [
    {
     "data": {
      "text/plain": [
       "[[1, 5], [7, 9]]"
      ]
     },
     "execution_count": 15,
     "metadata": {},
     "output_type": "execute_result"
    }
   ],
   "source": [
    "solution = Solution()\n",
    "solution.merge([[1,4],[2,5],[7,9]])"
   ]
  },
  {
   "cell_type": "markdown",
   "metadata": {},
   "source": [
    "#### Circular Printer"
   ]
  },
  {
   "cell_type": "code",
   "execution_count": 21,
   "metadata": {},
   "outputs": [],
   "source": [
    "class Solution:\n",
    "    def getTime(self, string: str) -> int:\n",
    "        out = 0\n",
    "        prev_char = \"A\"\n",
    "        for ch in string:\n",
    "            gap = min((ord(ch) - ord(prev_char)) % 26, (-ord(ch) + ord(prev_char)) % 26)\n",
    "            prev_char = ch\n",
    "            out += gap\n",
    "        return out"
   ]
  },
  {
   "cell_type": "code",
   "execution_count": 22,
   "metadata": {},
   "outputs": [
    {
     "data": {
      "text/plain": [
       "4"
      ]
     },
     "execution_count": 22,
     "metadata": {},
     "output_type": "execute_result"
    }
   ],
   "source": [
    "solution = Solution()\n",
    "solution.getTime(\"BZA\")"
   ]
  },
  {
   "cell_type": "markdown",
   "metadata": {},
   "source": [
    "#### Fun with Vowels [V2]"
   ]
  },
  {
   "cell_type": "code",
   "execution_count": 25,
   "metadata": {},
   "outputs": [],
   "source": [
    "def longestBeautifulSubstring(word: str) -> int:  \n",
    "    seen = set()\n",
    "    lo, longest = -1, 0\n",
    "    for hi, c in enumerate(word):\n",
    "        if hi > 0 and c < word[hi - 1]:\n",
    "            seen = set()\n",
    "            lo = hi - 1    \n",
    "        seen.add(c)    \n",
    "        if len(seen) == 5:\n",
    "            longest = max(longest, hi - lo)\n",
    "    return longest"
   ]
  },
  {
   "cell_type": "code",
   "execution_count": 26,
   "metadata": {},
   "outputs": [
    {
     "data": {
      "text/plain": [
       "13"
      ]
     },
     "execution_count": 26,
     "metadata": {},
     "output_type": "execute_result"
    }
   ],
   "source": [
    "longestBeautifulSubstring('aeiaaioaaaaeiiiiouuuoaauuaeiu')"
   ]
  },
  {
   "cell_type": "markdown",
   "metadata": {},
   "source": [
    "#### Subsequence of Size K With the Largest Even Sum LeetCode Solution"
   ]
  },
  {
   "cell_type": "code",
   "execution_count": 29,
   "metadata": {},
   "outputs": [],
   "source": [
    "def solve(a):\n",
    "    return max((sum(x <= y <= X for y in a)\n",
    "                for r in (0, 1)\n",
    "                for xs in [[x for x in a if x % 2 == r]]\n",
    "                if xs\n",
    "                for x, X in [(min(xs), max(xs))]),\n",
    "               default=0)"
   ]
  },
  {
   "cell_type": "code",
   "execution_count": 31,
   "metadata": {},
   "outputs": [
    {
     "data": {
      "text/plain": [
       "6"
      ]
     },
     "execution_count": 31,
     "metadata": {},
     "output_type": "execute_result"
    }
   ],
   "source": [
    "solve([7,5,6,2,3,2,4])"
   ]
  },
  {
   "cell_type": "markdown",
   "metadata": {},
   "source": [
    "#### Maximum Occurring Character\n"
   ]
  },
  {
   "cell_type": "code",
   "execution_count": 27,
   "metadata": {},
   "outputs": [],
   "source": [
    "def maximumOccurringCharacter(text: str) -> str:\n",
    "    count, max = {}, 0\n",
    "    for c in text:\n",
    "        count[c] = count.get(c, 0) + 1\n",
    "        if count[c] > max: max = count[c]\n",
    "    for c in text:\n",
    "        if count[c] == max: return c"
   ]
  },
  {
   "cell_type": "code",
   "execution_count": 28,
   "metadata": {},
   "outputs": [
    {
     "data": {
      "text/plain": [
       "'a'"
      ]
     },
     "execution_count": 28,
     "metadata": {},
     "output_type": "execute_result"
    }
   ],
   "source": [
    "maximumOccurringCharacter(\"abbbaacc\")"
   ]
  }
 ],
 "metadata": {
  "kernelspec": {
   "display_name": "Python 3.8.10 ('vmlimpl')",
   "language": "python",
   "name": "python3"
  },
  "language_info": {
   "codemirror_mode": {
    "name": "ipython",
    "version": 3
   },
   "file_extension": ".py",
   "mimetype": "text/x-python",
   "name": "python",
   "nbconvert_exporter": "python",
   "pygments_lexer": "ipython3",
   "version": "3.8.10"
  },
  "orig_nbformat": 4,
  "vscode": {
   "interpreter": {
    "hash": "7626a37170bde8cbd07d8d30684bdff5f1c1a26dbdf249b53898a22fb9c20fab"
   }
  }
 },
 "nbformat": 4,
 "nbformat_minor": 2
}
