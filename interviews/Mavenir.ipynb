{
 "cells": [
  {
   "cell_type": "markdown",
   "metadata": {},
   "source": [
    "Given an array of integers, find two numbers such that they add up to a specific target number.\n",
    "\n",
    "The function twoSum should return indices of the two numbers such that they add up to the target, where index1 must be less than index2. Please note that your returned answers (both index1 and index2) are not zero-based.\n",
    "\n",
    "You may assume that each input would have exactly one solution.\n",
    "\n",
    "```\n",
    "Problem : [2,3,4,5,6]  Target : 7\n",
    "Output: [[1,2], [0,3]]\n",
    "\n",
    "\n",
    "```"
   ]
  },
  {
   "cell_type": "code",
   "execution_count": 26,
   "metadata": {
    "vscode": {
     "languageId": "python"
    }
   },
   "outputs": [],
   "source": [
    "def find_two_sum_target(arr, target):\n",
    "    curr_sum = 0\n",
    "    left, right = 0 , len(arr)-1\n",
    "    result = []\n",
    "\n",
    "    while right > left:\n",
    "        curr_sum = arr[right] + arr[left]\n",
    "\n",
    "        if curr_sum > target:\n",
    "            right -= 1\n",
    "        \n",
    "        if curr_sum < target:\n",
    "            left += 1\n",
    "        \n",
    "        if curr_sum == target:\n",
    "            result.append([left, right])\n",
    "            curr_sum = 0\n",
    "            left += 1\n",
    "    \n",
    "    return result"
   ]
  },
  {
   "cell_type": "code",
   "execution_count": 10,
   "metadata": {
    "vscode": {
     "languageId": "python"
    }
   },
   "outputs": [],
   "source": [
    "def naive_two_sum_target(arr, target):\n",
    "    result = []\n",
    "\n",
    "    for i in range(len(arr)):\n",
    "        for j in range(i, len(arr)):\n",
    "            curr_sum = arr[i] + arr[j]\n",
    "            if curr_sum == target:\n",
    "                if i != j:\n",
    "                    result.append([i,j])\n",
    "    \n",
    "    return result"
   ]
  },
  {
   "cell_type": "code",
   "execution_count": 11,
   "metadata": {
    "vscode": {
     "languageId": "python"
    }
   },
   "outputs": [
    {
     "name": "stdout",
     "output_type": "stream",
     "text": [
      "[[0, 6], [0, 7], [6, 7]]\n"
     ]
    }
   ],
   "source": [
    "print(naive_two_sum_target(arr=[20,22,100,25,6,10,20,20,45], target=40))"
   ]
  }
 ],
 "metadata": {
  "kernelspec": {
   "display_name": "vmlimpl",
   "language": "python",
   "name": "vmlimpl"
  },
  "orig_nbformat": 4
 },
 "nbformat": 4,
 "nbformat_minor": 2
}
