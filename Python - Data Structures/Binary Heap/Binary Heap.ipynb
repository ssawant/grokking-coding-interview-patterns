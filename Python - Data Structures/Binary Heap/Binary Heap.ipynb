{
 "cells": [
  {
   "cell_type": "markdown",
   "metadata": {},
   "source": [
    "## Binary Heap\n",
    "- Used in heapSort\n",
    "- Used to implement Priority Queue\n",
    "- Two type of Binary heap\n",
    "    - Min Heap \\\n",
    "    Highest priority item is assigned lowest value\n",
    "    - Max Heap \\\n",
    "    Highest priority item is assigned highest value\n",
    "- Binary Heap is a complete binary tree. i.e, all level are fill and last level is partially filled but should be fill from left to right with no gap\n",
    "- Binary Heap is store as **array**\n",
    "    - `left(i) = 2i + 1`\n",
    "    - `right(i) = 2i + 2`\n",
    "    - `parent(i) = ((i-1)/2)`\n",
    "\n",
    "### Min Heap\n",
    "- Complete Binary Tree\n",
    "- Every node has value smaller than its decendants. i.e, every child node is greate than its parent\n",
    "\n",
    "* *Time Complexity* : `O(logn)`\n",
    "* *Auxiliary Space* : `O(1)`"
   ]
  },
  {
   "cell_type": "code",
   "execution_count": 9,
   "metadata": {},
   "outputs": [],
   "source": [
    "import math\n",
    "\n",
    "class MyMinHeap:\n",
    "    def __init__(self):\n",
    "        self.arr = []\n",
    "    \n",
    "    def parent(self, i):\n",
    "        return (i-1)//2\n",
    "    \n",
    "    def lchild(self, i):\n",
    "        return (2*i + 1)\n",
    "    \n",
    "    def rchild(self, i):\n",
    "        return (2*i + 2)\n",
    "    \n",
    "    def insert(self, x):\n",
    "        arr = self.arr\n",
    "        arr.append(x)\n",
    "        i = len(arr) - 1\n",
    "        while i > 0 and arr[self.parent(i)] > arr[i]:\n",
    "            p = self.parent(i)\n",
    "            arr[i], arr[p] = arr[p], arr[i]\n",
    "            i = p\n",
    "    \n",
    "    def min_heapify(self, i):\n",
    "        arr = self.arr\n",
    "        lt = self.lchild(i)\n",
    "        rt = self.rchild(i)\n",
    "        smallest = i\n",
    "        n = len(arr)\n",
    "        if lt < n and arr[lt] < arr[smallest]:\n",
    "            smallest = lt\n",
    "        if rt < n and arr[rt] < arr[smallest]:\n",
    "            smallest = rt \n",
    "        if smallest != i:\n",
    "            arr[smallest], arr[i] = arr[i], arr[smallest]\n",
    "            self.min_heapify(smallest)\n",
    "    \n",
    "    def extract_min(self):\n",
    "        arr = self.arr\n",
    "        n = len(arr) -1\n",
    "        if n < 0:\n",
    "            return math.inf\n",
    "        result = arr[0]\n",
    "        arr[0] = arr[n] # move the last element to first\n",
    "        arr.pop()\n",
    "        self.min_heapify(arr[0])\n",
    "        return result"
   ]
  },
  {
   "cell_type": "markdown",
   "metadata": {},
   "source": [
    "#### Extract Min and Heapify"
   ]
  }
 ],
 "metadata": {
  "kernelspec": {
   "display_name": "vmlimpl",
   "language": "python",
   "name": "vmlimpl"
  },
  "language_info": {
   "codemirror_mode": {
    "name": "ipython",
    "version": 3
   },
   "file_extension": ".py",
   "mimetype": "text/x-python",
   "name": "python",
   "nbconvert_exporter": "python",
   "pygments_lexer": "ipython3",
   "version": "3.8.10"
  },
  "orig_nbformat": 4
 },
 "nbformat": 4,
 "nbformat_minor": 2
}
