{
 "cells": [
  {
   "cell_type": "markdown",
   "metadata": {},
   "source": [
    "## Binary Heap\n",
    "- Used in heapSort\n",
    "- Used to implement Priority Queue\n",
    "- Two type of Binary heap\n",
    "    - Min Heap \\\n",
    "    Highest priority item is assigned lowest value\n",
    "    - Max Heap \\\n",
    "    Highest priority item is assigned highest value\n",
    "- Binary Heap is a complete binary tree. i.e, all level are fill and last level is partially filled but should be fill from left to right with no gap\n",
    "- Binary Heap is store as **array**\n",
    "    - `left(i) = 2i + 1`\n",
    "    - `right(i) = 2i + 2`\n",
    "    - `parent(i) = ((i-1)/2)`\n",
    "\n",
    "### Min Heap\n",
    "- Complete Binary Tree\n",
    "- Every node has value smaller than its decendants. i.e, every child node is greate than its parent\n",
    "\n",
    "* *Time Complexity* : `O(logn)`\n",
    "* *Auxiliary Space* : `O(1)`"
   ]
  },
  {
   "cell_type": "code",
   "execution_count": 9,
   "metadata": {
    "vscode": {
     "languageId": "python"
    }
   },
   "outputs": [],
   "source": [
    "import math\n",
    "\n",
    "class MyMinHeap:\n",
    "    def __init__(self):\n",
    "        self.arr = []\n",
    "    \n",
    "    def parent(self, i):\n",
    "        return (i-1)//2\n",
    "    \n",
    "    def lchild(self, i):\n",
    "        return (2*i + 1)\n",
    "    \n",
    "    def rchild(self, i):\n",
    "        return (2*i + 2)\n",
    "    \n",
    "    def insert(self, x):\n",
    "        arr = self.arr\n",
    "        arr.append(x)\n",
    "        i = len(arr) - 1\n",
    "        while i > 0 and arr[self.parent(i)] > arr[i]:\n",
    "            p = self.parent(i)\n",
    "            arr[i], arr[p] = arr[p], arr[i]\n",
    "            i = p\n",
    "    \n",
    "    def min_heapify(self, i):\n",
    "        arr = self.arr\n",
    "        lt = self.lchild(i)\n",
    "        rt = self.rchild(i)\n",
    "        smallest = i\n",
    "        n = len(arr)\n",
    "        if lt < n and arr[lt] < arr[smallest]:\n",
    "            smallest = lt\n",
    "        if rt < n and arr[rt] < arr[smallest]:\n",
    "            smallest = rt \n",
    "        if smallest != i:\n",
    "            arr[smallest], arr[i] = arr[i], arr[smallest]\n",
    "            self.min_heapify(smallest)\n",
    "    \n",
    "    def extract_min(self):\n",
    "        arr = self.arr\n",
    "        n = len(arr) -1\n",
    "        if n < 0:\n",
    "            return math.inf\n",
    "        result = arr[0]\n",
    "        arr[0] = arr[n] # move the last element to first\n",
    "        arr.pop()\n",
    "        self.min_heapify(arr[0])\n",
    "        return result\n",
    "    \n",
    "    def decrease_key(self, i, x):\n",
    "        arr = self.arr\n",
    "        arr[i] = x\n",
    "        while i != 0 and arr[self.parent(i)] > arr[i]:\n",
    "            p = self.parent(i)\n",
    "            arr[i], arr[p] = arr[p], arr[i]\n",
    "            i = p\n",
    "    \n",
    "    def delete_key(self, i):\n",
    "        n = len(self.arr)\n",
    "        if i > n:\n",
    "            return\n",
    "        else:\n",
    "            self.decrease_key(i, -math.inf)\n",
    "            self.extract_min()"
   ]
  },
  {
   "cell_type": "markdown",
   "metadata": {},
   "source": [
    "#### Build Heap\n",
    "\n",
    "- *Time Complexity*: `O(N)`\n",
    "- *Auxiliary Space*: `O(1)`"
   ]
  },
  {
   "cell_type": "code",
   "execution_count": 11,
   "metadata": {
    "vscode": {
     "languageId": "python"
    }
   },
   "outputs": [],
   "source": [
    "class BuildMinHeap:\n",
    "    def __init__(self, arr=[]):\n",
    "        self.arr = arr\n",
    "        i = (len(arr)-2)//2\n",
    "        while i >= 0:\n",
    "            self.min_heapify(i)\n",
    "            i = i-1\n",
    "    \n",
    "    def min_heapify(self, i):\n",
    "        arr = self.arr\n",
    "        lt = self.lchild(i)\n",
    "        rt = self.rchild(i)\n",
    "        smallest = i\n",
    "        n = len(arr)\n",
    "        if lt < n and arr[lt] < arr[smallest]:\n",
    "            smallest = lt\n",
    "        if rt < n and arr[rt] < arr[smallest]:\n",
    "            smallest = rt \n",
    "        if smallest != i:\n",
    "            arr[smallest], arr[i] = arr[i], arr[smallest]\n",
    "            self.min_heapify(smallest)"
   ]
  },
  {
   "cell_type": "markdown",
   "metadata": {},
   "source": [
    "#### Heap queue (MinHeap Python Implementation)\n",
    "*Always usefull for solving `nlargest` and `nsmallest` problem*"
   ]
  },
  {
   "cell_type": "code",
   "execution_count": 23,
   "metadata": {
    "vscode": {
     "languageId": "python"
    }
   },
   "outputs": [
    {
     "name": "stdout",
     "output_type": "stream",
     "text": [
      "[1, 4, 5, 30, 20]\n",
      "[1, 4, 3, 30, 20, 5]\n",
      "1\n",
      "[3, 4, 5, 30, 20]\n",
      "[30, 20]\n",
      "[3, 4]\n",
      "2\n",
      "3\n",
      "[-1, 4, 5, 30, 20]\n"
     ]
    }
   ],
   "source": [
    "import heapq\n",
    "\n",
    "pq = [5, 20, 1, 30, 4]\n",
    "heapq.heapify(pq)\n",
    "print(pq)\n",
    "heapq.heappush(pq, 3) # insert\n",
    "print(pq) \n",
    "print(heapq.heappop(pq)) # extract minimum\n",
    "print(pq)\n",
    "print(heapq.nlargest(2, pq)) # get 2 largest element\n",
    "print(heapq.nsmallest(2, pq))  # get 2 smallest element\n",
    "\n",
    "print(heapq.heappushpop(pq, 2))\n",
    "print(heapq.heapreplace(pq, -1))\n",
    "print(pq)\n"
   ]
  }
 ],
 "metadata": {
  "kernelspec": {
   "display_name": "vmlimpl",
   "language": "python",
   "name": "vmlimpl"
  },
  "orig_nbformat": 4
 },
 "nbformat": 4,
 "nbformat_minor": 2
}
