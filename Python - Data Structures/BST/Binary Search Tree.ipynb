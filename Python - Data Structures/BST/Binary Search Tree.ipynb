{
 "cells": [
  {
   "cell_type": "markdown",
   "metadata": {},
   "source": [
    "### Binary Search Tree  (BST)\n",
    "\n",
    "A Binary tree is called Binary Search Tree if\n",
    "* for Every node, key in the left side are smaller, and key in the right side are greater.\n",
    "* all keys are distinct\n",
    "* linked data structure\n",
    "\n",
    "*Balance Binary Search Tree*\n",
    "- AVL tree\n",
    "- Red Black tree"
   ]
  },
  {
   "cell_type": "code",
   "execution_count": 12,
   "metadata": {},
   "outputs": [],
   "source": [
    "class Node:\n",
    "    def __init__(self, value):\n",
    "        self.value = value\n",
    "        self.left, self.right = None, None"
   ]
  },
  {
   "cell_type": "markdown",
   "metadata": {},
   "source": [
    "#### Search in BST\n",
    "\n",
    "For `recursive BST`\n",
    "- *Time Complexity* : O(h)\n",
    "- *Auxiliary Space* : O(h)\n",
    "\n",
    "For `Iterative BST`\n",
    "- *Time Complexity* : O(h)\n",
    "- *Auxiliary Space*: O(1)"
   ]
  },
  {
   "cell_type": "code",
   "execution_count": 16,
   "metadata": {},
   "outputs": [],
   "source": [
    "# Recursive BST\n",
    "def bst_search(root, key):\n",
    "    if root is None:\n",
    "        return False\n",
    "    elif root.value == key:\n",
    "        return True\n",
    "    elif root.value < key:\n",
    "        return bst_search(root.right, key)\n",
    "    else:\n",
    "        return bst_search(root.left, key)"
   ]
  },
  {
   "cell_type": "code",
   "execution_count": 47,
   "metadata": {},
   "outputs": [],
   "source": [
    "# Driver code\n",
    "root = Node(40)\n",
    "root.left = Node(20)\n",
    "root.right = Node(80)\n",
    "root.left.left = Node(8)\n",
    "root.left.right = Node(30)\n",
    "root.right.right = Node(100)\n",
    "root.right.left = Node(60)\n",
    "root.right.right.right = Node(120)"
   ]
  },
  {
   "cell_type": "code",
   "execution_count": 18,
   "metadata": {},
   "outputs": [],
   "source": [
    "# Iterative BST\n",
    "def search_bst(root, key):\n",
    "    while root is not None:\n",
    "        if root.value == key:\n",
    "            return True\n",
    "        elif root.value > key:\n",
    "            root = root.left\n",
    "        else:\n",
    "            root = root.right\n",
    "    return False"
   ]
  },
  {
   "cell_type": "code",
   "execution_count": 19,
   "metadata": {},
   "outputs": [
    {
     "name": "stdout",
     "output_type": "stream",
     "text": [
      "Is the given key 100 present in BST ? Yes\n"
     ]
    }
   ],
   "source": [
    "key = 100\n",
    "print(f\"Is the given key {key} present in BST ? {'Yes' if search_bst(root, key) else 'No'}\")"
   ]
  },
  {
   "cell_type": "markdown",
   "metadata": {},
   "source": [
    "#### Insert in BST\n",
    "\n",
    "**Use same Insert func to create a BST from an array**\n",
    "\n",
    "For `recursive BST`\n",
    "- *Time Complexity* : O(h)\n",
    "- *Auxiliary Space* : O(h)\n",
    "\n",
    "For `Iterative BST`\n",
    "- *Time Complexity* : O(h)\n",
    "- *Auxiliary Space*: O(1)"
   ]
  },
  {
   "cell_type": "code",
   "execution_count": 26,
   "metadata": {},
   "outputs": [],
   "source": [
    "# Recursive Implementation\n",
    "def insert_bst(root, key):\n",
    "    if root is None:\n",
    "        return Node(key)\n",
    "    elif root.value == key:\n",
    "        return root\n",
    "    elif root.value > key:\n",
    "        root.left = insert_bst(root.left, key) # important to assign return to root.left or root.right\n",
    "    else:\n",
    "        root.right = insert_bst(root.right, key)\n",
    "    return root"
   ]
  },
  {
   "cell_type": "code",
   "execution_count": 27,
   "metadata": {},
   "outputs": [],
   "source": [
    "# Iterative Implementation\n",
    "def bst_insert(root, key):\n",
    "    current = root\n",
    "    parent = None\n",
    "\n",
    "    while current is not None:\n",
    "        parent = current\n",
    "        if current.value == key:\n",
    "            return root\n",
    "        elif current.value > key:\n",
    "            current = current.left\n",
    "        else:\n",
    "            current = current.right\n",
    "    \n",
    "    if parent is None:  # For empty tree\n",
    "        return Node(key)\n",
    "    if parent.value > key:\n",
    "        parent.left = Node(key)\n",
    "    else:\n",
    "        parent.right = Node(key)\n",
    "\n",
    "    return root"
   ]
  },
  {
   "cell_type": "code",
   "execution_count": 31,
   "metadata": {},
   "outputs": [],
   "source": [
    "#result = insert_bst(root, 4)\n",
    "result = bst_insert(root, 4)"
   ]
  },
  {
   "cell_type": "code",
   "execution_count": 32,
   "metadata": {},
   "outputs": [],
   "source": [
    "def inorder(root):\n",
    "    if root is not None:\n",
    "        inorder(root.left)\n",
    "        print(root.value, end=' ')\n",
    "        inorder(root.right)"
   ]
  },
  {
   "cell_type": "code",
   "execution_count": 34,
   "metadata": {},
   "outputs": [
    {
     "name": "stdout",
     "output_type": "stream",
     "text": [
      "Inorder traversal of given tress is 4 8 20 30 40 60 80 100 120 "
     ]
    }
   ],
   "source": [
    "print(\"Inorder traversal of given tress is\", end=' ')\n",
    "inorder(root)"
   ]
  },
  {
   "cell_type": "markdown",
   "metadata": {},
   "source": [
    "#### Delete in BST\n",
    "\n",
    "\n",
    "For `recursive BST`\n",
    "- *Time Complexity* : O(h)\n",
    "- *Auxiliary Space* : O(h)\n",
    "\n",
    "For `Iterative BST`\n",
    "- *Time Complexity* : O(h)\n",
    "- *Auxiliary Space*: O(1)"
   ]
  },
  {
   "cell_type": "code",
   "execution_count": 49,
   "metadata": {},
   "outputs": [],
   "source": [
    "# Recursive Implementation\n",
    "\n",
    "def get_succession(current, key):\n",
    "    \"\"\"\n",
    "    Find sucession from BST right side i.e minimum value in the right (maximum) value subtree\n",
    "    \"\"\"\n",
    "    while current.left is not None:\n",
    "        current = current.left\n",
    "    return current.value\n",
    "\n",
    "def del_node_bst(root, key):\n",
    "    if root is None:\n",
    "        return\n",
    "    elif root.value > key:\n",
    "        root.left = del_node_bst(root.left, key)\n",
    "    elif root.value < key:\n",
    "        root.right = del_node_bst(root.right, key)\n",
    "    else:\n",
    "        if root.left is None: \n",
    "            return root.right\n",
    "        elif root.right is None:\n",
    "            return root.left\n",
    "        else: # when both left and right is not null\n",
    "            succession = get_succession(root.right, key)\n",
    "            root.value = succession\n",
    "            root.right = del_node_bst(root.right, succession) # now delete the sucession node\n",
    "    \n",
    "    return root"
   ]
  },
  {
   "cell_type": "code",
   "execution_count": 48,
   "metadata": {},
   "outputs": [
    {
     "name": "stdout",
     "output_type": "stream",
     "text": [
      "BST before the deletion of key 80\n",
      "8 20 30 40 60 80 100 120 \n",
      "BST after the deletion of key 80\n",
      "8 20 30 40 60 100 120 "
     ]
    }
   ],
   "source": [
    "key = 80\n",
    "print(f\"BST before the deletion of key {key}\")\n",
    "inorder(root)\n",
    "print()\n",
    "print(f\"BST after the deletion of key {key}\")\n",
    "del_node_bst(root, key)\n",
    "inorder(root)"
   ]
  },
  {
   "cell_type": "markdown",
   "metadata": {},
   "source": [
    "#TODO\n",
    "- Floor of BST\n",
    "- Ceiling of BST"
   ]
  }
 ],
 "metadata": {
  "kernelspec": {
   "display_name": "vmlimpl",
   "language": "python",
   "name": "vmlimpl"
  },
  "language_info": {
   "codemirror_mode": {
    "name": "ipython",
    "version": 3
   },
   "file_extension": ".py",
   "mimetype": "text/x-python",
   "name": "python",
   "nbconvert_exporter": "python",
   "pygments_lexer": "ipython3",
   "version": "3.8.10"
  },
  "orig_nbformat": 4
 },
 "nbformat": 4,
 "nbformat_minor": 2
}
