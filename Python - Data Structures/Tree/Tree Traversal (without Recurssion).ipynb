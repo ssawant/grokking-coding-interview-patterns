{
 "cells": [
  {
   "cell_type": "markdown",
   "metadata": {},
   "source": [
    "#### Inorder traveral (without recurssion)\n",
    "\n",
    "- *Time Complexity*: O(N) \\\n",
    "Where `N` is number of Node\n",
    "\n",
    "- *Space Complexity*: O(h) \\\n",
    "Where `h` is height of the tree, ideally it is h+1"
   ]
  },
  {
   "cell_type": "code",
   "execution_count": 8,
   "metadata": {},
   "outputs": [],
   "source": [
    "class Node:\n",
    "    def __init__(self, value):\n",
    "        self.value = value\n",
    "        self.left, self.right = None, None"
   ]
  },
  {
   "cell_type": "code",
   "execution_count": 12,
   "metadata": {},
   "outputs": [],
   "source": [
    "def inorder(root):\n",
    "    if root is None:\n",
    "        return\n",
    "    current = root\n",
    "    stack = []\n",
    "\n",
    "    while current is not None:\n",
    "        stack.append(current)\n",
    "        current = current.left\n",
    "    \n",
    "    while len(stack) > 0:\n",
    "        current = stack.pop()\n",
    "        print(current.value,end=' ')\n",
    "        current = current.right\n",
    "\n",
    "        if current is not None:\n",
    "            stack.append(current)\n",
    "            current = current.left"
   ]
  },
  {
   "cell_type": "code",
   "execution_count": 13,
   "metadata": {},
   "outputs": [],
   "source": [
    "# Driver code\n",
    "root = Node(10)\n",
    "root.left = Node(20)\n",
    "root.right = Node(30)\n",
    "root.left.left = Node(40)\n",
    "root.left.right = Node(50)"
   ]
  },
  {
   "cell_type": "code",
   "execution_count": 14,
   "metadata": {},
   "outputs": [
    {
     "name": "stdout",
     "output_type": "stream",
     "text": [
      "Inorder traversal of given binary tree is  40 20 50 10 30 "
     ]
    }
   ],
   "source": [
    "print(\"Inorder traversal of given binary tree is \", end=' ')\n",
    "inorder(root)"
   ]
  },
  {
   "cell_type": "markdown",
   "metadata": {},
   "source": [
    "#### Pre-Order traversal of Binary Tree\n",
    "\n",
    "- *Time Complexity*: O(N) \\\n",
    "Where `N` is number of Node\n",
    "\n",
    "- *Space Complexity*: O(N)"
   ]
  },
  {
   "cell_type": "code",
   "execution_count": 22,
   "metadata": {},
   "outputs": [],
   "source": [
    "def preorder(root):\n",
    "    if root is None:\n",
    "        return\n",
    "    stack = [root]\n",
    "\n",
    "    while len(stack) > 0:\n",
    "        current = stack.pop()\n",
    "        print(current.value, end=' ')\n",
    "\n",
    "        if current.right is not None: # first push righ node than left as it is a stack\n",
    "            stack.append(current.right)\n",
    "        if current.left is not None:\n",
    "            stack.append(current.left)"
   ]
  },
  {
   "cell_type": "code",
   "execution_count": 20,
   "metadata": {},
   "outputs": [
    {
     "name": "stdout",
     "output_type": "stream",
     "text": [
      "10 20 40 50 30 "
     ]
    }
   ],
   "source": [
    "preorder(root)"
   ]
  }
 ],
 "metadata": {
  "kernelspec": {
   "display_name": "vmlimpl",
   "language": "python",
   "name": "vmlimpl"
  },
  "language_info": {
   "codemirror_mode": {
    "name": "ipython",
    "version": 3
   },
   "file_extension": ".py",
   "mimetype": "text/x-python",
   "name": "python",
   "nbconvert_exporter": "python",
   "pygments_lexer": "ipython3",
   "version": "3.8.10"
  },
  "orig_nbformat": 4
 },
 "nbformat": 4,
 "nbformat_minor": 2
}
