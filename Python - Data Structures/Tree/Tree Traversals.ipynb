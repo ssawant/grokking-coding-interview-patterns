{
 "cells": [
  {
   "cell_type": "markdown",
   "metadata": {},
   "source": [
    "## Tree Traversal\n",
    "### a. Depth first traversal\n",
    "#### 1. Inorder traversal\n",
    "\n",
    "Tree traversal follows `left -> root -> right`\n",
    "\n",
    "- *Time Complexity*: O(N) \\\n",
    "Where `N` is number of Node\n",
    "\n",
    "- *Space Complexity*: O(h) \\\n",
    "Where `h` is height of the tree, ideally it is h+1\n"
   ]
  },
  {
   "cell_type": "code",
   "execution_count": 32,
   "metadata": {
    "vscode": {
     "languageId": "python"
    }
   },
   "outputs": [],
   "source": [
    "class Node:\n",
    "    def __init__(self, value):\n",
    "        self.value = value\n",
    "        self.left, self.right = None, None\n",
    "\n",
    "def inorder(root):\n",
    "    if root is not None:\n",
    "        inorder(root.left)\n",
    "        print(root.value, end=' ')\n",
    "        inorder(root.right)"
   ]
  },
  {
   "cell_type": "code",
   "execution_count": 27,
   "metadata": {
    "vscode": {
     "languageId": "python"
    }
   },
   "outputs": [],
   "source": [
    "# Driver code\n",
    "root = Node(10)\n",
    "root.left = Node(20)\n",
    "root.right = Node(30)\n",
    "root.right.left = Node(40)\n",
    "root.right.right = Node(50)"
   ]
  },
  {
   "cell_type": "code",
   "execution_count": 21,
   "metadata": {
    "vscode": {
     "languageId": "python"
    }
   },
   "outputs": [
    {
     "name": "stdout",
     "output_type": "stream",
     "text": [
      "Inorder traversal of given tree is: 20 10 40 30 50 "
     ]
    }
   ],
   "source": [
    "print(\"Inorder traversal of given tree is: \", end='')\n",
    "inorder(root)"
   ]
  },
  {
   "cell_type": "markdown",
   "metadata": {},
   "source": [
    "#### 2. Pre-Order Traversal\n",
    "Tree traversal from `root -> left -> right`\n",
    "\n",
    "\n",
    "- *Time Complexity*: O(N) \\\n",
    "Where `N` is number of Node\n",
    "\n",
    "- *Space Complexity*: O(h) \\\n",
    "Where `h` is height of the tree, ideally it is h+1"
   ]
  },
  {
   "cell_type": "code",
   "execution_count": 30,
   "metadata": {
    "vscode": {
     "languageId": "python"
    }
   },
   "outputs": [],
   "source": [
    "def preorder(root):\n",
    "    if root is not None:\n",
    "        print(root.value, end=' ')\n",
    "        preorder(root.left)\n",
    "        preorder(root.right)"
   ]
  },
  {
   "cell_type": "code",
   "execution_count": 31,
   "metadata": {
    "vscode": {
     "languageId": "python"
    }
   },
   "outputs": [
    {
     "name": "stdout",
     "output_type": "stream",
     "text": [
      "Preorder traversal of given tree is:  10 20 30 40 50 "
     ]
    }
   ],
   "source": [
    "print(\"Preorder traversal of given tree is: \", end=' ')\n",
    "preorder(root)"
   ]
  },
  {
   "cell_type": "markdown",
   "metadata": {},
   "source": [
    "#### 3. Post-Order traversal\n",
    "Tree traversal from `left -> right -> root` \\\n",
    "**Tail recusive** should avoid\n",
    "\n",
    "- *Time Complexity*: O(N) \\\n",
    "Where `N` is number of Node\n",
    "\n",
    "- *Space Complexity*: O(h) \\\n",
    "Where `h` is height of the tree, ideally it is h+1"
   ]
  },
  {
   "cell_type": "code",
   "execution_count": 33,
   "metadata": {
    "vscode": {
     "languageId": "python"
    }
   },
   "outputs": [],
   "source": [
    "def postorder(root):\n",
    "    if root is not None:\n",
    "        postorder(root.left)\n",
    "        postorder(root.right)\n",
    "        print(root.value, end=' ')"
   ]
  },
  {
   "cell_type": "code",
   "execution_count": 34,
   "metadata": {
    "vscode": {
     "languageId": "python"
    }
   },
   "outputs": [
    {
     "name": "stdout",
     "output_type": "stream",
     "text": [
      "Post order traversal of given tree is:  20 40 50 30 10 "
     ]
    }
   ],
   "source": [
    "print(\"Post order traversal of given tree is: \", end=' ')\n",
    "postorder(root)"
   ]
  },
  {
   "cell_type": "markdown",
   "metadata": {},
   "source": [
    "#### Find the size of Tree\n",
    "\n",
    "We can use any one of the above traversal to find tree size i.e, Number of node in a tree\n",
    "\n",
    "- *Time Complexity* : `O(N)`\n",
    "- *Auxiliary Space* : `O(h)`, where `h` is tree height"
   ]
  },
  {
   "cell_type": "code",
   "execution_count": 44,
   "metadata": {
    "vscode": {
     "languageId": "python"
    }
   },
   "outputs": [],
   "source": [
    "def tree_size(root):\n",
    "    if root is None:\n",
    "        return 0\n",
    "    else:\n",
    "        ls = tree_size(root.left)\n",
    "        rs = tree_size(root.right)\n",
    "        return ls + rs + 1"
   ]
  },
  {
   "cell_type": "code",
   "execution_count": 46,
   "metadata": {
    "vscode": {
     "languageId": "python"
    }
   },
   "outputs": [
    {
     "name": "stdout",
     "output_type": "stream",
     "text": [
      "Size of the binary tree is : 5\n"
     ]
    }
   ],
   "source": [
    "print(f\"Size of the binary tree is : {tree_size(root)}\")"
   ]
  },
  {
   "cell_type": "markdown",
   "metadata": {},
   "source": [
    "#### Find the maximum node in a given binary tree\n",
    "\n",
    "- *Time Complexity* : `O(N)`\n",
    "- *Auxiliary Space* : `O(h)`, where `h` is tree height"
   ]
  },
  {
   "cell_type": "code",
   "execution_count": 50,
   "metadata": {
    "vscode": {
     "languageId": "python"
    }
   },
   "outputs": [],
   "source": [
    "import math\n",
    "\n",
    "def find_max(root):\n",
    "    if root is None:  # base condition\n",
    "        return -math.inf\n",
    "    else:\n",
    "        ls_max = find_max(root.left)\n",
    "        rs_max = find_max(root.right)\n",
    "        return max(ls_max, rs_max, root.value)"
   ]
  },
  {
   "cell_type": "code",
   "execution_count": 49,
   "metadata": {
    "vscode": {
     "languageId": "python"
    }
   },
   "outputs": [
    {
     "name": "stdout",
     "output_type": "stream",
     "text": [
      "Maximum node in the given binary tree is : 50\n"
     ]
    }
   ],
   "source": [
    "print(f\"Maximum node in the given binary tree is : {find_max(root)}\")"
   ]
  },
  {
   "cell_type": "markdown",
   "metadata": {},
   "source": [
    "#### Find the given key in Binary Tree\n",
    "\n",
    "- *Time Complexity* : `O(N)`\n",
    "- *Auxiliary Space* : `O(h)`, where `h` is tree height\n"
   ]
  },
  {
   "cell_type": "code",
   "execution_count": 52,
   "metadata": {
    "vscode": {
     "languageId": "python"
    }
   },
   "outputs": [],
   "source": [
    "def find_key(root, key):\n",
    "    if root is None:\n",
    "        return False\n",
    "    elif root.value == key:\n",
    "        return True\n",
    "    elif find_key(root.left, key) == True:\n",
    "        return True\n",
    "    else:\n",
    "        return find_key(root.right, key)"
   ]
  },
  {
   "cell_type": "code",
   "execution_count": 53,
   "metadata": {
    "vscode": {
     "languageId": "python"
    }
   },
   "outputs": [
    {
     "name": "stdout",
     "output_type": "stream",
     "text": [
      "The given value 40 is present in BT : True\n"
     ]
    }
   ],
   "source": [
    "print(f\"The given value 40 is present in BT : {find_key(root, 40)}\")"
   ]
  },
  {
   "cell_type": "markdown",
   "metadata": {},
   "source": [
    "#### Find height of binary tree\n",
    "\n",
    "- *Time Complexity*: O(N) \\\n",
    "Where `N` is number of Node\n",
    "\n",
    "- *Space Complexity*: O(h) \\\n",
    "Where `h` is height of the tree, ideally it is h+1"
   ]
  },
  {
   "cell_type": "code",
   "execution_count": 61,
   "metadata": {
    "vscode": {
     "languageId": "python"
    }
   },
   "outputs": [],
   "source": [
    "def height(root):\n",
    "    if root is None: # base condition\n",
    "        return 0\n",
    "    else:\n",
    "        ls_height = height(root.left)\n",
    "        rs_height = height(root.right)\n",
    "        return max(ls_height, rs_height) + 1 # add 1 for root as it adding a level"
   ]
  },
  {
   "cell_type": "code",
   "execution_count": 60,
   "metadata": {
    "vscode": {
     "languageId": "python"
    }
   },
   "outputs": [
    {
     "name": "stdout",
     "output_type": "stream",
     "text": [
      "Height of given binary tree is 3\n"
     ]
    }
   ],
   "source": [
    "print(f\"Height of given binary tree is {height(root)}\")"
   ]
  }
 ],
 "metadata": {
  "kernelspec": {
   "display_name": "vmlimpl",
   "language": "python",
   "name": "vmlimpl"
  },
  "orig_nbformat": 4
 },
 "nbformat": 4,
 "nbformat_minor": 2
}
