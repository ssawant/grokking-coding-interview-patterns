{
 "cells": [
  {
   "cell_type": "markdown",
   "metadata": {},
   "source": [
    "Given a string,find the length of the longest substring which has no repearing characters.\n",
    "\n",
    "```\n",
    "Input: String=\"aabccbb\"\n",
    "Output: 3\n",
    "Explanation: The longest substring without any repeating characters is \"abc\"."
   ]
  },
  {
   "cell_type": "markdown",
   "metadata": {},
   "source": [
    "Time Complexity: O(N) \n",
    "\n",
    "Space Complexity: O(K) where K is the numberof distinct char in the input string\n",
    "This also means K<=N, because in the worst case,the whole string might not have any repeating char so the entire string will be added to the HashMap\n",
    "Having said that,since we expect a fixed set of char in the inpit string (e.g, 26 Eng letter) we can syaa the algo run in fized space O(1);in this case, we can use a fixed-size array instead of the HashMap."
   ]
  },
  {
   "cell_type": "code",
   "execution_count": 24,
   "metadata": {},
   "outputs": [],
   "source": [
    "def find_longest_substring_non_repeat(input_str):\n",
    "    window_start = 0\n",
    "    dist_char = {}\n",
    "    max_length = 0\n",
    "\n",
    "    for window_end in range(len(input_str)):\n",
    "        right_char = input_str[window_end]\n",
    "        if right_char not in dist_char:\n",
    "            dist_char[right_char] = window_end\n",
    "        else:\n",
    "            window_start = max(window_start, dist_char[right_char] + 1)\n",
    "        max_length = max(max_length, window_end - window_start + 1)\n",
    "    \n",
    "    return max_length    "
   ]
  },
  {
   "cell_type": "code",
   "execution_count": 25,
   "metadata": {},
   "outputs": [
    {
     "name": "stdout",
     "output_type": "stream",
     "text": [
      "3\n"
     ]
    }
   ],
   "source": [
    "print(find_longest_substring_non_repeat(input_str=\"aabccbb\"))"
   ]
  }
 ],
 "metadata": {
  "kernelspec": {
   "display_name": "vmlimpl",
   "language": "python",
   "name": "vmlimpl"
  },
  "language_info": {
   "codemirror_mode": {
    "name": "ipython",
    "version": 3
   },
   "file_extension": ".py",
   "mimetype": "text/x-python",
   "name": "python",
   "nbconvert_exporter": "python",
   "pygments_lexer": "ipython3",
   "version": "3.8.10"
  },
  "orig_nbformat": 4
 },
 "nbformat": 4,
 "nbformat_minor": 2
}
