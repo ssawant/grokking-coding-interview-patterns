{
 "cells": [
  {
   "cell_type": "markdown",
   "metadata": {},
   "source": [
    "Given a string and a pattern,find out if the string contains any permutation of the pattern.\n",
    "\n",
    "Permutation is defined as the re-arranging of the characters of the string. For example. 'abc' has the following six permutations:\n",
    "\n",
    "abc\n",
    "acb\n",
    "bac\n",
    "bca\n",
    "cab\n",
    "cba\n",
    "\n",
    "if a string has 'n' distinct characters it will have n!n! permutations.\n",
    "\n",
    "```\n",
    "Input: String=\"oidbcaf\", pattern=\"abc\"\n",
    "Output: true\n",
    "Explanation: The string contains \"bca\" which is a permutation of the given pattern.\n",
    "\n",
    "Input: String=\"bcdxabcdy\", Pattern=\"bcdyabcdx\"\n",
    "Output: true\n",
    "Explanation: Both the string and the pattern are a permutation of each other."
   ]
  },
  {
   "cell_type": "code",
   "execution_count": 14,
   "metadata": {},
   "outputs": [],
   "source": [
    "def find_permutation(str, pattern):\n",
    "    window_start = 0\n",
    "    char_frequency =  {}\n",
    "    match_pattern = 0\n",
    "    \n",
    "    for char in pattern:\n",
    "        if char not in char_frequency:\n",
    "            char_frequency[char] = 0\n",
    "        char_frequency[char] += 1\n",
    "    \n",
    "    for window_end in range(len(str)):\n",
    "        right_char = str[window_end]\n",
    "        if right_char in char_frequency:\n",
    "            char_frequency[right_char] -= 1\n",
    "            if char_frequency[right_char] == 0:\n",
    "                match_pattern += 1\n",
    "        \n",
    "        if match_pattern == len(char_frequency):\n",
    "            return True\n",
    "\n",
    "        if window_end >= len(pattern) - 1:\n",
    "            left_char = str[window_start]\n",
    "            window_start += 1\n",
    "            if left_char in char_frequency:\n",
    "                if char_frequency[left_char] == 0:\n",
    "                    match_pattern -= 1\n",
    "                char_frequency[left_char] += 1\n",
    "            \n",
    "    \n",
    "    return False"
   ]
  },
  {
   "cell_type": "code",
   "execution_count": 15,
   "metadata": {},
   "outputs": [
    {
     "name": "stdout",
     "output_type": "stream",
     "text": [
      "True\n",
      "False\n"
     ]
    }
   ],
   "source": [
    "print(find_permutation(str=\"oidbcaf\", pattern=\"abc\")) # True\n",
    "print(find_permutation(str=\"odicf\", pattern=\"dc\")) # False"
   ]
  }
 ],
 "metadata": {
  "kernelspec": {
   "display_name": "vmlimpl",
   "language": "python",
   "name": "vmlimpl"
  },
  "language_info": {
   "codemirror_mode": {
    "name": "ipython",
    "version": 3
   },
   "file_extension": ".py",
   "mimetype": "text/x-python",
   "name": "python",
   "nbconvert_exporter": "python",
   "pygments_lexer": "ipython3",
   "version": "3.8.10"
  },
  "orig_nbformat": 4
 },
 "nbformat": 4,
 "nbformat_minor": 2
}
