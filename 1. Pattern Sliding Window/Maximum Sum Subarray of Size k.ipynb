{
 "cells": [
  {
   "cell_type": "markdown",
   "metadata": {},
   "source": [
    "Given an array of positive numbers and a positive number 'k', find the maximum sum of any contiguous subarray of size 'k'\n",
    "\n",
    "``` \n",
    "Example 1:\n",
    "\n",
    " input : [2, 1, 5, 1, 3, 2], k=3\n",
    " output: 9\n",
    " Explanation: Subarray with maximum sum is [5, 1, 3]"
   ]
  },
  {
   "cell_type": "markdown",
   "metadata": {},
   "source": [
    "### Naive approach"
   ]
  },
  {
   "cell_type": "code",
   "execution_count": 19,
   "metadata": {
    "vscode": {
     "languageId": "python"
    }
   },
   "outputs": [],
   "source": [
    "input = [2, 1, 5, 1, 3, 2]\n",
    "k = 3\n",
    "\n",
    "def subarr_sum(input, k):\n",
    "    max_sum, curr_sum = 0, 0\n",
    "    for i in range(k):\n",
    "        curr_sum += input[i]\n",
    "    max_sum = curr_sum\n",
    "    \n",
    "    for j in range(0, len(input)- k):\n",
    "        curr_sum = curr_sum - input[j] + input[k+j]\n",
    "        max_sum = max(curr_sum, max_sum)\n",
    "    print(max_sum)\n"
   ]
  },
  {
   "cell_type": "code",
   "execution_count": 21,
   "metadata": {
    "vscode": {
     "languageId": "python"
    }
   },
   "outputs": [
    {
     "name": "stdout",
     "output_type": "stream",
     "text": [
      "7\n"
     ]
    }
   ],
   "source": [
    "subarr_sum(input=[2, 3, 4, 1, 5], k=2)"
   ]
  },
  {
   "cell_type": "markdown",
   "metadata": {},
   "source": [
    "### Sliding window"
   ]
  },
  {
   "cell_type": "code",
   "execution_count": 30,
   "metadata": {
    "vscode": {
     "languageId": "python"
    }
   },
   "outputs": [],
   "source": [
    "def max_subarr_sum(input_arr, k):\n",
    "    window_sum = 0\n",
    "    window_start = 0\n",
    "    max_sum = 0\n",
    "\n",
    "    for window_end in range(len(input_arr)):\n",
    "        window_sum += input_arr[window_end]\n",
    "\n",
    "        if window_end >= k-1:\n",
    "            max_sum = max(max_sum, window_sum)\n",
    "            window_sum -= input_arr[window_start]\n",
    "            window_start += 1\n",
    "        \n",
    "    print(max_sum)"
   ]
  },
  {
   "cell_type": "code",
   "execution_count": 31,
   "metadata": {
    "vscode": {
     "languageId": "python"
    }
   },
   "outputs": [
    {
     "name": "stdout",
     "output_type": "stream",
     "text": [
      "9\n"
     ]
    }
   ],
   "source": [
    "max_subarr_sum(input_arr=[2, 1, 5, 1, 3, 2], k=3)"
   ]
  }
 ],
 "metadata": {
  "kernelspec": {
   "display_name": "vmlimpl",
   "language": "python",
   "name": "vmlimpl"
  },
  "orig_nbformat": 4
 },
 "nbformat": 4,
 "nbformat_minor": 2
}
