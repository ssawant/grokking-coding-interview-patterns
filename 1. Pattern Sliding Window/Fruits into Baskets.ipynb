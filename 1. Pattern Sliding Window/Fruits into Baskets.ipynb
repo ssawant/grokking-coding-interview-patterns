{
 "cells": [
  {
   "cell_type": "markdown",
   "metadata": {},
   "source": [
    "Given an aray of charactes where each character represents a fruit tree, you are given two baskets and your goal is to put maximum number of fruits in each basket. The only restriction is that each basket can have only one type of fruit.\n",
    "\n",
    "You can start with any tree, but once you have started you can't skip a tree. You will pick one fruit each tree until you cannot, i.e., you will stop when you have to pick from a thirf fruit type.\n",
    "\n",
    "Write a function to return the maximum number of fruits in both the baskets.\n",
    "\n",
    "```\n",
    "Input : Fruit = [A, B, C, A, C]\n",
    "Output: 3\n",
    "Explanation: We can put 2 C in one basketand one A in the other from the subarray [C, A, C]\n"
   ]
  },
  {
   "cell_type": "markdown",
   "metadata": {},
   "source": [
    "Time Compelixty : O(N)\n",
    "The outer for looprums for all char and the inner while loop processes each char only once, i.e, O(N+N) which is asumptotically equivalet to O(N)\n",
    "\n",
    "Space Complexity\n",
    "The algorithm runs in constant space O(1) as there can be a maximum of three types of fruits stored in the frequency map"
   ]
  },
  {
   "cell_type": "code",
   "execution_count": 1,
   "metadata": {},
   "outputs": [],
   "source": [
    "def find_max_num_fruits(input_arr):\n",
    "    window_start = 0\n",
    "    fruit_type = 2\n",
    "    max_no_fruit = 0\n",
    "    fruit_basket = {}\n",
    "\n",
    "    for window_end in range(len(input_arr)):\n",
    "        fruit = input_arr[window_end]\n",
    "        if fruit not in fruit_basket:\n",
    "            fruit_basket[fruit] = 1\n",
    "        else:\n",
    "            fruit_basket[fruit] += 1\n",
    "        \n",
    "        while len(fruit_basket) > fruit_type:\n",
    "            fruit_remove = input_arr[window_start]\n",
    "            fruit_basket[fruit_remove] -= 1\n",
    "            if fruit_basket[fruit_remove] == 0:\n",
    "                del fruit_basket[fruit_remove]\n",
    "            window_start += 1\n",
    "        max_no_fruit = max(max_no_fruit, window_end - window_start + 1)\n",
    "    \n",
    "    return max_no_fruit"
   ]
  },
  {
   "cell_type": "code",
   "execution_count": 3,
   "metadata": {},
   "outputs": [
    {
     "name": "stdout",
     "output_type": "stream",
     "text": [
      "3\n",
      "5\n"
     ]
    }
   ],
   "source": [
    "\n",
    "print(find_max_num_fruits(input_arr=['A', 'B', 'C', 'A', 'C']))\n",
    "print(find_max_num_fruits(input_arr=['A', 'B', 'C', 'B', 'B', 'C']))"
   ]
  }
 ],
 "metadata": {
  "kernelspec": {
   "display_name": "vmlimpl",
   "language": "python",
   "name": "vmlimpl"
  },
  "language_info": {
   "codemirror_mode": {
    "name": "ipython",
    "version": 3
   },
   "file_extension": ".py",
   "mimetype": "text/x-python",
   "name": "python",
   "nbconvert_exporter": "python",
   "pygments_lexer": "ipython3",
   "version": "3.8.10"
  },
  "orig_nbformat": 4
 },
 "nbformat": 4,
 "nbformat_minor": 2
}
