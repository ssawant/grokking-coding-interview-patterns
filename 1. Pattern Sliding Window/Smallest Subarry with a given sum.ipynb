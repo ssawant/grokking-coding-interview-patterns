{
 "cells": [
  {
   "cell_type": "markdown",
   "metadata": {},
   "source": [
    "Given an array of positive numbers and a positive number 'S', find the length of the smallest contiguous subarray whose sum is grater than or equal to 'S'. Return 0, if no such subarray exits.\n",
    "\n",
    "```\n",
    "Input: [2, 1, 5 , 2, 3, 2], S = 7\n",
    "Output: 2\n",
    "Explanation: The smallest subarray with a sum great than or equal to '7' is [5, 2]\n",
    "\n",
    "Input: [2, 1, 5, 2, 8], S=7\n",
    "Output: 1\n",
    "Explanation: The smallest subarry with a sum greater then or equal to '7' is [8].\n",
    "\n",
    "Input: [3, 4, 1, 1, 6], S=8\n",
    "Output: 3\n",
    "Explanation: Smallest subarry with a sum greater then or equal to '8' are [3, 4, 1] or [1, 1, 6]"
   ]
  },
  {
   "cell_type": "markdown",
   "metadata": {},
   "source": [
    "Time complexity : 0(N)\n",
    "The outer for loop run for all elements and the inner for loop process for each element only once. 0(N+N) which is asymptotically equivalent to 0(N).\n",
    "\n",
    "Space Complexity: O(1)"
   ]
  },
  {
   "cell_type": "code",
   "execution_count": 23,
   "metadata": {
    "vscode": {
     "languageId": "python"
    }
   },
   "outputs": [],
   "source": [
    "import math\n",
    "\n",
    "def min_length_sum(arr, s):\n",
    "    window_start = 0\n",
    "    window_sum = 0\n",
    "    min_length = math.inf\n",
    "\n",
    "    for window_end in range(len(arr)):\n",
    "        window_sum += arr[window_end] # add the next element\n",
    "\n",
    "        # shrink the window as small as possible until the 'window_sum' is smaller then 's'\n",
    "        while window_sum >= s:\n",
    "            min_length = min(min_length, window_end - window_start + 1) \n",
    "            window_sum -= arr[window_start]\n",
    "            window_start += 1\n",
    "\n",
    "    if min_length == math.inf:\n",
    "        return 0\n",
    "    \n",
    "    return min_length"
   ]
  },
  {
   "cell_type": "code",
   "execution_count": 24,
   "metadata": {
    "vscode": {
     "languageId": "python"
    }
   },
   "outputs": [
    {
     "data": {
      "text/plain": [
       "3"
      ]
     },
     "execution_count": 24,
     "metadata": {},
     "output_type": "execute_result"
    }
   ],
   "source": [
    "min_length_sum(arr=[3,4,1,1,6], s=8)"
   ]
  }
 ],
 "metadata": {
  "kernelspec": {
   "display_name": "vmlimpl",
   "language": "python",
   "name": "vmlimpl"
  },
  "orig_nbformat": 4
 },
 "nbformat": 4,
 "nbformat_minor": 2
}
