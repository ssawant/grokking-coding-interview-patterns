{
 "cells": [
  {
   "cell_type": "markdown",
   "metadata": {},
   "source": [
    "[REDO]\n",
    "\n",
    "Given a string with lowercase letters only; if you are allowed to replace no more than 'k' letters with any letter, find the length of the longest substring having the same letters after replacement.\n",
    "\n",
    "```\n",
    "Input: String=\"aabccbb', k=2\n",
    "Output: 5\n",
    "Explanation: Replace the two 'c' with 'b' to have a longest repeating substring \"bbbbb\"."
   ]
  },
  {
   "cell_type": "code",
   "execution_count": 16,
   "metadata": {},
   "outputs": [],
   "source": [
    "def find_longest_substr_after_replacement(input_str, k):\n",
    "    window_start = 0\n",
    "    char_map = {}\n",
    "    max_length = 0\n",
    "    max_repeat_letter_count = 0\n",
    "\n",
    "    # Trye to extend the range [window_start, window_end]\n",
    "    for window_end in range(len(input_str)):\n",
    "        right_char = input_str[window_end]\n",
    "        if right_char not in char_map:\n",
    "            char_map[right_char] = 0\n",
    "        char_map[right_char] += 1\n",
    "        max_repeat_letter_count = max(max_repeat_letter_count, char_map[right_char])\n",
    "\n",
    "        if (window_end - window_start + 1 - max_repeat_letter_count) > k:\n",
    "            left_char = input_str[window_start]\n",
    "            char_map[left_char] -= 1\n",
    "            window_start += 1\n",
    "        max_length = max(max_length, window_end - window_start + 1)\n",
    "    \n",
    "    return max_length"
   ]
  },
  {
   "cell_type": "code",
   "execution_count": 17,
   "metadata": {},
   "outputs": [
    {
     "name": "stdout",
     "output_type": "stream",
     "text": [
      "5\n",
      "4\n"
     ]
    }
   ],
   "source": [
    "print(find_longest_substr_after_replacement(input_str=\"aabccbb\", k=2)) # Output: 5\n",
    "print(find_longest_substr_after_replacement(input_str=\"abbcb\", k=1)) # Output 4"
   ]
  }
 ],
 "metadata": {
  "kernelspec": {
   "display_name": "vmlimpl",
   "language": "python",
   "name": "vmlimpl"
  },
  "language_info": {
   "codemirror_mode": {
    "name": "ipython",
    "version": 3
   },
   "file_extension": ".py",
   "mimetype": "text/x-python",
   "name": "python",
   "nbconvert_exporter": "python",
   "pygments_lexer": "ipython3",
   "version": "3.8.10"
  },
  "orig_nbformat": 4
 },
 "nbformat": 4,
 "nbformat_minor": 2
}
