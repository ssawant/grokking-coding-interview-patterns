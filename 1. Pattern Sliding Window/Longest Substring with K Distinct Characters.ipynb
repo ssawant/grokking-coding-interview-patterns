{
 "cells": [
  {
   "cell_type": "markdown",
   "metadata": {},
   "source": [
    "Given a string, find the length of the longest sunstring in it with no more than k distinct characters.\n",
    "\n",
    "```\n",
    "Input: String=\"araaci\", K=2\n",
    "Output: 4\n",
    "Explanation: The longest substring with no more then '2' distinct characters is \"araa\".\n",
    "\n",
    "Input: String=\"araaci\", K=1\n",
    "Output: 2\n",
    "Explanation: The longest substring with no more then '1' distinct characters is \"aa\"."
   ]
  },
  {
   "cell_type": "code",
   "execution_count": 21,
   "metadata": {},
   "outputs": [],
   "source": [
    "# mycode\n",
    "input_str = \"araaci\"\n",
    "k = 2\n",
    "\n",
    "def longest_substring_k_dist(input_str, k):\n",
    "    max_length = 0\n",
    "    window_start = 0\n",
    "    char_frequency = {}\n",
    "\n",
    "    # in this loop will try to extend the range [window_start, window_end]\n",
    "    for window_end in range(len(input_str)):\n",
    "        right_char = input_str[window_end]\n",
    "        if right_char not in char_frequency:\n",
    "            char_frequency[right_char] = 1\n",
    "        else:\n",
    "            char_frequency[right_char] += 1\n",
    "\n",
    "        # shrink the sliding window until we left with 'k' dist char in char_frequency\n",
    "        while len(char_frequency) > k:\n",
    "            left_char = input_str[window_start]\n",
    "            char_frequency[left_char] -= 1\n",
    "            if char_frequency[left_char] == 0:\n",
    "                del char_frequency[left_char]\n",
    "            window_start += 1 # shrink the window\n",
    "        # remember the max length\n",
    "        max_length = max(max_length, window_end - window_start + 1)\n",
    "    \n",
    "    return max_length\n",
    "    "
   ]
  },
  {
   "cell_type": "code",
   "execution_count": 22,
   "metadata": {},
   "outputs": [
    {
     "name": "stdout",
     "output_type": "stream",
     "text": [
      "4\n"
     ]
    }
   ],
   "source": [
    "print(longest_substring_k_dist(input_str, k))"
   ]
  }
 ],
 "metadata": {
  "kernelspec": {
   "display_name": "vmlimpl",
   "language": "python",
   "name": "vmlimpl"
  },
  "language_info": {
   "codemirror_mode": {
    "name": "ipython",
    "version": 3
   },
   "file_extension": ".py",
   "mimetype": "text/x-python",
   "name": "python",
   "nbconvert_exporter": "python",
   "pygments_lexer": "ipython3",
   "version": "3.8.10"
  },
  "orig_nbformat": 4
 },
 "nbformat": 4,
 "nbformat_minor": 2
}
