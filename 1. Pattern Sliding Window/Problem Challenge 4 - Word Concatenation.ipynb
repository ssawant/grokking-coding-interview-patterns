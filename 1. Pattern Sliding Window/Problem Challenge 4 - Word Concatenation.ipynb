{
 "cells": [
  {
   "cell_type": "markdown",
   "metadata": {},
   "source": [
    "Words Concatenation\n",
    "Given a string and a list of words,find all the starting indices of substrings in the given string that are a concatenation of all the given words exactly once without any overlapping of words. It is given that all words of the same length.\n",
    "\n",
    "```\n",
    "Input: String=\"catfoxcat\", words=[\"cat\",\"fox\"]\n",
    "Output: [0,3]\n",
    "Explanation: The tow substring containing both the words are \"catfox\" and \"foxcat\"\n",
    "\n",
    "Input: String=\"catcatfoxfox\", words=[\"cat\",\"fox\"]\n",
    "Output: [3]\n",
    "Explanation:The only substring containing both the words is \"catfox\""
   ]
  },
  {
   "cell_type": "code",
   "execution_count": 7,
   "metadata": {},
   "outputs": [],
   "source": [
    "def find_word_concat(str, words):\n",
    "    if len(words) == 0 or len(words[0]) == 0:\n",
    "        return []\n",
    "    \n",
    "    word_frequency = {}\n",
    "\n",
    "    for word in words:\n",
    "        if word not in word_frequency:\n",
    "            word_frequency[word] = 0\n",
    "        word_frequency[word] += 1\n",
    "    \n",
    "    result = []\n",
    "    word_count = len(words)\n",
    "    word_length = len(words[0])\n",
    "\n",
    "    for i in range((len(str) - word_count * word_length)+1):\n",
    "        word_seen = {}\n",
    "        for j in range(0, word_count):\n",
    "            next_word_index = i + j * word_length\n",
    "            # Get the next word from the string\n",
    "            word = str[next_word_index: next_word_index + word_length]\n",
    "            if word not in word_frequency:\n",
    "                break\n",
    "            \n",
    "            # Add the word to the 'word_seen'map\n",
    "            if word not in word_seen:\n",
    "                word_seen[word] = 0\n",
    "            word_seen[word] += 1\n",
    "        \n",
    "            # No need to process further if the word has higher frequency than required\n",
    "            if word_seen[word] > word_frequency.get(word, 0):\n",
    "                break\n",
    "            \n",
    "            if j + 1 == word_count:\n",
    "                result.append(i)\n",
    "        \n",
    "    return result"
   ]
  },
  {
   "cell_type": "code",
   "execution_count": 8,
   "metadata": {},
   "outputs": [
    {
     "name": "stdout",
     "output_type": "stream",
     "text": [
      "[0, 3]\n",
      "[3]\n"
     ]
    }
   ],
   "source": [
    "print(find_word_concat(\"catfoxcat\", [\"cat\", \"fox\"])) # output: [0, 3]\n",
    "print(find_word_concat(\"catcatfoxfox\", [\"cat\", \"fox\"])) # output: [3]"
   ]
  }
 ],
 "metadata": {
  "kernelspec": {
   "display_name": "vmlimpl",
   "language": "python",
   "name": "vmlimpl"
  },
  "language_info": {
   "codemirror_mode": {
    "name": "ipython",
    "version": 3
   },
   "file_extension": ".py",
   "mimetype": "text/x-python",
   "name": "python",
   "nbconvert_exporter": "python",
   "pygments_lexer": "ipython3",
   "version": "3.8.10"
  },
  "orig_nbformat": 4
 },
 "nbformat": 4,
 "nbformat_minor": 2
}
