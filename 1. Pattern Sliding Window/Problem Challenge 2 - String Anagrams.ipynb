{
 "cells": [
  {
   "cell_type": "markdown",
   "metadata": {},
   "source": [
    "String Anagrams\n",
    "Given a string and a pattern,find all anagrams of the pattern in the given string.\n",
    "\n",
    "Anagram is actually a Permutation of a string. For example, \"abc\" has the following six anagrams:\n",
    "\n",
    "abc\n",
    "acb\n",
    "bac\n",
    "cab\n",
    "cba\n",
    "\n",
    "Write a function to retunr a list of starting indices of the anagrams of the pattern in the given string.\n",
    "\n",
    "```\n",
    "Input: String=\"ppqp\", Pattern=\"pq\"\n",
    "Output: [1, 2]\n",
    "Explanation: The tow anagrams of the pattern in the given string are \"pq\" and \"qp\"\n",
    "\n",
    "Input: String=\"abbcabc, Pattern=\"abc\"\n",
    "Output: [2, 3, 4]\n",
    "Explanation: The three anagrams of the pattern in the given string are \"bca\",\"cab\", and \"abc\"\n",
    "\n"
   ]
  },
  {
   "cell_type": "code",
   "execution_count": 10,
   "metadata": {},
   "outputs": [],
   "source": [
    "def find_str_anagrams(str, pattern):\n",
    "    window_start = 0\n",
    "    match = 0\n",
    "    char_frequency = {}\n",
    "    result = []\n",
    "\n",
    "    for char in pattern:\n",
    "        if char not in char_frequency:\n",
    "            char_frequency[char] = 0\n",
    "        char_frequency[char] += 1\n",
    "\n",
    "    for window_end in range(len(str)):\n",
    "        right_char = str[window_end]\n",
    "        if right_char in char_frequency:\n",
    "            char_frequency[right_char] -= 1\n",
    "            if char_frequency[right_char] == 0:\n",
    "                match += 1\n",
    "            \n",
    "        if match == len(char_frequency):\n",
    "            result.append(window_start)\n",
    "        \n",
    "        if window_end >= len(pattern) - 1:\n",
    "            left_char = str[window_start]\n",
    "            window_start += 1\n",
    "            if char_frequency[left_char] == 0:\n",
    "                match -= 1 # Before putting the char back, decrement the matched count\n",
    "            char_frequency[left_char] += 1 # Put the char back\n",
    "            \n",
    "    return result"
   ]
  },
  {
   "cell_type": "code",
   "execution_count": 11,
   "metadata": {},
   "outputs": [
    {
     "name": "stdout",
     "output_type": "stream",
     "text": [
      "{'p': 1}\n",
      "{'p': 1, 'q': 1}\n",
      "[1, 2]\n"
     ]
    }
   ],
   "source": [
    "print(find_str_anagrams(str=\"ppqp\",pattern=\"pq\"))"
   ]
  }
 ],
 "metadata": {
  "kernelspec": {
   "display_name": "vmlimpl",
   "language": "python",
   "name": "vmlimpl"
  },
  "language_info": {
   "codemirror_mode": {
    "name": "ipython",
    "version": 3
   },
   "file_extension": ".py",
   "mimetype": "text/x-python",
   "name": "python",
   "nbconvert_exporter": "python",
   "pygments_lexer": "ipython3",
   "version": "3.8.10"
  },
  "orig_nbformat": 4
 },
 "nbformat": 4,
 "nbformat_minor": 2
}
