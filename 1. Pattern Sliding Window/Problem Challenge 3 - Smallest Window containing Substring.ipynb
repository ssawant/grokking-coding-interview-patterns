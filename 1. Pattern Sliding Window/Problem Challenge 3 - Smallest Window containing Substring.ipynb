{
 "cells": [
  {
   "cell_type": "markdown",
   "metadata": {},
   "source": [
    "Samllest Window containing substring\n",
    "\n",
    "Given a string and a pattern,find the smallest substring in the given string which has all the char of the given pattern.\n",
    "\n",
    "```\n",
    "Input: String=\"aabdec\", Pattern=\"abc\"\n",
    "Output: \"abdec\"\n",
    "Explanation: The smallest substring having all char of the pattern is \"adbec\"."
   ]
  },
  {
   "cell_type": "code",
   "execution_count": 18,
   "metadata": {},
   "outputs": [],
   "source": [
    "def find_smallest_substring_pattern(str, pattern):\n",
    "    window_start = 0\n",
    "    min_length = len(str) + 1\n",
    "    char_frequency = {}\n",
    "    match = 0\n",
    "    sub_strstart = 0\n",
    "\n",
    "    for char in pattern:\n",
    "        if char not in char_frequency:\n",
    "            char_frequency[char] = 0\n",
    "        char_frequency[char] += 1\n",
    "\n",
    "    for window_end in range(len(str)):\n",
    "        right_char = str[window_end]\n",
    "        if right_char in char_frequency:\n",
    "            char_frequency[right_char] -= 1\n",
    "            if char_frequency[right_char] >= 0:\n",
    "                match += 1\n",
    "\n",
    "        while match == len(pattern):\n",
    "            if min_length > window_end - window_start + 1:\n",
    "                min_length = window_end - window_start + 1\n",
    "                sub_strstart = window_start\n",
    "\n",
    "            left_char = str[window_start]\n",
    "            window_start += 1\n",
    "            if left_char in char_frequency:\n",
    "                if char_frequency[left_char] == 0:\n",
    "                    match -= 1\n",
    "                char_frequency[left_char] += 1\n",
    "            \n",
    "    if min_length > len(str):\n",
    "        return \"\"\n",
    "    return str[sub_strstart:sub_strstart + min_length]"
   ]
  },
  {
   "cell_type": "code",
   "execution_count": 19,
   "metadata": {},
   "outputs": [
    {
     "name": "stdout",
     "output_type": "stream",
     "text": [
      "abdec\n"
     ]
    }
   ],
   "source": [
    "print(find_smallest_substring_pattern(str=\"aabdec\", pattern=\"abc\"))"
   ]
  }
 ],
 "metadata": {
  "kernelspec": {
   "display_name": "vmlimpl",
   "language": "python",
   "name": "vmlimpl"
  },
  "language_info": {
   "codemirror_mode": {
    "name": "ipython",
    "version": 3
   },
   "file_extension": ".py",
   "mimetype": "text/x-python",
   "name": "python",
   "nbconvert_exporter": "python",
   "pygments_lexer": "ipython3",
   "version": "3.8.10"
  },
  "orig_nbformat": 4
 },
 "nbformat": 4,
 "nbformat_minor": 2
}
