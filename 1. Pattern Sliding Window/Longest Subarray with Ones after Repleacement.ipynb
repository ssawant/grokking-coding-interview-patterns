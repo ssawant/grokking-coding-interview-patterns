{
 "cells": [
  {
   "cell_type": "markdown",
   "metadata": {},
   "source": [
    "Given an array containing 0s and 1s, if you are allowed to replace no morethan 'k' 0s with 1s. find the length of the longest contiguous subarray having all 1s.\n",
    "\n",
    "```\n",
    "Input: Array = [0,1,1,0,0,0,1,1,0,1,1],k =2\n",
    "Ouput: 6\n",
    "Explanation: Replace the 0 at index 5 and 8 to have the longest contiguous subarray of 1s having length 6."
   ]
  },
  {
   "cell_type": "code",
   "execution_count": 2,
   "metadata": {},
   "outputs": [],
   "source": [
    "def find_longest_subarr_with_one_rep(arr, k):\n",
    "    window_start = 0\n",
    "    max_length, max_one_count = 0, 0\n",
    "    count = {}\n",
    "\n",
    "    for window_end in range(len(arr)):\n",
    "        if arr[window_end] == 1:\n",
    "            max_one_count += 1\n",
    "        \n",
    "        if (window_end - window_start + 1 - max_one_count) > k:\n",
    "            if arr[window_start] == 1:\n",
    "                max_one_count -= 1\n",
    "            window_start += 1\n",
    "        \n",
    "        max_length = max(max_length, window_end - window_start + 1)\n",
    "    \n",
    "    return max_length"
   ]
  },
  {
   "cell_type": "code",
   "execution_count": 4,
   "metadata": {},
   "outputs": [
    {
     "name": "stdout",
     "output_type": "stream",
     "text": [
      "6\n"
     ]
    }
   ],
   "source": [
    "print(find_longest_subarr_with_one_rep(arr=[0,1,1,0,0,0,1,1,0,1,1], k=2)) # Output: 6"
   ]
  }
 ],
 "metadata": {
  "kernelspec": {
   "display_name": "vmlimpl",
   "language": "python",
   "name": "vmlimpl"
  },
  "language_info": {
   "name": "python",
   "version": "3.8.10"
  },
  "orig_nbformat": 4
 },
 "nbformat": 4,
 "nbformat_minor": 2
}
