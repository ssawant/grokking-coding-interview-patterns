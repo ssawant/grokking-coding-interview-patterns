{
 "cells": [
  {
   "cell_type": "markdown",
   "metadata": {},
   "source": [
    "#### Find Cycle in Singly LinkedList\n",
    "\n",
    "Given the head of a Singly LinkedList, write a function to determine if the LinkedList has a cycle in it or not."
   ]
  },
  {
   "cell_type": "markdown",
   "metadata": {},
   "source": [
    "Time Complexity : `O(N)` \\\n",
    "As we have concluded aboce,oncethe slow pointer enters the cycle,the fast pointer will meet the slow pointer in the same loop. Threfore, the time complexity of out algorithm iwll be O(N) whre `N` is the total number of nodes in the LinkedList.\n",
    "\n",
    "Space Complexiyt: `O(1)` \\\n",
    "The algorithm, runs in constant space `O(1)`"
   ]
  },
  {
   "cell_type": "code",
   "execution_count": 1,
   "metadata": {},
   "outputs": [],
   "source": [
    "class Node:\n",
    "    def __init__(self, value, next=None):\n",
    "        self.value = value\n",
    "        self.next  = next\n",
    "\n",
    "\n",
    "def has_cycle(head):\n",
    "    fast, slow = head, head\n",
    "    \n",
    "    while fast is not None and fast.next is not None:\n",
    "        fast = fast.next.next\n",
    "        slow = slow.next\n",
    "        if slow == fast:\n",
    "            return True\n",
    "    \n",
    "    return False"
   ]
  },
  {
   "cell_type": "code",
   "execution_count": 3,
   "metadata": {},
   "outputs": [
    {
     "name": "stdout",
     "output_type": "stream",
     "text": [
      "LinkedList has cycle False\n"
     ]
    }
   ],
   "source": [
    "head = Node(4)\n",
    "head.next = Node(2)\n",
    "head.next.next = Node(1)\n",
    "head.next.next.next = Node(3)\n",
    "# head.next.next.next.next = head.next.next.next\n",
    "\n",
    "print(f\"LinkedList has cycle {has_cycle(head)}\")"
   ]
  },
  {
   "cell_type": "markdown",
   "metadata": {},
   "source": [
    "### Find Cycle length in Singly LinkedList\n",
    "\n",
    "Given the head of a LinkedList with a cycle, find the length of the cycle.\n",
    "\n",
    "Soluation: We can use the above soluation to find the cycle in the LinkedList.\n",
    "Once the fast and slow pointers meet, we can save the slow pointer and iterate the whole cycle with another pointer until we csee the slow pointer again to find the length of the cycle."
   ]
  },
  {
   "cell_type": "markdown",
   "metadata": {},
   "source": [
    "Time and Space complexity:\\\n",
    "The above algorithm run in `O(N)` time complexity and `O(1)` space complexity."
   ]
  },
  {
   "cell_type": "code",
   "execution_count": 5,
   "metadata": {},
   "outputs": [],
   "source": [
    "class Node:\n",
    "    def __init__(self, value, next=None):\n",
    "        self.value = value\n",
    "        self.next = next\n",
    "\n",
    "def find_cycle_length(head):\n",
    "    slow, fast = head, head\n",
    "\n",
    "    while fast is not None and fast.next is not None:\n",
    "        fast = fast.next.next\n",
    "        slow = slow.next\n",
    "\n",
    "        if slow == fast: # found the cycle\n",
    "            return calculate_cycle_length(slow)\n",
    "    \n",
    "    return 0\n",
    "\n",
    "def calculate_cycle_length(slow):\n",
    "    current = slow\n",
    "    cycle_length = 0\n",
    "    while True:\n",
    "        current = current.next\n",
    "        cycle_length += 1\n",
    "        if current == slow:\n",
    "            break\n",
    "    return cycle_length\n"
   ]
  },
  {
   "cell_type": "code",
   "execution_count": 6,
   "metadata": {},
   "outputs": [
    {
     "name": "stdout",
     "output_type": "stream",
     "text": [
      "LinkedList cycle length: 4\n"
     ]
    }
   ],
   "source": [
    "head = Node(1)\n",
    "head.next = Node(2)\n",
    "head.next.next = Node(3)\n",
    "head.next.next.next = Node(4)\n",
    "head.next.next.next.next = Node(5)\n",
    "head.next.next.next.next.next = head.next\n",
    "\n",
    "print(f\"LinkedList cycle length: {find_cycle_length(head)}\")\n",
    "\n"
   ]
  }
 ],
 "metadata": {
  "kernelspec": {
   "display_name": "vmlimpl",
   "language": "python",
   "name": "vmlimpl"
  },
  "language_info": {
   "codemirror_mode": {
    "name": "ipython",
    "version": 3
   },
   "file_extension": ".py",
   "mimetype": "text/x-python",
   "name": "python",
   "nbconvert_exporter": "python",
   "pygments_lexer": "ipython3",
   "version": "3.8.10"
  },
  "orig_nbformat": 4
 },
 "nbformat": 4,
 "nbformat_minor": 2
}
