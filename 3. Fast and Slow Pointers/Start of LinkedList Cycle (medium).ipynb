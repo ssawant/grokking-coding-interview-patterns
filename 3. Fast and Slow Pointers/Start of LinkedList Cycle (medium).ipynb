{
 "cells": [
  {
   "cell_type": "markdown",
   "metadata": {},
   "source": [
    "#### Find start node of the LinkedListCYcle\n",
    "\n",
    "Given the head of a Singly LinkedList that contains a cycle, write a function to find the starting node of the cycle.\n",
    "\n",
    "Soluation: \\\n",
    "First find the cycle then find the cycle length now use two pointer one at end of cycle and one at head and iterate still both meet at start of cycle node."
   ]
  },
  {
   "cell_type": "code",
   "execution_count": 26,
   "metadata": {},
   "outputs": [],
   "source": [
    "class Node:\n",
    "    def __init__(self, value, next=None):\n",
    "        self.value = value\n",
    "        self.next = next\n",
    "    \n",
    "    def print_list(self):\n",
    "        temp = self\n",
    "        while temp is not None:\n",
    "            print(temp.value,end='')\n",
    "            temp = temp.next\n",
    "        print()\n",
    "\n",
    "def find_linkedlist_cycle(head):\n",
    "    slow, fast = head, head\n",
    "\n",
    "    while fast is not None and fast.next is not None:\n",
    "        fast = fast.next.next\n",
    "        slow = slow.next\n",
    "        if slow == fast: # found cycle in linkedlist\n",
    "            cycle_length = calculate_cycle_length(slow)\n",
    "            break\n",
    "    \n",
    "    return find_cycle_start(cycle_length, head)\n",
    "\n",
    "def calculate_cycle_length(slow):\n",
    "    current = slow\n",
    "    cycle_length = 0\n",
    "    while True:\n",
    "        current = current.next\n",
    "        cycle_length += 1\n",
    "        if current == slow:\n",
    "            break\n",
    "    \n",
    "    return cycle_length\n",
    "\n",
    "def find_cycle_start(cycle_length, head):\n",
    "    pointer1, pointer2 = head, head\n",
    "    # move pointer2 to end of cycle\n",
    "    while cycle_length > 0:\n",
    "        pointer2 = pointer2.next\n",
    "        cycle_length -= 1\n",
    "    \n",
    "    # increment both pointers until they meet at the start of the cycle\n",
    "    while pointer1 != pointer2:\n",
    "        pointer1 = pointer1.next\n",
    "        pointer2 = pointer2.next\n",
    "    \n",
    "    return pointer1"
   ]
  },
  {
   "cell_type": "code",
   "execution_count": 28,
   "metadata": {},
   "outputs": [
    {
     "name": "stdout",
     "output_type": "stream",
     "text": [
      "Cycle start in the LinkedList at node 3\n"
     ]
    }
   ],
   "source": [
    "head = Node(1)\n",
    "head.next = Node(2)\n",
    "head.next.next = Node(3)\n",
    "head.next.next.next = Node(4)\n",
    "head.next.next.next.next = Node(5)\n",
    "head.next.next.next.next.next = Node(6)\n",
    "head.next.next.next.next.next.next = head.next.next\n",
    "\n",
    "# print(f\"Linkedlist {head.print_list()}\")\n",
    "print(f\"Cycle start in the LinkedList at node {find_linkedlist_cycle(head).value}\")"
   ]
  }
 ],
 "metadata": {
  "kernelspec": {
   "display_name": "vmlimpl",
   "language": "python",
   "name": "vmlimpl"
  },
  "language_info": {
   "codemirror_mode": {
    "name": "ipython",
    "version": 3
   },
   "file_extension": ".py",
   "mimetype": "text/x-python",
   "name": "python",
   "nbconvert_exporter": "python",
   "pygments_lexer": "ipython3",
   "version": "3.8.10"
  },
  "orig_nbformat": 4
 },
 "nbformat": 4,
 "nbformat_minor": 2
}
