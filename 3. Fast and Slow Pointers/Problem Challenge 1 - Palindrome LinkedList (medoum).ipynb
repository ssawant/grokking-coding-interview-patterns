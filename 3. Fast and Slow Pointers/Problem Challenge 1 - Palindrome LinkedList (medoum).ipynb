{
 "cells": [
  {
   "cell_type": "markdown",
   "metadata": {},
   "source": [
    "#### Problem Challenge 1 : Palindrome LinkedList (medium)\n",
    "\n",
    "Given the head of a Singly LinkedlIst, write a method to check if the LinkedList is a palindrom or not.\n",
    "\n",
    "Your algorithm should use constant space and the input LinkedList should be in the oirginal form once the alforithm is finished. The algorithm should have `O(N)` time complexity where `N` is the number of nodes in the LinkedList.\n",
    "\n",
    "```\n",
    "Example 1:\n",
    "\n",
    "Input: 2 -> 4 -> 6 -> 4 -> 2 -> null\n",
    "Output: True\n",
    "\n",
    "Example 2:\n",
    "Input: 2 -> 4 -> 6 -> 4 -> 2 -> 2 -> null\n",
    "Output: False\n",
    "```"
   ]
  },
  {
   "cell_type": "code",
   "execution_count": 61,
   "metadata": {},
   "outputs": [],
   "source": [
    "class Node:\n",
    "    def __init__(self, value, next=None):\n",
    "        self.value = value\n",
    "        self.next = next\n",
    "\n",
    "def is_LinkedList_palindrome(head):\n",
    "    slow, fast = head, head\n",
    "\n",
    "    while fast is not None and fast.next is not None:\n",
    "        fast = fast.next.next\n",
    "        slow = slow.next\n",
    "\n",
    "    end = reverse_LinkedList(slow)\n",
    "    copy_end = end\n",
    "\n",
    "    while head.next is not None and end.next is not None:\n",
    "        if head.value != end.value:\n",
    "            return False\n",
    "            \n",
    "        head = head.next\n",
    "        end = end.next\n",
    "\n",
    "    reverse_LinkedList(copy_end) # revert the reverse of the second half\n",
    "    return True\n",
    "\n",
    "def reverse_LinkedList(head):\n",
    "    former, latter = None, head\n",
    "    temp = None\n",
    "    while latter:\n",
    "        temp = latter\n",
    "        latter = latter.next\n",
    "        temp.next = former\n",
    "        former = temp\n",
    "    return temp\n",
    "\n",
    "def print_LinkedList(head):\n",
    "    printl = head\n",
    "    while printl is not None:\n",
    "        print(printl.value, end=' ')\n",
    "    print()\n",
    "    "
   ]
  },
  {
   "cell_type": "code",
   "execution_count": 62,
   "metadata": {},
   "outputs": [
    {
     "name": "stdout",
     "output_type": "stream",
     "text": [
      "Is linkedlist palindrome False\n"
     ]
    }
   ],
   "source": [
    "head = Node(2)\n",
    "head.next = Node(4)\n",
    "head.next.next = Node(6)\n",
    "head.next.next.next = Node(4)\n",
    "head.next.next.next.next = Node(2)\n",
    "head.next.next.next.next.next = Node(2)\n",
    "\n",
    "print(f\"Is linkedlist palindrome {is_LinkedList_palindrome(head)}\")"
   ]
  }
 ],
 "metadata": {
  "kernelspec": {
   "display_name": "vmlimpl",
   "language": "python",
   "name": "vmlimpl"
  },
  "language_info": {
   "codemirror_mode": {
    "name": "ipython",
    "version": 3
   },
   "file_extension": ".py",
   "mimetype": "text/x-python",
   "name": "python",
   "nbconvert_exporter": "python",
   "pygments_lexer": "ipython3",
   "version": "3.8.10"
  },
  "orig_nbformat": 4
 },
 "nbformat": 4,
 "nbformat_minor": 2
}
