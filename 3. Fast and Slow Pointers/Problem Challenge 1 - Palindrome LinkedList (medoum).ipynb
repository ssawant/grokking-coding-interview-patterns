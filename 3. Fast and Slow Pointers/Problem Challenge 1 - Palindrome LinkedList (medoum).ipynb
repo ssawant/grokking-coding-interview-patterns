{
 "cells": [
  {
   "cell_type": "markdown",
   "metadata": {},
   "source": [
    "#### Problem Challenge 1 : Palindrome LinkedList (medium)\n",
    "\n",
    "Given the head of a Singly LinkedlIst, write a method to check if the LinkedList is a palindrom or not.\n",
    "\n",
    "Your algorithm should use constant space and the input LinkedList should be in the oirginal form once the alforithm is finished. The algorithm should have `O(N)` time complexity where `N` is the number of nodes in the LinkedList.\n",
    "\n",
    "```\n",
    "Example 1:\n",
    "\n",
    "Input: 2 -> 4 -> 6 -> 4 -> 2 -> null\n",
    "Output: True\n",
    "\n",
    "Example 2:\n",
    "Input: 2 -> 4 -> 6 -> 4 -> 2 -> 2 -> null\n",
    "Output: False\n",
    "```"
   ]
  },
  {
   "cell_type": "code",
   "execution_count": 31,
   "metadata": {},
   "outputs": [],
   "source": [
    "class Node:\n",
    "    def __init__(self, value, next=None):\n",
    "        self.value = value\n",
    "        self.next = next\n",
    "\n",
    "def is_LinkedList_palindrome(head):\n",
    "    slow, fast = head, head\n",
    "\n",
    "    while fast is not None and fast.next is not None:\n",
    "        fast = fast.next.next\n",
    "        slow = slow.next\n",
    "\n",
    "        if fast == slow:\n",
    "            return False\n",
    "    \n",
    "    return True"
   ]
  },
  {
   "cell_type": "code",
   "execution_count": 48,
   "metadata": {},
   "outputs": [
    {
     "name": "stdout",
     "output_type": "stream",
     "text": [
      "Is linkedlist palindrome True\n"
     ]
    }
   ],
   "source": [
    "head = Node(2)\n",
    "head.next = Node(4)\n",
    "head.next.next = Node(6)\n",
    "head.next.next.next = Node(4)\n",
    "head.next.next.next.next = Node(2)\n",
    "head.next.next.next.next.next = Node(2)\n",
    "\n",
    "print(f\"Is linkedlist palindrome {is_LinkedList_palindrome(head)}\")"
   ]
  }
 ],
 "metadata": {
  "kernelspec": {
   "display_name": "vmlimpl",
   "language": "python",
   "name": "vmlimpl"
  },
  "language_info": {
   "codemirror_mode": {
    "name": "ipython",
    "version": 3
   },
   "file_extension": ".py",
   "mimetype": "text/x-python",
   "name": "python",
   "nbconvert_exporter": "python",
   "pygments_lexer": "ipython3",
   "version": "3.8.10"
  },
  "orig_nbformat": 4
 },
 "nbformat": 4,
 "nbformat_minor": 2
}
