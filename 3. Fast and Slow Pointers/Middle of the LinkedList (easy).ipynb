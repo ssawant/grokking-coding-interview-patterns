{
 "cells": [
  {
   "cell_type": "markdown",
   "metadata": {},
   "source": [
    "#### Find middle of the LinkedList\n",
    "Given the head of a Singly LinkedList, write a method to return the midddle node of the LinkedList. \\\n",
    "If the totalnumber of nodes in the LinkedList is even,return the second middle node.\n",
    "\n",
    "```\n",
    "Example 1:\n",
    "\n",
    "Input : 1 -> 2 -> 3 -> 4 -> 5 -> null\n",
    "Output: 3\n",
    "\n",
    "Example 2:\n",
    "\n",
    "Input: 1 -> 2 -> 3 -> 4 -> 5 -> 6 -> null\n",
    "Output: 4\n",
    "\n",
    "Example 3:\n",
    "\n",
    "Input: 1 -> 2 -> 3 -> 4 -> 5 -> 6 -> 7 -> null\n",
    "Output: 4\n",
    "\n",
    "```"
   ]
  },
  {
   "cell_type": "markdown",
   "metadata": {},
   "source": [
    "Time complexity : `O(N)` \\\n",
    "The above algorithm will have a time complexity of `O(N)` where `N` is the number of nodes in the LinkedList.\n",
    "\n",
    "Space complexity : `O(1)` constant space.\n"
   ]
  },
  {
   "cell_type": "code",
   "execution_count": 1,
   "metadata": {},
   "outputs": [],
   "source": [
    "class Node:\n",
    "    def __init__(self, value, next=None):\n",
    "        self.value = value\n",
    "        self.next = next\n",
    "\n",
    "def find_linkedlist_mid(head):\n",
    "    slow, fast = head, head\n",
    "\n",
    "    while fast is not None and fast.next is not None:\n",
    "        fast = fast.next.next\n",
    "        slow = slow.next\n",
    "    return slow"
   ]
  },
  {
   "cell_type": "code",
   "execution_count": 5,
   "metadata": {},
   "outputs": [
    {
     "name": "stdout",
     "output_type": "stream",
     "text": [
      "LinkedList mid is 4\n"
     ]
    }
   ],
   "source": [
    "head = Node(1)\n",
    "head.next = Node(2)\n",
    "head.next.next = Node(3)\n",
    "head.next.next.next = Node(4)\n",
    "head.next.next.next.next = Node(5)\n",
    "head.next.next.next.next.next = Node(6)\n",
    "head.next.next.next.next.next.next = Node(7)\n",
    "\n",
    "print(f\"LinkedList mid is {find_linkedlist_mid(head).value}\")"
   ]
  }
 ],
 "metadata": {
  "kernelspec": {
   "display_name": "vmlimpl",
   "language": "python",
   "name": "vmlimpl"
  },
  "language_info": {
   "codemirror_mode": {
    "name": "ipython",
    "version": 3
   },
   "file_extension": ".py",
   "mimetype": "text/x-python",
   "name": "python",
   "nbconvert_exporter": "python",
   "pygments_lexer": "ipython3",
   "version": "3.8.10"
  },
  "orig_nbformat": 4
 },
 "nbformat": 4,
 "nbformat_minor": 2
}
