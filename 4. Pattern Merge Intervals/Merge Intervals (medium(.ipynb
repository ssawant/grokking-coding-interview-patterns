{
 "cells": [
  {
   "cell_type": "markdown",
   "metadata": {},
   "source": [
    "#### Find the merge intervals\n",
    "\n",
    "Giver an array of list return a list of overlappased merged intervals\n",
    "\n",
    "```\n",
    "Example 1:\n",
    "\n",
    "Intervals: [[1,4], [2,5], [7,9]]\n",
    "Output: [[1,5], [7,9]]\n",
    "Explanation: Since the first two intervals [1,4] and [2,5] overlap, we merged then into one [1,5].\n",
    "\n",
    "Example 2:\n",
    "\n",
    "Intervals: [[6,7], [2,4], [5,9]]\n",
    "Output: [[2,4], [5,9]]\n",
    "Explanation: Since the two intervals [6,7] and [5,9] overlap, we merged then into one [5,9].\n",
    "\n",
    "Example 3:\n",
    "\n",
    "Intervals: [[1,4], [2,6], [3,5]]\n",
    "Output: [[1,6]]\n",
    "Explanation: Since all the given intervals overlap, we merged them into one.\n",
    "```"
   ]
  },
  {
   "cell_type": "markdown",
   "metadata": {},
   "source": [
    "**Time complexity**: `O(N * logN)` \\\n",
    "The timecomplexity of the above algorithm is `O(N * logN)`, where `N` is the total number of intervals.\\\n",
    "We are interating the intervalsonly once which will take `O(N)`,in the beginning through, since we need to sort the intervals,our algorithm will take `O(N * logN)`.\n",
    "\n",
    "**Space complexity**: `O(N)` \\\n",
    "The space complexity of the above algorithm will be `O(N)` as we need to return a list containing all the merged intervals.\\\n",
    "We will also need `O(N)` space for sorting."
   ]
  },
  {
   "cell_type": "code",
   "execution_count": 7,
   "metadata": {},
   "outputs": [],
   "source": [
    "class Interval:\n",
    "    def __init__(self, start, end):\n",
    "        self.start = start\n",
    "        self.end = end\n",
    "    \n",
    "    def print_inteval(self):\n",
    "        print(f\"[{self.start},{self.end}]\",end='')\n",
    "\n",
    "def find_merged_intervals(intervals):\n",
    "    if len(intervals) < 2:\n",
    "        return intervals\n",
    "    \n",
    "    # Sort intervals based on start value ascending\n",
    "    intervals.sort(key=lambda x: x.start)\n",
    "\n",
    "    mergedIntervals = []\n",
    "    start = intervals[0].start\n",
    "    end = intervals[0].end\n",
    "\n",
    "    for i in range(1, len(intervals)):\n",
    "        interval = intervals[i]\n",
    "        if end <= interval.start: # overlapping interval adjust the end\n",
    "            end = max(end, interval.end)\n",
    "        else: # non-overlapping interval adjust the previous interval and reset\n",
    "            mergedIntervals.append(Interval(start, end))\n",
    "            start = interval.start\n",
    "            end = interval.end\n",
    "    \n",
    "    # add the last interval\n",
    "    mergedIntervals.append(Interval(start, end))\n",
    "    return mergedIntervals"
   ]
  },
  {
   "cell_type": "code",
   "execution_count": 8,
   "metadata": {},
   "outputs": [
    {
     "name": "stdout",
     "output_type": "stream",
     "text": [
      "[1,4][2,9]\n"
     ]
    }
   ],
   "source": [
    "for i in find_merged_intervals([Interval(1, 4), Interval(2, 5), Interval(7,9)]):\n",
    "    i.print_inteval()\n",
    "print()"
   ]
  }
 ],
 "metadata": {
  "kernelspec": {
   "display_name": "vmlimpl",
   "language": "python",
   "name": "vmlimpl"
  },
  "language_info": {
   "name": "python",
   "version": "3.8.10"
  },
  "orig_nbformat": 4
 },
 "nbformat": 4,
 "nbformat_minor": 2
}
