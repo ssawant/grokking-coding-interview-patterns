{
 "cells": [
  {
   "cell_type": "markdown",
   "metadata": {},
   "source": [
    "#### Find the merge intervals\n",
    "\n",
    "Giver an array of list return a list of overlappased merged intervals\n",
    "\n",
    "```\n",
    "Example 1:\n",
    "\n",
    "Intervals: [[1,4], [2,5], [7,9]]\n",
    "Output: [[1,5], [7,9]]\n",
    "Explanation: Since the first two intervals [1,4] and [2,5] overlap, we merged then into one [1,5].\n",
    "\n",
    "Example 2:\n",
    "\n",
    "Intervals: [[6,7], [2,4], [5,9]]\n",
    "Output: [[2,4], [5,9]]\n",
    "Explanation: Since the two intervals [6,7] and [5,9] overlap, we merged then into one [5,9].\n",
    "\n",
    "Example 3:\n",
    "\n",
    "Intervals: [[1,4], [2,6], [3,5]]\n",
    "Output: [[1,6]]\n",
    "Explanation: Since all the given intervals overlap, we merged them into one.\n",
    "```"
   ]
  },
  {
   "cell_type": "code",
   "execution_count": null,
   "metadata": {
    "vscode": {
     "languageId": "python"
    }
   },
   "outputs": [],
   "source": [
    "class Interval:\n",
    "    def __init__(self, start, end):\n",
    "        self.start = start\n",
    "        self.end = end\n",
    "    \n",
    "    def print_inteval(self):\n",
    "        print(f\"[{self.start},{self.end}]\")\n",
    "\n",
    "def find_merged_intervals(intervals):\n",
    "    if len(intervals) < 2:\n",
    "        return intervals\n",
    "    \n",
    "    # Sort intervals based on start value ascending\n",
    "    intervals.sort(key=lambda x: x.start)\n",
    "\n",
    "    mergedIntervals = []\n",
    "    start = intervals[0].start\n",
    "    end = intervals[0].end\n",
    "\n",
    "    for i in range(1, len(intervals)):\n",
    "        interval = intervals[i]\n",
    "        if end <= interval.start: # overlapping interval adjust the end\n",
    "            end = max(end, interval.end)\n",
    "        else: # non-overlapping interval adjust the previous interval and reset\n",
    "            mergedIntervals.add(start, end)\n",
    "            start = interval.start\n",
    "            end = interval.end\n",
    "    \n",
    "    # add the last interval\n",
    "    mergedIntervals.append(Interval(start, end))\n",
    "    return mergedIntervals\n",
    "        \n",
    "\n"
   ]
  }
 ],
 "metadata": {
  "kernelspec": {
   "display_name": "vmlimpl",
   "language": "python",
   "name": "vmlimpl"
  },
  "orig_nbformat": 4
 },
 "nbformat": 4,
 "nbformat_minor": 2
}
