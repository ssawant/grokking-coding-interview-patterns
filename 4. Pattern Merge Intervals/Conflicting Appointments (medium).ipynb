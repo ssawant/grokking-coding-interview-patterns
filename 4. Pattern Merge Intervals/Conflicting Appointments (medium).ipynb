{
 "cells": [
  {
   "cell_type": "markdown",
   "metadata": {},
   "source": [
    "#### Conflicting Appointments\n",
    "Given an array of intervals repesenting `N` appointments, find out if a person can attend all the appointments.\n",
    "\n",
    "```\n",
    "Example 1:\n",
    "\n",
    "Appoinments: [[1,4], [2,5], [7,9]]\n",
    "Output: false\n",
    "Explanation: Since [1,4] and [2,5] overlap, a person cannot attend both of these appointments.\n",
    "\n",
    "Example 2:\n",
    "\n",
    "Appointments: [[6,7], [2,4], [8,12]]\n",
    "Output: true\n",
    "Explanation: None of the appointments overlap, thereforeaperson can attend all of them.\n",
    "```"
   ]
  },
  {
   "cell_type": "markdown",
   "metadata": {},
   "source": [
    "*Time complexity* : `O(N * log N)` \\\n",
    "`log N` for sorting of intervals and `N` to iterate over intervals\n",
    "\n",
    "*Space complexity* : `O(N)` \\\n",
    "`N` space we require for sorting"
   ]
  },
  {
   "cell_type": "code",
   "execution_count": 1,
   "metadata": {
    "vscode": {
     "languageId": "python"
    }
   },
   "outputs": [],
   "source": [
    "def is_appointment_conflict(intervals):\n",
    "    # sort the intervals\n",
    "    intervals.sort(key=lambda x: x[0])\n",
    "\n",
    "    for i in range(1, len(intervals)):\n",
    "        if intervals[i][0] < intervals[i-1][1]:\n",
    "            # please note the comparison above, it is \"<\" and not \"<=\"\n",
    "            # while merging we needed \"<=\" comparison, as we will be merging the two\n",
    "            # intervals having condition \"intervals[i][start] == intervals[i - 1][end]\" but\n",
    "            # such intervals don't represent conflicting appointments as one starts right\n",
    "            # after the other\n",
    "            return False\n",
    "    \n",
    "    return True"
   ]
  },
  {
   "cell_type": "code",
   "execution_count": 6,
   "metadata": {
    "vscode": {
     "languageId": "python"
    }
   },
   "outputs": [
    {
     "name": "stdout",
     "output_type": "stream",
     "text": [
      "Can attend all the appointment ? yes you can\n"
     ]
    }
   ],
   "source": [
    "print(f\"Can attend all the appointment ? {'yes you can' if is_appointment_conflict([[6,7], [2,4], [8,12]]) else 'no you can not'}\")"
   ]
  }
 ],
 "metadata": {
  "kernelspec": {
   "display_name": "vmlimpl",
   "language": "python",
   "name": "vmlimpl"
  },
  "orig_nbformat": 4
 },
 "nbformat": 4,
 "nbformat_minor": 2
}
