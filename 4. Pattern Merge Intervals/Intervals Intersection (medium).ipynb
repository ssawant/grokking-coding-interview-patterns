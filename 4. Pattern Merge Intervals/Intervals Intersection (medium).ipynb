{
 "cells": [
  {
   "cell_type": "markdown",
   "metadata": {},
   "source": [
    "#### Interval Intersection\n",
    "\n",
    "Given two lists of intervals, find the intersection of these tow lists. Each list consists of disjoint intervalssorted on their start time.\n",
    "\n",
    "```\n",
    "Example 1:\n",
    "\n",
    "Input: arr1=[[1,3], [5,6], [7,9]], arr2=[[2,3], [5,7]]\n",
    "Output: [2,3], [5,6], [7,7]\n",
    "Explanation: The output list contains the common intervals between the two lists.\n",
    "\n",
    "Example 2:\n",
    "\n",
    "Input: arr1=[[1,3], [5,6], [9,12]], arr2=[[5,10]]\n",
    "Output: [5,7], [9,10]\n",
    "Explanation: The output list contains the common intervals between the two lists.\n",
    "```"
   ]
  },
  {
   "cell_type": "markdown",
   "metadata": {},
   "source": [
    "*Time Complexity* `O(N)`\\\n",
    "We are iterating through both the list, therefore time complexity of above algo will be `O(N + M)`.\n",
    "\n",
    "*Space Complexity* `O(1)`\\\n",
    "Ignoring the space needed for the result list, the algo runs in the constant space `O(1)`."
   ]
  },
  {
   "cell_type": "code",
   "execution_count": 18,
   "metadata": {
    "vscode": {
     "languageId": "python"
    }
   },
   "outputs": [],
   "source": [
    "def merge(interval_a, interval_b):\n",
    "    result = []\n",
    "\n",
    "    i, j, start, end = 0, 0, 0, 1\n",
    "    while i < len(interval_a) and j < len(interval_b):\n",
    "        # check if interval overlap and interval_a[i]`s start time lies within the other intervals_b[j]\n",
    "        if interval_a[i][end] < interval_b[j][start]:\n",
    "            i += 1\n",
    "        # check if intervals overlap and interval_a[j]`s start timelies within the other intervals_b[i]\n",
    "        elif interval_b[j][end] < interval_a[i][start]:\n",
    "            j += 1\n",
    "        else:\n",
    "            union_start = max(interval_a[i][start], interval_b[j][start])\n",
    "            union_end = min(interval_a[i][end], interval_b[j][end])\n",
    "            \n",
    "            # store the intersection part\n",
    "            result.append([union_start, union_end])\n",
    "\n",
    "            # move next from the interval which is finishing first\n",
    "            if interval_a[i][end] == union_end:\n",
    "                i += 1\n",
    "            if interval_b[j][end] == union_end:\n",
    "                j += 1\n",
    "    \n",
    "    return result"
   ]
  },
  {
   "cell_type": "code",
   "execution_count": 19,
   "metadata": {
    "vscode": {
     "languageId": "python"
    }
   },
   "outputs": [
    {
     "name": "stdout",
     "output_type": "stream",
     "text": [
      "The overlapped interval between given intervals are [[2, 3], [5, 6], [7, 7]]\n"
     ]
    }
   ],
   "source": [
    "print(f\"The overlapped interval between given intervals are {merge([[1, 3],[5, 6],[7, 9]], [[2, 3],[5, 7]])}\")"
   ]
  }
 ],
 "metadata": {
  "kernelspec": {
   "display_name": "vmlimpl",
   "language": "python",
   "name": "vmlimpl"
  },
  "orig_nbformat": 4
 },
 "nbformat": 4,
 "nbformat_minor": 2
}
