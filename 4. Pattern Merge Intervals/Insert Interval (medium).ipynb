{
 "cells": [
  {
   "cell_type": "markdown",
   "metadata": {},
   "source": [
    "#### Insert Interval\n",
    "\n",
    "Given a listof non-overlapping interval sorted by their start time,insert a given interval at the correct position and merge all necessary intervals to produce a list that has only mutually exclusive intervals.\n",
    "\n",
    "```\n",
    "Example 1:\n",
    "\n",
    "Input: Intervals=[[1,3], [5,7], [8,12]], New Interval=[4,6]\n",
    "Output: [[1,3], [4,7], [8,12]]\n",
    "Explanation: After insertion, since [4,6] overlaps with [5,7], we merged them into one [4,7]\n",
    "\n",
    "Example 2:\n",
    "\n",
    "Input: Intervals=[[1,3], [5,7], [8,12]], New Interval=[4,10]\n",
    "Output: [[1,3], [4,12]]\n",
    "Explanation: After insertion, since [1,4] overlaps with [2,3], we merged them into one [1,4]\n",
    "```"
   ]
  },
  {
   "cell_type": "code",
   "execution_count": 23,
   "metadata": {},
   "outputs": [],
   "source": [
    "def insert(intervals, new_interval):\n",
    "    merge = []\n",
    "    i, start, end = 0, 0, 1\n",
    "\n",
    "    # skip (and add to output) all intervals that come before the `new_interval`\n",
    "    while i < len(intervals) and intervals[i][start] < new_interval[start]:\n",
    "        merge.append(intervals[i])\n",
    "        i += 1\n",
    "    \n",
    "    # merge all intervals that overlap with `new_interval`\n",
    "    while i < len(intervals) and intervals[i][start] <= new_interval[end]:\n",
    "        new_interval[start] = min(intervals[i][start], new_interval[start])\n",
    "        new_interval[end] = max(intervals[i][end], new_interval[end])\n",
    "        i += 1\n",
    "    \n",
    "    # insert new interval\n",
    "    merge.append(new_interval)\n",
    "\n",
    "    # add all the remaining intervals to the output\n",
    "    while i < len(intervals):\n",
    "        merge.append(intervals[i])\n",
    "        i += 1\n",
    "    return merge"
   ]
  },
  {
   "cell_type": "code",
   "execution_count": 24,
   "metadata": {},
   "outputs": [
    {
     "name": "stdout",
     "output_type": "stream",
     "text": [
      "Interval after inserting the new interval: [[1, 3], [4, 12]]\n"
     ]
    }
   ],
   "source": [
    "print(f\"Interval after inserting the new interval: {insert([[1,3],[5,7],[8,12]], [4,10])}\")"
   ]
  }
 ],
 "metadata": {
  "kernelspec": {
   "display_name": "vmlimpl",
   "language": "python",
   "name": "vmlimpl"
  },
  "language_info": {
   "codemirror_mode": {
    "name": "ipython",
    "version": 3
   },
   "file_extension": ".py",
   "mimetype": "text/x-python",
   "name": "python",
   "nbconvert_exporter": "python",
   "pygments_lexer": "ipython3",
   "version": "3.8.10"
  },
  "orig_nbformat": 4
 },
 "nbformat": 4,
 "nbformat_minor": 2
}
