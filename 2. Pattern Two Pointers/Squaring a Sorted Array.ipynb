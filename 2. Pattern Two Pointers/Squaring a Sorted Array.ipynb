{
 "cells": [
  {
   "cell_type": "markdown",
   "metadata": {},
   "source": [
    "Problem Statement:\n",
    "\n",
    "Given a Sorted array, create a new array containing squares of all the number of the input array in the sorted order.\n",
    "\n",
    "```\n",
    "Input: [-2,-1, 0, 2, 3]\n",
    "Output: [0, 1, 4, 4, 9]\n",
    "Explanation : Sort the array after squaring each element\n",
    "```"
   ]
  },
  {
   "cell_type": "code",
   "execution_count": 9,
   "metadata": {},
   "outputs": [],
   "source": [
    "def generate_arr_square(arr):\n",
    "    n = len(arr)\n",
    "    squares = [0 for x in range(n)]\n",
    "    highest_index = n - 1\n",
    "    left, right = 0, n - 1\n",
    "\n",
    "    while left <= right:\n",
    "        left_square = arr[left] * arr[left]\n",
    "        right_square = arr[right] * arr[right]\n",
    "\n",
    "        if left_square > right_square:\n",
    "            squares[highest_index] = left_square\n",
    "            left += 1\n",
    "        else:\n",
    "            squares[highest_index] = right_square\n",
    "            right -=1\n",
    "        highest_index -=1\n",
    "\n",
    "    return squares"
   ]
  },
  {
   "cell_type": "code",
   "execution_count": 10,
   "metadata": {},
   "outputs": [
    {
     "name": "stdout",
     "output_type": "stream",
     "text": [
      "[0, 1, 4, 4, 9]\n"
     ]
    }
   ],
   "source": [
    "print(generate_arr_square(arr=[-2, -1, 0, 2, 3]))"
   ]
  }
 ],
 "metadata": {
  "kernelspec": {
   "display_name": "vmlimpl",
   "language": "python",
   "name": "vmlimpl"
  },
  "language_info": {
   "codemirror_mode": {
    "name": "ipython",
    "version": 3
   },
   "file_extension": ".py",
   "mimetype": "text/x-python",
   "name": "python",
   "nbconvert_exporter": "python",
   "pygments_lexer": "ipython3",
   "version": "3.8.10"
  },
  "orig_nbformat": 4
 },
 "nbformat": 4,
 "nbformat_minor": 2
}
