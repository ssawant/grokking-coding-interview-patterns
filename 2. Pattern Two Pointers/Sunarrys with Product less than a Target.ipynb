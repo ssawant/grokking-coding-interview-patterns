{
 "cells": [
  {
   "cell_type": "markdown",
   "metadata": {},
   "source": [
    "Problem Statement\n",
    "\n",
    "Given an array with positive numbers and a target number, find all of the contiguous subarrys whose product is less then the target number.\n",
    "\n",
    "```\n",
    "Example 1:\n",
    "\n",
    "Input: [2, 5, 3, 10], target=30\n",
    "Output: [2], [5], [2,5], [3], [5,3], [10]\n",
    "Explanation: There are is contiguous subarrays whose product is less then the target.\n",
    "```"
   ]
  },
  {
   "cell_type": "code",
   "execution_count": null,
   "metadata": {},
   "outputs": [],
   "source": []
  }
 ],
 "metadata": {
  "language_info": {
   "name": "python"
  },
  "orig_nbformat": 4
 },
 "nbformat": 4,
 "nbformat_minor": 2
}
