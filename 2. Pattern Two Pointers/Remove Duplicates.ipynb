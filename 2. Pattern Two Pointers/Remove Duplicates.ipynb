{
 "cells": [
  {
   "cell_type": "markdown",
   "metadata": {},
   "source": [
    "Problem Statement\n",
    "Given an array of sorted numbers, remove all duplicates from it. You should not use any extra space; after removing the duplicates in-place return the new length of the array\n",
    "\n",
    "```\n",
    "Input: [2, 3, 3, 3, 6, 9, 9]\n",
    "Output: 4\n",
    "Explanation: The first four elements after removing the duplicates will be [2, 3, 6, 9].\n",
    "\n",
    "\n",
    "Input: [2, 2, 2, 11]\n",
    "Output: 2\n",
    "Explanation: The first two elements after removing the duplicates will be [2, 11].\n",
    "```"
   ]
  },
  {
   "cell_type": "code",
   "execution_count": 2,
   "metadata": {},
   "outputs": [],
   "source": [
    "def remove_duplicate(arr):\n",
    "    next_non_duplicate = 1\n",
    "\n",
    "    i = 1\n",
    "    while (i < len(arr)):\n",
    "        if arr[next_non_duplicate-1] < arr[i]:\n",
    "            arr[next_non_duplicate] = arr[i]\n",
    "            next_non_duplicate += 1\n",
    "        i += 1\n",
    "    return next_non_duplicate"
   ]
  },
  {
   "cell_type": "code",
   "execution_count": 4,
   "metadata": {},
   "outputs": [
    {
     "name": "stdout",
     "output_type": "stream",
     "text": [
      "[2, 3, 6, 9]\n"
     ]
    }
   ],
   "source": [
    "print(remove_duplicate(arr=[2, 3, 3, 3, 6, 9, 9]))"
   ]
  },
  {
   "cell_type": "markdown",
   "metadata": {},
   "source": [
    "Time Complexity\n",
    "The time complexity of the above algo will be O(N),\n",
    "where 'N' is the total number of elements in the given array.\n",
    "\n",
    "Space Complexity\n",
    "The alog runs in constant space O(1)."
   ]
  },
  {
   "cell_type": "markdown",
   "metadata": {},
   "source": [
    "Similar Question:\n",
    "\n",
    "Problem 1: Given an unsorted array of numbers and a target 'key', remove all instances of 'key' in-place and return the new length of the array.\n",
    "\n",
    "```\n",
    "Example 1:\n",
    "\n",
    "Input: [3, 2, 2, 6, 3, 10, 9, 3], Key=3\n",
    "Output: 4\n",
    "Explanation: The first four elements after removing every 'Key' will be [2, 6, 10, 9]\n",
    "```"
   ]
  },
  {
   "cell_type": "code",
   "execution_count": 12,
   "metadata": {},
   "outputs": [],
   "source": [
    "def remove_duplicate_key(arr, key):\n",
    "    next_element = 0\n",
    "\n",
    "    for i in range(len(arr)):\n",
    "        if arr[i] != key:\n",
    "            arr[next_element] = arr[i]\n",
    "            next_element += 1\n",
    "\n",
    "    return next_element"
   ]
  },
  {
   "cell_type": "code",
   "execution_count": 13,
   "metadata": {},
   "outputs": [
    {
     "name": "stdout",
     "output_type": "stream",
     "text": [
      "5\n"
     ]
    }
   ],
   "source": [
    "print(remove_duplicate_key(arr=[3, 2, 2, 6, 3, 10, 9, 3], key=3))"
   ]
  },
  {
   "cell_type": "markdown",
   "metadata": {},
   "source": [
    "Time Complexity:\n",
    "The Time complexity of the above algo will be O(N), where 'N' os the total number of elements in the given array.\n",
    "\n",
    "Space Complexity: O(1)\n"
   ]
  }
 ],
 "metadata": {
  "kernelspec": {
   "display_name": "vmlimpl",
   "language": "python",
   "name": "vmlimpl"
  },
  "language_info": {
   "codemirror_mode": {
    "name": "ipython",
    "version": 3
   },
   "file_extension": ".py",
   "mimetype": "text/x-python",
   "name": "python",
   "nbconvert_exporter": "python",
   "pygments_lexer": "ipython3",
   "version": "3.8.10"
  },
  "orig_nbformat": 4
 },
 "nbformat": 4,
 "nbformat_minor": 2
}
