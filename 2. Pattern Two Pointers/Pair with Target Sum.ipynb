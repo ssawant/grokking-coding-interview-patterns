{
 "cells": [
  {
   "cell_type": "markdown",
   "metadata": {},
   "source": [
    "Given an array of sorted naumbers and a target sum, find a pair in the array whose sum is equal to the given target.\n",
    "\n",
    "Write a function to return the indices of the tow numbers (i.e the pair) such that they add up to the given target.\n",
    "\n",
    "```\n",
    "Input: [1, 2, 3, 4, 6], target=6\n",
    "Output: [1, 3]\n",
    "Explanation: The numbers at index 1 and 3 up to 6: 2+4=6\n",
    "\n",
    "Input: [2, 5, 9, 11], target=11\n",
    "Output: [0, 2]\n",
    "Explanation: The numbers at index 0 and 2 add up to 11: 2+9=11"
   ]
  },
  {
   "cell_type": "code",
   "execution_count": 5,
   "metadata": {
    "vscode": {
     "languageId": "python"
    }
   },
   "outputs": [],
   "source": [
    "def find_target_sum(arr, target):\n",
    "    right_point, left_point = 0, len(arr)-1\n",
    "    while right_point < left_point:\n",
    "        curr_sum = arr[right_point] + arr[left_point]\n",
    "        if curr_sum < target:\n",
    "            right_point += 1\n",
    "        elif curr_sum > target:\n",
    "            left_point -= 1\n",
    "        else:\n",
    "            return [right_point, left_point]\n",
    "    return [None, None]"
   ]
  },
  {
   "cell_type": "code",
   "execution_count": 8,
   "metadata": {
    "vscode": {
     "languageId": "python"
    }
   },
   "outputs": [
    {
     "name": "stdout",
     "output_type": "stream",
     "text": [
      "[1, 3]\n",
      "[0, 2]\n"
     ]
    }
   ],
   "source": [
    "print(find_target_sum(arr=[1,2,3,4,6], target=6)) # Output: [1, 3]\n",
    "print(find_target_sum(arr=[2,5,9,11], target=11)) # Output: [0, 2]"
   ]
  }
 ],
 "metadata": {
  "kernelspec": {
   "display_name": "vmlimpl",
   "language": "python",
   "name": "vmlimpl"
  },
  "orig_nbformat": 4
 },
 "nbformat": 4,
 "nbformat_minor": 2
}
