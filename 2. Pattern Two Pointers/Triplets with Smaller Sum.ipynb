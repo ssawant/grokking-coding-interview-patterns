{
 "cells": [
  {
   "cell_type": "markdown",
   "metadata": {},
   "source": [
    "ProblemStatement\n",
    "\n",
    "Given an array arr of unsorted numbers and a target sum,count all triplets in it such that arr[i] + arr[j] + arr[k] < target where i, k, and k are three different indices. Write a function to return the count of such triplets.\n",
    "\n",
    "```\n",
    "Example 1:\n",
    "\n",
    "Input: [-1, 0, 2, 3], target=3\n",
    "Output: 2\n",
    "Explanation: There are two triplets whose sum is less than the target:[-1, 0, 3], [-1, 0, 2]\n",
    "```"
   ]
  },
  {
   "cell_type": "code",
   "execution_count": 2,
   "metadata": {},
   "outputs": [],
   "source": [
    "def triplet_with_smaller_sum(arr, target):\n",
    "    arr.sort()\n",
    "    count = 0\n",
    "    for i in range(len(arr)-2):\n",
    "        count += search_pair(arr, target - arr[i], i)\n",
    "    return count\n",
    "\n",
    "\n",
    "def search_pair(arr, target_sum, first):\n",
    "    count = 0\n",
    "    left, right = first + 1, len(arr) - 1\n",
    "    while (left < right):\n",
    "        if arr[left] + arr[right] < target_sum:\n",
    "            count += right - left\n",
    "            left += 1\n",
    "        else:\n",
    "            right -= 1\n",
    "    return count"
   ]
  },
  {
   "cell_type": "code",
   "execution_count": 4,
   "metadata": {},
   "outputs": [
    {
     "name": "stdout",
     "output_type": "stream",
     "text": [
      "2\n"
     ]
    }
   ],
   "source": [
    "print(triplet_with_smaller_sum([-1, 0, 2, 3], 3))"
   ]
  }
 ],
 "metadata": {
  "kernelspec": {
   "display_name": "vmlimpl",
   "language": "python",
   "name": "vmlimpl"
  },
  "language_info": {
   "codemirror_mode": {
    "name": "ipython",
    "version": 3
   },
   "file_extension": ".py",
   "mimetype": "text/x-python",
   "name": "python",
   "nbconvert_exporter": "python",
   "pygments_lexer": "ipython3",
   "version": "3.8.10"
  },
  "orig_nbformat": 4
 },
 "nbformat": 4,
 "nbformat_minor": 2
}
