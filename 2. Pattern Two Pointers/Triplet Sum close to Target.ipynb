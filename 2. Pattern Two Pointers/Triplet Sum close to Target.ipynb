{
 "cells": [
  {
   "cell_type": "markdown",
   "metadata": {},
   "source": [
    "Problem Statement\n",
    "\n",
    "Given an array of unsorted numbers and a target number, find a truplet in the array whose sum is as closeto the target number as possible, return the sum of the triplet.\n",
    "If There are more than one such triplet, return the sum of the triplet with the smallest sum.\n",
    "\n",
    "```\n",
    "Example 1:\n",
    "\n",
    "Input: [-2, 0, 1, 2], target=2\n",
    "Output: 1\n",
    "Explanation: The triplet [-2, 1, 2] has the closest sum to the target.\n",
    "\n",
    "Example 2:\n",
    "\n",
    "Input: [-3, -1, 1, 2], target=1\n",
    "Output: 0\n",
    "Explanation: The triplet [-3, 1, 2] has the closest sum to the target.\n",
    "```"
   ]
  },
  {
   "cell_type": "code",
   "execution_count": 21,
   "metadata": {
    "vscode": {
     "languageId": "python"
    }
   },
   "outputs": [],
   "source": [
    "import math\n",
    "\n",
    "def find_triplet_sum_to_target(arr, target_sum):\n",
    "    arr.sort()\n",
    "    smallest_diff = math.inf\n",
    "\n",
    "    for i in range(len(arr) - 2):\n",
    "        right, left = len(arr) - 1, i + 1\n",
    "        while(left < right):\n",
    "            target_diff = target_sum - arr[i] - arr[right] - arr[left]\n",
    "            if target_diff == target_sum:\n",
    "                return target_sum - target_diff\n",
    "\n",
    "            # handle the smallest sum when we have more than one soluation\n",
    "            if abs(target_diff) < abs(target_sum) or (abs(target_diff) == abs(smallest_diff) and target_diff > smallest_diff):\n",
    "                smallest_diff = target_diff # save the closest and the biggest differece\n",
    "            \n",
    "            if target_diff > 0:\n",
    "                left +=1\n",
    "            else:\n",
    "                right += 1\n",
    "        \n",
    "    return target_sum - smallest_diff"
   ]
  },
  {
   "cell_type": "code",
   "execution_count": 23,
   "metadata": {
    "vscode": {
     "languageId": "python"
    }
   },
   "outputs": [
    {
     "name": "stdout",
     "output_type": "stream",
     "text": [
      "0\n"
     ]
    }
   ],
   "source": [
    "print(find_triplet_sum_to_target(arr=[-3,-1,1,2], target_sum=3))\n"
   ]
  }
 ],
 "metadata": {
  "kernelspec": {
   "display_name": "vmlimpl",
   "language": "python",
   "name": "vmlimpl"
  },
  "orig_nbformat": 4
 },
 "nbformat": 4,
 "nbformat_minor": 2
}
