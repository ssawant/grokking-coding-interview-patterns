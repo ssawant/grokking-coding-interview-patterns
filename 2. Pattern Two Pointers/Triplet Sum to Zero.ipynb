{
 "cells": [
  {
   "cell_type": "markdown",
   "metadata": {},
   "source": [
    "### [REDO]\n",
    "Problem Statement\n",
    "Given an array of unsorted numbers,find all unique tripletsin its that add up to zero.\n",
    "\n",
    "```\n",
    "Example 1:\n",
    "Input: [-3, 0, 1, 2, -1, 1, -2]\n",
    "Output: [-3, 1, 2], [-2, 0, 2], [-2, 1, 1], [-1, 0, 1]\n",
    "Explanation: There are four unique tripletswhose sum is equal to zero\n",
    "```"
   ]
  },
  {
   "cell_type": "code",
   "execution_count": 11,
   "metadata": {
    "vscode": {
     "languageId": "python"
    }
   },
   "outputs": [],
   "source": [
    "def search_triplets(arr):\n",
    "    arr.sort()\n",
    "    triplets = []\n",
    "    for i in range(len(arr)):\n",
    "        if i > 0 and arr[i] == arr[i-1]:\n",
    "            continue\n",
    "        search_pair(arr, -arr[i], i+1, triplets)\n",
    "    return triplets\n",
    "\n",
    "\n",
    "def search_pair(arr, target_sum, left, triplets):\n",
    "    right = len(arr) - 1\n",
    "    while(left < right):\n",
    "        current_sum = arr[left] + arr[right]\n",
    "        if current_sum == target_sum: \n",
    "            # found the triplet\n",
    "            triplets.append([-target_sum, arr[left], arr[right]])\n",
    "            left += 1\n",
    "            right -= 1\n",
    "            while left < right and arr[left] == arr[left - 1]:\n",
    "                left += 1 # skip same element to avoid duplicate triplets\n",
    "            while left < right and arr[right]:\n",
    "                right -= 1 # skip same element to avoid duplicate triplets\n",
    "        elif target_sum > current_sum:\n",
    "            left += 1 # we need a pair with a bigger sum\n",
    "        else:\n",
    "            right -= 1 # we need a pair with a smaller sum"
   ]
  },
  {
   "cell_type": "code",
   "execution_count": 12,
   "metadata": {
    "vscode": {
     "languageId": "python"
    }
   },
   "outputs": [
    {
     "name": "stdout",
     "output_type": "stream",
     "text": [
      "[[-3, 1, 2], [-2, 0, 2], [-1, 0, 1]]\n"
     ]
    }
   ],
   "source": [
    "print(search_triplets([-3, 0, 1, 2, -1, 1, -2]))"
   ]
  }
 ],
 "metadata": {
  "kernelspec": {
   "display_name": "vmlimpl",
   "language": "python",
   "name": "vmlimpl"
  },
  "orig_nbformat": 4
 },
 "nbformat": 4,
 "nbformat_minor": 2
}
