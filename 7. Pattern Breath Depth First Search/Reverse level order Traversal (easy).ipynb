{
 "cells": [
  {
   "cell_type": "markdown",
   "metadata": {},
   "source": [
    "#### Reverse Level Order\n",
    "Given a binary tree, populate an array to represent its level-by-level traversal in reverse order, i.e, the lowest level comes first. Yous hould populate the values of all nodes in each level from left to right in seprate sub-arrays."
   ]
  },
  {
   "cell_type": "code",
   "execution_count": 2,
   "metadata": {},
   "outputs": [],
   "source": [
    "class Node:\n",
    "    def __init__(self, value):\n",
    "        self.value = value\n",
    "        self.left, self.right = None, None"
   ]
  },
  {
   "cell_type": "code",
   "execution_count": 35,
   "metadata": {},
   "outputs": [],
   "source": [
    "from collections import deque\n",
    "\n",
    "def level_order_reverse(root):\n",
    "    if root is None:\n",
    "        return\n",
    "    \n",
    "    result = deque()\n",
    "    queue = deque() \n",
    "    queue.append(root)  \n",
    "\n",
    "    while queue:\n",
    "        level_size = len(queue)\n",
    "        current_level = []\n",
    "        for _ in range(level_size):\n",
    "            current = queue.popleft()\n",
    "            current_level.append(current.value)\n",
    "\n",
    "            if current.left is not None:\n",
    "                queue.append(current.left)\n",
    "            if current.right is not None:\n",
    "                queue.append(current.right)\n",
    "        \n",
    "        result.appendleft(current_level)\n",
    "    \n",
    "    return list(result)"
   ]
  },
  {
   "cell_type": "code",
   "execution_count": 36,
   "metadata": {},
   "outputs": [
    {
     "name": "stdout",
     "output_type": "stream",
     "text": [
      "Level order reverse traversal :  "
     ]
    },
    {
     "data": {
      "text/plain": [
       "[[40, 50], [20, 30], [10]]"
      ]
     },
     "execution_count": 36,
     "metadata": {},
     "output_type": "execute_result"
    }
   ],
   "source": [
    "# Driver code\n",
    "root = Node(10)\n",
    "root.left = Node(20)\n",
    "root.right = Node(30)\n",
    "root.left.left = Node(40)\n",
    "root.left.right = Node(50)\n",
    "print(f\"Level order reverse traversal : \", end=\" \")\n",
    "level_order_reverse(root)"
   ]
  }
 ],
 "metadata": {
  "kernelspec": {
   "display_name": "vmlimpl",
   "language": "python",
   "name": "vmlimpl"
  },
  "language_info": {
   "codemirror_mode": {
    "name": "ipython",
    "version": 3
   },
   "file_extension": ".py",
   "mimetype": "text/x-python",
   "name": "python",
   "nbconvert_exporter": "python",
   "pygments_lexer": "ipython3",
   "version": "3.8.10"
  },
  "orig_nbformat": 4
 },
 "nbformat": 4,
 "nbformat_minor": 2
}
