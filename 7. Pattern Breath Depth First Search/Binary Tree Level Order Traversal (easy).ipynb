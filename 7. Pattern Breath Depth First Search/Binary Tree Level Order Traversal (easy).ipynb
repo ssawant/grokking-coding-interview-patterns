{
 "cells": [
  {
   "cell_type": "markdown",
   "metadata": {},
   "source": [
    "### Binary Tree Level Order Traversal\n",
    "\n",
    "Given a binary tre, populate an array to represent its level-by-lvel traversal.\\\n",
    "You should populate the value of all nodes of each level from left to right in seprate sub-arrays."
   ]
  },
  {
   "cell_type": "markdown",
   "metadata": {},
   "source": [
    "*Time Complexity*:`O(N)` \\\n",
    "`N` is the total number of nodes in the tree. This is due tothe fact that we traverse each node once.\n",
    "\n",
    "*Space Complexity*: `O(N)` \\\n",
    "`O(N)` as we need to return a lsit containing the level order traversal.\\\n",
    "We will also need `O(N)` space for the queue."
   ]
  },
  {
   "cell_type": "code",
   "execution_count": 6,
   "metadata": {},
   "outputs": [],
   "source": [
    "from collections import deque\n",
    "\n",
    "class TreeNode:\n",
    "    def __init__(self, value):\n",
    "        self.value = value\n",
    "        self.left, self.right = None, None\n",
    "\n",
    "def traverse(root):\n",
    "    result = []\n",
    "    if root is None:\n",
    "        return result\n",
    "    \n",
    "    queue = deque()\n",
    "    queue.append(root)\n",
    "    while queue:\n",
    "        level_size = len(queue)\n",
    "        current_level = []\n",
    "        for _ in range(level_size):\n",
    "            current_node = queue.popleft()\n",
    "            # add the node to the current level\n",
    "            current_level.append(current_node.value)\n",
    "            # insert the children of current node in the queue\n",
    "            if current_node.left:\n",
    "                queue.append(current_node.left)\n",
    "            if current_node.right:\n",
    "                queue.append(current_node.right)\n",
    "\n",
    "        result.append(current_level)\n",
    "    \n",
    "    return result"
   ]
  },
  {
   "cell_type": "code",
   "execution_count": 7,
   "metadata": {},
   "outputs": [
    {
     "name": "stdout",
     "output_type": "stream",
     "text": [
      "Level order traversal : [[12], [7, 1], [9, 10, 5]]\n"
     ]
    }
   ],
   "source": [
    "root = TreeNode(12)\n",
    "root.left = TreeNode(7)\n",
    "root.right = TreeNode(1)\n",
    "root.left.left = TreeNode(9)\n",
    "root.right.left = TreeNode(10)\n",
    "root.right.right = TreeNode(5)\n",
    "print(f\"Level order traversal : {traverse(root)}\")"
   ]
  }
 ],
 "metadata": {
  "kernelspec": {
   "display_name": "vmlimpl",
   "language": "python",
   "name": "vmlimpl"
  },
  "language_info": {
   "name": "python",
   "version": "3.8.10"
  },
  "orig_nbformat": 4
 },
 "nbformat": 4,
 "nbformat_minor": 2
}
