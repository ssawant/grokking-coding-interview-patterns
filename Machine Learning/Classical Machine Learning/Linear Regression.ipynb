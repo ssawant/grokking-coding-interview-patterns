{
 "cells": [
  {
   "cell_type": "markdown",
   "metadata": {},
   "source": [
    "## Linear Regression\n"
   ]
  },
  {
   "cell_type": "code",
   "execution_count": 1,
   "metadata": {},
   "outputs": [],
   "source": [
    "import pandas as pd\n",
    "from sklearn.linear_model import LinearRegression\n",
    "from sklearn.metrics import mean_squared_error"
   ]
  },
  {
   "cell_type": "code",
   "execution_count": 2,
   "metadata": {},
   "outputs": [],
   "source": [
    "train_data = pd.read_csv('train.csv')\n",
    "test_data = pd.read_csv('test.csv')"
   ]
  },
  {
   "cell_type": "code",
   "execution_count": 6,
   "metadata": {},
   "outputs": [
    {
     "name": "stdout",
     "output_type": "stream",
     "text": [
      "Index(['Item_Weight', 'Item_Visibility', 'Item_MRP',\n",
      "       'Outlet_Establishment_Year', 'Item_Outlet_Sales', 'Item_Fat_Content_LF',\n",
      "       'Item_Fat_Content_Low Fat', 'Item_Fat_Content_Regular',\n",
      "       'Item_Fat_Content_low fat', 'Item_Fat_Content_reg',\n",
      "       'Item_Type_Baking Goods', 'Item_Type_Breads', 'Item_Type_Breakfast',\n",
      "       'Item_Type_Canned', 'Item_Type_Dairy', 'Item_Type_Frozen Foods',\n",
      "       'Item_Type_Fruits and Vegetables', 'Item_Type_Hard Drinks',\n",
      "       'Item_Type_Health and Hygiene', 'Item_Type_Household', 'Item_Type_Meat',\n",
      "       'Item_Type_Others', 'Item_Type_Seafood', 'Item_Type_Snack Foods',\n",
      "       'Item_Type_Soft Drinks', 'Item_Type_Starchy Foods', 'Outlet_Size_High',\n",
      "       'Outlet_Size_Medium', 'Outlet_Size_Small',\n",
      "       'Outlet_Location_Type_Tier 1', 'Outlet_Location_Type_Tier 2',\n",
      "       'Outlet_Location_Type_Tier 3', 'Outlet_Type_Grocery Store',\n",
      "       'Outlet_Type_Supermarket Type1', 'Outlet_Type_Supermarket Type2',\n",
      "       'Outlet_Type_Supermarket Type3'],\n",
      "      dtype='object')\n"
     ]
    }
   ],
   "source": [
    "#print(train_data.sample(5))\n",
    "print(train_data.columns)"
   ]
  },
  {
   "cell_type": "code",
   "execution_count": 7,
   "metadata": {},
   "outputs": [
    {
     "name": "stdout",
     "output_type": "stream",
     "text": [
      "Train_data:(1364, 36), Test_data:(341, 36)\n"
     ]
    }
   ],
   "source": [
    "# Shape of the dataset\n",
    "print(f\"Train_data:{train_data.shape}, Test_data:{test_data.shape}\")"
   ]
  },
  {
   "cell_type": "code",
   "execution_count": 8,
   "metadata": {},
   "outputs": [],
   "source": [
    "# Seperate teh independent and target variable on training data\n",
    "train_x = train_data.drop(columns=['Item_Outlet_Sales'], axis=1)\n",
    "train_y = train_data['Item_Outlet_Sales']"
   ]
  },
  {
   "cell_type": "code",
   "execution_count": 9,
   "metadata": {},
   "outputs": [],
   "source": [
    "# seperate the independent and target variable on training data\n",
    "test_x = test_data.drop(columns=['Item_Outlet_Sales'], axis=1)\n",
    "test_y = test_data['Item_Outlet_Sales']"
   ]
  },
  {
   "cell_type": "markdown",
   "metadata": {},
   "source": [
    "Create the object of the Linear Regression model\n",
    "You can also add other parameters and test your code here\\\n",
    "Some parameters are : fit_intercept and normalize\n",
    "Documentation of sklearn LinearRegression: \n",
    "\n",
    "https://scikit-learn.org/stable/modules/generated/sklearn.linear_model.LinearRegression.html"
   ]
  },
  {
   "cell_type": "code",
   "execution_count": 10,
   "metadata": {},
   "outputs": [
    {
     "name": "stdout",
     "output_type": "stream",
     "text": [
      "Coefficeint of model: [-3.84197604e+00  9.83065945e+00  1.61711856e+01  6.09197622e+01\n",
      " -8.64161561e+01  1.23593376e+02  2.34714039e+02 -2.44597425e+02\n",
      " -2.72938329e+01 -8.09611456e+00 -3.01147840e+02  1.70727611e+02\n",
      " -5.40194744e+01  7.34248834e+01  1.70313375e+00 -5.07701615e+01\n",
      "  1.63553657e+02 -5.85286125e+01  1.04913492e+02 -6.01944874e+01\n",
      "  1.98948206e+02 -1.40959023e+02  1.19426257e+02  2.66382669e+01\n",
      " -1.85619792e+02  1.43925357e+03  2.16134663e+02  3.54723990e+01\n",
      "  3.54832996e+02 -5.54559635e+00 -3.49287400e+02 -1.39202954e+03\n",
      " -2.57982359e+02 -9.59016062e+02  2.60902796e+03]\n",
      "Intercept of model: -121926.9747329829\n"
     ]
    }
   ],
   "source": [
    "model = LinearRegression()\n",
    "\n",
    "# fit the model with the training data\n",
    "model.fit(train_x, train_y)\n",
    "\n",
    "# coefficeints of the trained model\n",
    "print(f\"Coefficeint of model: {model.coef_}\")\n",
    "\n",
    "# intercept of the model\n",
    "print(f\"Intercept of model: {model.intercept_}\")"
   ]
  },
  {
   "cell_type": "code",
   "execution_count": null,
   "metadata": {},
   "outputs": [],
   "source": [
    "# predict the targe on the test data\n",
    "predict_train = model.predict(train_x)\n",
    "print(f\"Item_Outlet_Sales on training data {predict_train}\")"
   ]
  },
  {
   "cell_type": "code",
   "execution_count": 12,
   "metadata": {},
   "outputs": [
    {
     "name": "stdout",
     "output_type": "stream",
     "text": [
      "RMSEon train dataset: 1135.8159344155245\n"
     ]
    }
   ],
   "source": [
    "# Root Mean Squared Erroron training dataset\n",
    "rmse_train = mean_squared_error(train_y, predict_train)**(0.5)\n",
    "print(f\"RMSEon train dataset: {rmse_train}\")"
   ]
  },
  {
   "cell_type": "code",
   "execution_count": null,
   "metadata": {},
   "outputs": [],
   "source": [
    "# predit the target on the testing dataset\n",
    "predict_test = model.predict(test_x)\n",
    "print(f\"Item_Outlet_Sales on test data {predict_test}\")"
   ]
  },
  {
   "cell_type": "code",
   "execution_count": 14,
   "metadata": {},
   "outputs": [
    {
     "name": "stdout",
     "output_type": "stream",
     "text": [
      "RMSE on test dataset: 1009.251723220968\n"
     ]
    }
   ],
   "source": [
    "# Root Mean Squared Error on test dataset\n",
    "rmse_test = mean_squared_error(test_y, predict_test)**(0.5)\n",
    "print(f\"RMSE on test dataset: {rmse_test}\")"
   ]
  }
 ],
 "metadata": {
  "kernelspec": {
   "display_name": "Python 3.8.10 ('vmlimpl')",
   "language": "python",
   "name": "python3"
  },
  "language_info": {
   "codemirror_mode": {
    "name": "ipython",
    "version": 3
   },
   "file_extension": ".py",
   "mimetype": "text/x-python",
   "name": "python",
   "nbconvert_exporter": "python",
   "pygments_lexer": "ipython3",
   "version": "3.8.10"
  },
  "orig_nbformat": 4,
  "vscode": {
   "interpreter": {
    "hash": "7626a37170bde8cbd07d8d30684bdff5f1c1a26dbdf249b53898a22fb9c20fab"
   }
  }
 },
 "nbformat": 4,
 "nbformat_minor": 2
}
