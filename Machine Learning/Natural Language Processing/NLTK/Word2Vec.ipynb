{
 "cells": [
  {
   "cell_type": "markdown",
   "metadata": {},
   "source": [
    "### Word 2 Vec"
   ]
  },
  {
   "cell_type": "code",
   "execution_count": 4,
   "metadata": {},
   "outputs": [],
   "source": [
    "import nltk\n",
    "from gensim.models import Word2Vec\n",
    "from nltk.corpus import stopwords\n",
    "\n",
    "import re"
   ]
  },
  {
   "cell_type": "code",
   "execution_count": 8,
   "metadata": {},
   "outputs": [],
   "source": [
    "paragraph = \"\"\"In 3000 years of our history, people from all over the world have come and invaded us, \n",
    "captured our lands, conquered our minds. From Alexander onwards, the Greeks, the Turks, the Moguls, \n",
    "the Portuguese, the British, the French, the Dutch, all of them came and looted us, took over what \n",
    "was ours. Yet, we have not done this to any other nation. We have not conquered anyone. \n",
    "We have not grabbed their land, their culture, their history and tried to enforce our way of life '\n",
    "on them. Why? Because we respect the freedom of others. That is why my first vision is that of FREEDOM.\n",
    "I believe that India got its first vision of this in 1857, when we started the war of Independence. \n",
    "It is this freedom that we must protect and nurture and build on. If we are not free, no one will \n",
    "respect us. My second vision for India’s DEVELOPMENT. For fifty years we have been a developing nation.\n",
    "It is time we see ourselves as a developed nation. We are among top five nations of the world in terms of GDP. \n",
    "We have 10 per cent growth rate in most areas. Our poverty levels are falling. \n",
    "Our achievements are being globally recognised today. Yet we lack the self-confidence to \n",
    "see ourselves as a developed nation, self-reliant and self-assured. \n",
    "Isn’t this incorrect? I have a THIRD vision. India must stand up to the world. \n",
    "Because I believe that, unless India stands up to the world, no one will respect us. \n",
    "Only strength respects strength. We must be strong not only as a military power but also as \n",
    "an economic power. Both must go hand-in-hand. My good fortune was to have worked with three \n",
    "great minds. Dr. Vikram Sarabhai of the Department of Space, Professor Satish Dhawan, \n",
    "who succeeded him and Dr.Brahm Prakash, the father of nuclear material. \n",
    "I was lucky to have worked with all three of them closely and consider \n",
    "this the great opportunity of my life. I see four milestones in my career:\"\"\""
   ]
  },
  {
   "cell_type": "markdown",
   "metadata": {},
   "source": [
    "#### Preprocessing the data"
   ]
  },
  {
   "cell_type": "code",
   "execution_count": 9,
   "metadata": {},
   "outputs": [],
   "source": [
    "text = re.sub(r'\\[[0-9]*\\]', ' ', paragraph) # remove numbers\n",
    "text = re.sub(r'\\s+',' ', text)\n",
    "text = text.lower()                          # lowering\n",
    "text = re.sub(r'\\d',' ', text)               # removing spaces\n",
    "text = re.sub(r'\\s+',' ', text)"
   ]
  },
  {
   "cell_type": "markdown",
   "metadata": {},
   "source": [
    "#### Preparing the dataset"
   ]
  },
  {
   "cell_type": "code",
   "execution_count": 10,
   "metadata": {},
   "outputs": [],
   "source": [
    "sentences = nltk.sent_tokenize(text)\n",
    "\n",
    "sentences = [nltk.word_tokenize(sentence) for sentence in sentences]\n",
    "\n",
    "for i in range(len(sentences)):\n",
    "    sentences[i] = [word for word in sentences[i] if word not in stopwords.words('english')]"
   ]
  },
  {
   "cell_type": "code",
   "execution_count": 11,
   "metadata": {},
   "outputs": [
    {
     "data": {
      "text/plain": [
       "['years',\n",
       " 'history',\n",
       " ',',\n",
       " 'people',\n",
       " 'world',\n",
       " 'come',\n",
       " 'invaded',\n",
       " 'us',\n",
       " ',',\n",
       " 'captured',\n",
       " 'lands',\n",
       " ',',\n",
       " 'conquered',\n",
       " 'minds',\n",
       " '.']"
      ]
     },
     "execution_count": 11,
     "metadata": {},
     "output_type": "execute_result"
    }
   ],
   "source": [
    "sentences[0]"
   ]
  },
  {
   "cell_type": "markdown",
   "metadata": {},
   "source": [
    "#### Training the Word2Vec Model"
   ]
  },
  {
   "cell_type": "code",
   "execution_count": 23,
   "metadata": {},
   "outputs": [],
   "source": [
    "model = Word2Vec(sentences, min_count=1) # min_count: don't apply for `1` count size of word"
   ]
  },
  {
   "cell_type": "code",
   "execution_count": 25,
   "metadata": {},
   "outputs": [],
   "source": [
    "# find vocabs\n",
    "words = model.wv.key_to_index"
   ]
  },
  {
   "cell_type": "code",
   "execution_count": 26,
   "metadata": {},
   "outputs": [
    {
     "data": {
      "text/plain": [
       "{'.': 0,\n",
       " ',': 1,\n",
       " 'vision': 2,\n",
       " 'world': 3,\n",
       " 'us': 4,\n",
       " 'must': 5,\n",
       " 'nation': 6,\n",
       " 'india': 7,\n",
       " 'see': 8,\n",
       " 'respect': 9,\n",
       " 'freedom': 10,\n",
       " 'developed': 11,\n",
       " '’': 12,\n",
       " 'one': 13,\n",
       " 'believe': 14,\n",
       " '?': 15,\n",
       " 'first': 16,\n",
       " 'power': 17,\n",
       " 'life': 18,\n",
       " 'yet': 19,\n",
       " 'minds': 20,\n",
       " 'conquered': 21,\n",
       " 'history': 22,\n",
       " 'strength': 23,\n",
       " 'years': 24,\n",
       " 'great': 25,\n",
       " 'worked': 26,\n",
       " 'three': 27,\n",
       " 'fortune': 28,\n",
       " 'done': 29,\n",
       " 'father': 30,\n",
       " 'anyone': 31,\n",
       " 'grabbed': 32,\n",
       " 'land': 33,\n",
       " 'culture': 34,\n",
       " 'tried': 35,\n",
       " 'enforce': 36,\n",
       " 'way': 37,\n",
       " 'prakash': 38,\n",
       " 'dr.brahm': 39,\n",
       " \"'\": 40,\n",
       " 'took': 41,\n",
       " 'succeeded': 42,\n",
       " 'dhawan': 43,\n",
       " 'others': 44,\n",
       " 'satish': 45,\n",
       " 'professor': 46,\n",
       " 'space': 47,\n",
       " 'department': 48,\n",
       " 'got': 49,\n",
       " 'started': 50,\n",
       " 'nuclear': 51,\n",
       " 'looted': 52,\n",
       " 'independence': 53,\n",
       " 'came': 54,\n",
       " 'milestones': 55,\n",
       " 'four': 56,\n",
       " 'people': 57,\n",
       " 'opportunity': 58,\n",
       " 'come': 59,\n",
       " 'invaded': 60,\n",
       " 'consider': 61,\n",
       " 'captured': 62,\n",
       " 'lands': 63,\n",
       " 'closely': 64,\n",
       " 'lucky': 65,\n",
       " 'material': 66,\n",
       " 'alexander': 67,\n",
       " 'onwards': 68,\n",
       " 'greeks': 69,\n",
       " 'turks': 70,\n",
       " 'moguls': 71,\n",
       " 'portuguese': 72,\n",
       " 'british': 73,\n",
       " 'french': 74,\n",
       " 'dutch': 75,\n",
       " 'war': 76,\n",
       " 'protect': 77,\n",
       " 'sarabhai': 78,\n",
       " 'good': 79,\n",
       " 'falling': 80,\n",
       " 'achievements': 81,\n",
       " 'globally': 82,\n",
       " 'recognised': 83,\n",
       " 'today': 84,\n",
       " 'lack': 85,\n",
       " 'self-confidence': 86,\n",
       " 'self-reliant': 87,\n",
       " 'self-assured': 88,\n",
       " 'incorrect': 89,\n",
       " 'third': 90,\n",
       " 'stand': 91,\n",
       " 'unless': 92,\n",
       " 'stands': 93,\n",
       " 'respects': 94,\n",
       " 'strong': 95,\n",
       " 'military': 96,\n",
       " 'also': 97,\n",
       " 'economic': 98,\n",
       " 'go': 99,\n",
       " 'hand-in-hand': 100,\n",
       " 'levels': 101,\n",
       " 'poverty': 102,\n",
       " 'areas': 103,\n",
       " 'time': 104,\n",
       " 'nurture': 105,\n",
       " 'build': 106,\n",
       " 'free': 107,\n",
       " 'vikram': 108,\n",
       " 'second': 109,\n",
       " 'dr.': 110,\n",
       " 'development': 111,\n",
       " 'fifty': 112,\n",
       " 'developing': 113,\n",
       " 'career': 114,\n",
       " 'rate': 115,\n",
       " 'among': 116,\n",
       " 'top': 117,\n",
       " 'five': 118,\n",
       " 'nations': 119,\n",
       " 'terms': 120,\n",
       " 'gdp': 121,\n",
       " 'per': 122,\n",
       " 'cent': 123,\n",
       " 'growth': 124,\n",
       " ':': 125}"
      ]
     },
     "execution_count": 26,
     "metadata": {},
     "output_type": "execute_result"
    }
   ],
   "source": [
    "words"
   ]
  },
  {
   "cell_type": "markdown",
   "metadata": {},
   "source": [
    "Finding word vectors"
   ]
  },
  {
   "cell_type": "code",
   "execution_count": 29,
   "metadata": {},
   "outputs": [],
   "source": [
    "vector = model.wv['war']"
   ]
  },
  {
   "cell_type": "code",
   "execution_count": 32,
   "metadata": {},
   "outputs": [
    {
     "data": {
      "text/plain": [
       "[('per', 0.3184281289577484),\n",
       " ('falling', 0.2999141812324524),\n",
       " ('independence', 0.1893361210823059),\n",
       " ('go', 0.17041988670825958),\n",
       " ('nations', 0.15842315554618835),\n",
       " ('strength', 0.14661294221878052),\n",
       " ('three', 0.13978135585784912),\n",
       " ('developing', 0.13674063980579376),\n",
       " ('people', 0.1241002306342125),\n",
       " ('lands', 0.1223100945353508)]"
      ]
     },
     "execution_count": 32,
     "metadata": {},
     "output_type": "execute_result"
    }
   ],
   "source": [
    "# MOst similar words\n",
    "similar = model.wv.most_similar('war')\n",
    "similar"
   ]
  }
 ],
 "metadata": {
  "kernelspec": {
   "display_name": "Python 3.8.10 ('vmlimpl')",
   "language": "python",
   "name": "python3"
  },
  "language_info": {
   "codemirror_mode": {
    "name": "ipython",
    "version": 3
   },
   "file_extension": ".py",
   "mimetype": "text/x-python",
   "name": "python",
   "nbconvert_exporter": "python",
   "pygments_lexer": "ipython3",
   "version": "3.8.10"
  },
  "orig_nbformat": 4,
  "vscode": {
   "interpreter": {
    "hash": "7626a37170bde8cbd07d8d30684bdff5f1c1a26dbdf249b53898a22fb9c20fab"
   }
  }
 },
 "nbformat": 4,
 "nbformat_minor": 2
}
