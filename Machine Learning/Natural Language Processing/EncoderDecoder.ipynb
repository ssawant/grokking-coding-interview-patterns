{
 "cells": [
  {
   "cell_type": "markdown",
   "metadata": {},
   "source": [
    "### Issues with Encoder\n",
    "1. Encoder and Decoder usually do not perform with longer sentences\n",
    "2. Lower Blue Score\n",
    "\n",
    "Attentation\n",
    "- Bidirectional LSTM RNN"
   ]
  },
  {
   "cell_type": "code",
   "execution_count": null,
   "metadata": {},
   "outputs": [],
   "source": []
  }
 ],
 "metadata": {
  "language_info": {
   "name": "python"
  },
  "orig_nbformat": 4
 },
 "nbformat": 4,
 "nbformat_minor": 2
}
