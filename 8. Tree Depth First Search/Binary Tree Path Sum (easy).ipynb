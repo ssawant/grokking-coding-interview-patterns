{
 "cells": [
  {
   "cell_type": "markdown",
   "metadata": {},
   "source": [
    "#### Binary Tree Path Sum\n",
    "Given a binary tree and a number `S`, \\\n",
    "Find if the tree has a path from root-to-leaf such that the sum of all the node values of that path equals `S`"
   ]
  },
  {
   "cell_type": "code",
   "execution_count": 1,
   "metadata": {},
   "outputs": [],
   "source": [
    "class Node:\n",
    "    def __init__(self, value):\n",
    "        self.value = value\n",
    "        self.left, self.right = None, None"
   ]
  },
  {
   "cell_type": "code",
   "execution_count": 5,
   "metadata": {},
   "outputs": [],
   "source": [
    "def has_path(root, sum):\n",
    "    if root is None:\n",
    "        return False\n",
    "    \n",
    "    if root.value == sum and root.left is None and root.right is None:\n",
    "        return True\n",
    "    \n",
    "    return has_path(root.left, sum - root.value) or has_path(root.right, sum - root.value)"
   ]
  },
  {
   "cell_type": "code",
   "execution_count": 8,
   "metadata": {},
   "outputs": [
    {
     "name": "stdout",
     "output_type": "stream",
     "text": [
      "Tree has path : yes\n",
      "Tree has path : no\n"
     ]
    }
   ],
   "source": [
    "# Driver code\n",
    "root = Node(12)\n",
    "root.left = Node(7)\n",
    "root.right = Node(1)\n",
    "root.left.left = Node(9)\n",
    "root.right.left = Node(10)\n",
    "root.right.right = Node(5)\n",
    "\n",
    "print(f\"Tree has path : {'yes' if has_path(root, 23) else 'no'}\")\n",
    "print(f\"Tree has path : {'yes' if has_path(root, 16) else 'no'}\")"
   ]
  }
 ],
 "metadata": {
  "kernelspec": {
   "display_name": "vmlimpl",
   "language": "python",
   "name": "vmlimpl"
  },
  "language_info": {
   "codemirror_mode": {
    "name": "ipython",
    "version": 3
   },
   "file_extension": ".py",
   "mimetype": "text/x-python",
   "name": "python",
   "nbconvert_exporter": "python",
   "pygments_lexer": "ipython3",
   "version": "3.8.10"
  },
  "orig_nbformat": 4
 },
 "nbformat": 4,
 "nbformat_minor": 2
}
