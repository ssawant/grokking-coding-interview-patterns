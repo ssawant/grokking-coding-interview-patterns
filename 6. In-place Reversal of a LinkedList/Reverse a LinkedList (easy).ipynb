{
 "cells": [
  {
   "cell_type": "markdown",
   "metadata": {},
   "source": [
    "#### Reverse a Singly Linkedlist\n",
    "Given the head of as Singly LinkedList, reverse the LinkedList. \\\n",
    "Write a function to return the new head of the reversed LinkedList."
   ]
  },
  {
   "cell_type": "code",
   "execution_count": 3,
   "metadata": {
    "vscode": {
     "languageId": "python"
    }
   },
   "outputs": [],
   "source": [
    "class Node:\n",
    "    def __init__(self, value, next=None):\n",
    "        self.value = value\n",
    "        self.next = next\n",
    "    \n",
    "    def print_list(self):\n",
    "        temp = self\n",
    "        while temp is not None:\n",
    "            print(temp.value, end=\" \")\n",
    "            temp = temp.next\n",
    "        print()\n",
    "\n",
    "def reverse_LinkedList(head):\n",
    "    previous, current, next = None, head, None\n",
    "    while current is not None:\n",
    "        next = current.next         # temporarily store the next node\n",
    "        current.next = previous     # reverse the current node\n",
    "        previous = current          # before we move to the next node, point previous to current node\n",
    "        current = next              # move on the next node\n",
    "    return previous"
   ]
  },
  {
   "cell_type": "code",
   "execution_count": 4,
   "metadata": {
    "vscode": {
     "languageId": "python"
    }
   },
   "outputs": [],
   "source": [
    "head = Node(2)\n",
    "head.next = Node(4)\n",
    "head.next.next = Node(6)\n",
    "head.next.next.next = Node(8)\n",
    "head.next.next.next.next = Node(10)"
   ]
  },
  {
   "cell_type": "code",
   "execution_count": 6,
   "metadata": {
    "vscode": {
     "languageId": "python"
    }
   },
   "outputs": [
    {
     "name": "stdout",
     "output_type": "stream",
     "text": [
      "Node of original linked list are : 2 4 6 8 10 \n",
      "Node of reversed linked list are : 10 8 6 4 2 \n"
     ]
    }
   ],
   "source": [
    "print(\"Node of original linked list are : \", end='')\n",
    "head.print_list()\n",
    "result = reverse_LinkedList(head)\n",
    "print(\"Node of reversed linked list are : \", end='')\n",
    "result.print_list()"
   ]
  }
 ],
 "metadata": {
  "kernelspec": {
   "display_name": "vmlimpl",
   "language": "python",
   "name": "vmlimpl"
  },
  "orig_nbformat": 4
 },
 "nbformat": 4,
 "nbformat_minor": 2
}
