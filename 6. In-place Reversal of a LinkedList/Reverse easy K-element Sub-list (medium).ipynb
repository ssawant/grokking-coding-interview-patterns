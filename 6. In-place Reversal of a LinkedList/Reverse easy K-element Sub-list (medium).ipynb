{
 "cells": [
  {
   "cell_type": "markdown",
   "metadata": {},
   "source": [
    "#### Reverse every K-element Sub-list \n",
    "Given the head of a LinkedLIst and a number `k`, reverse every `k` sized sub-list starting from the head.\\\n",
    "If, in the end, you are left with a sub-list with less then `k` elements, reverse it too."
   ]
  },
  {
   "cell_type": "code",
   "execution_count": 3,
   "metadata": {},
   "outputs": [],
   "source": [
    "class Node:\n",
    "    def __init__(self, value, next=None):\n",
    "        self.value = value\n",
    "        self.next = next\n",
    "    \n",
    "    def print_list(self):\n",
    "        temp = self\n",
    "        while temp is not None:\n",
    "            print(temp.value, end=\" \")\n",
    "            temp = temp.next\n",
    "        print()\n",
    "\n",
    "def reverse_every_k_elements(head, k):\n",
    "    if k <= 1 or head is None:\n",
    "        return head\n",
    "    \n",
    "    current, previous = head, None\n",
    "\n",
    "    while True:\n",
    "        last_node_of_previous_part = previous\n",
    "        # after reversing the LinkedList `current` will become the last node of the sub-list\n",
    "        last_node_of_sub_list = current\n",
    "        next = None # temporarily store the next node\n",
    "        i = 0\n",
    "\n",
    "        while current is not None and i < k:\n",
    "            next = current.next\n",
    "            current.next = previous\n",
    "            previous = current\n",
    "            current = next\n",
    "            i += 1\n",
    "\n",
    "        # connect with the previous part\n",
    "        if  last_node_of_previous_part is not None:\n",
    "            last_node_of_previous_part.next = previous\n",
    "        else:\n",
    "            head = previous\n",
    "        \n",
    "        # connect with the next part\n",
    "        last_node_of_sub_list.next = current\n",
    "\n",
    "        if current is None:\n",
    "            break\n",
    "        previous = last_node_of_sub_list\n",
    "    return head"
   ]
  },
  {
   "cell_type": "code",
   "execution_count": 4,
   "metadata": {},
   "outputs": [
    {
     "name": "stdout",
     "output_type": "stream",
     "text": [
      "Node of LinkedList before reversal :  1 2 3 4 5 6 7 8 \n",
      "Node of LinkedList after reversal :  3 2 1 6 5 4 8 7 \n"
     ]
    }
   ],
   "source": [
    "\n",
    "head = Node(1)\n",
    "head.next = Node(2)\n",
    "head.next.next = Node(3)\n",
    "head.next.next.next = Node(4)\n",
    "head.next.next.next.next = Node(5)\n",
    "head.next.next.next.next.next = Node(6)\n",
    "head.next.next.next.next.next.next = Node(7)\n",
    "head.next.next.next.next.next.next.next = Node(8)\n",
    "\n",
    "print(f\"Node of LinkedList before reversal : \", end=\" \")\n",
    "head.print_list()\n",
    "print(f\"Node of LinkedList after reversal : \", end=\" \")\n",
    "reversed = reverse_every_k_elements(head, 3)\n",
    "reversed.print_list()\n"
   ]
  }
 ],
 "metadata": {
  "kernelspec": {
   "display_name": "vmlimpl",
   "language": "python",
   "name": "vmlimpl"
  },
  "language_info": {
   "name": "python",
   "version": "3.8.10"
  },
  "orig_nbformat": 4
 },
 "nbformat": 4,
 "nbformat_minor": 2
}
