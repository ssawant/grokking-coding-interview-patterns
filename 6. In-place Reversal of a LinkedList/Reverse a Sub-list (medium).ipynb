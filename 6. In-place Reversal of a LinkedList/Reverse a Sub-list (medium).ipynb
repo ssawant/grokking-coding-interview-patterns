{
 "cells": [
  {
   "cell_type": "markdown",
   "metadata": {},
   "source": [
    "#### Reverse a Sub list in a linked list\n",
    "\n",
    "Given a head of a linked list and two position `p` and `q`, reverse the linked list from postion `p` to `q`"
   ]
  },
  {
   "cell_type": "code",
   "execution_count": 5,
   "metadata": {
    "vscode": {
     "languageId": "python"
    }
   },
   "outputs": [],
   "source": [
    "class Node:\n",
    "    def __init__(self, value, next=None):\n",
    "        self.value = value\n",
    "        self.next = next\n",
    "    \n",
    "    def print_list(self):\n",
    "        temp = self\n",
    "        while temp is not None:\n",
    "            print(temp.value, end=\" \")\n",
    "            temp = temp.next\n",
    "        print()\n",
    "\n",
    "def reverse_sublist_linkedlist(head, p, q):\n",
    "    if p == q:\n",
    "        return head\n",
    "    \n",
    "    # after skipping `p - 1` nodes, current will point to `p`th node\n",
    "    current, previous = head, None\n",
    "    i = 0\n",
    "    while current is not None and i < p - 1:\n",
    "        previous = current\n",
    "        current = current.next\n",
    "        i += 1\n",
    "    \n",
    "    # we are intersted in three parts of the linkedlist, the part before index `p`,\n",
    "    # the part between `p` and `q`, and the part after index `q`\n",
    "    last_node_of_first_part = previous\n",
    "    # after reversing the linkedlist `current` will becomethe last node of the sub-list\n",
    "    last_node_of_sub_list = current\n",
    "    next = None # will be used to temporarily store the next node\n",
    "\n",
    "    i = 0\n",
    "    # reverse node between `p` and `q`\n",
    "    print(previous.value, current.value)\n",
    "\n",
    "    while current is not None and i < q - p + 1:\n",
    "        next = current.next\n",
    "        current.next = previous\n",
    "        previous = current\n",
    "        current = next\n",
    "        i += 1\n",
    "    \n",
    "    # connect with the first part\n",
    "    if last_node_of_first_part is not None:\n",
    "        # `previous` is now the first node of the sub-list\n",
    "        last_node_of_first_part.next = previous\n",
    "    # this means p == 1 i.e, we changing the first node (head) of the linkedlist\n",
    "    else:\n",
    "        head = previous\n",
    "    \n",
    "    # connect with the last part\n",
    "    last_node_of_sub_list.next = current\n",
    "    return head    "
   ]
  },
  {
   "cell_type": "code",
   "execution_count": 7,
   "metadata": {
    "vscode": {
     "languageId": "python"
    }
   },
   "outputs": [
    {
     "name": "stdout",
     "output_type": "stream",
     "text": [
      "Nodes of the linkedlist before reversal :  2 4 6 8 10 \n",
      "Nodes of the linkedlist after reversal :  2 4\n",
      "2 8 6 4 10 \n"
     ]
    }
   ],
   "source": [
    "head = Node(2)\n",
    "head.next = Node(4)\n",
    "head.next.next = Node(6)\n",
    "head.next.next.next = Node(8)\n",
    "head.next.next.next.next = Node(10)\n",
    "\n",
    "print(\"Nodes of the linkedlist before reversal : \", end=\" \")\n",
    "head.print_list()\n",
    "print(\"Nodes of the linkedlist after reversal : \", end=\" \")\n",
    "reverse = reverse_sublist_linkedlist(head, 2, 4)\n",
    "reverse.print_list()"
   ]
  }
 ],
 "metadata": {
  "kernelspec": {
   "display_name": "vmlimpl",
   "language": "python",
   "name": "vmlimpl"
  },
  "orig_nbformat": 4
 },
 "nbformat": 4,
 "nbformat_minor": 2
}
