{
 "cells": [
  {
   "cell_type": "markdown",
   "metadata": {},
   "source": [
    "#### Subsets\n",
    "Given a set with distinct elements, fina all of its distinct subsets.\n",
    "\n",
    "```\n",
    "Example 1:\n",
    "\n",
    "Input : [1, 3]\n",
    "Output = [], [1], [3], [1,3]\n",
    "```\n",
    "\n",
    "*Time Complexity*: `O(2^N)`, `N` is the total number of element in the input set\\\n",
    "*Auxiliary Space*: `O(2^N)`"
   ]
  },
  {
   "cell_type": "code",
   "execution_count": 8,
   "metadata": {},
   "outputs": [],
   "source": [
    "def subsets(arr):\n",
    "    result = []\n",
    "    if arr is None:\n",
    "        return\n",
    "    result.append([])\n",
    "    for i in range(len(arr)):\n",
    "        subarr = arr[:i+1]\n",
    "        result.append(subarr)\n",
    "    \n",
    "    return result"
   ]
  },
  {
   "cell_type": "code",
   "execution_count": 11,
   "metadata": {},
   "outputs": [],
   "source": [
    "def findsubset(arr):\n",
    "    subsets = []\n",
    "    # start by adding the empty subset\n",
    "    subsets.append([])\n",
    "    for curr in arr:\n",
    "        # we will take all existing subsets and insert the current number in them to create new subsets\n",
    "        n = len(subsets)\n",
    "        for i in range(n):\n",
    "            # create a new subset from the existing subset and insert the current element to it\n",
    "            subset = subsets[i].copy()\n",
    "            subset.append(curr)\n",
    "            subsets.append(subset)\n",
    "    \n",
    "    return subsets"
   ]
  },
  {
   "cell_type": "code",
   "execution_count": 18,
   "metadata": {},
   "outputs": [
    {
     "name": "stdout",
     "output_type": "stream",
     "text": [
      "[[], [1], [1, 3], [1, 3, 5]]\n"
     ]
    },
    {
     "data": {
      "text/plain": [
       "[[], [1], [3], [1, 3], [5], [1, 5], [3, 5], [1, 3, 5]]"
      ]
     },
     "execution_count": 18,
     "metadata": {},
     "output_type": "execute_result"
    }
   ],
   "source": [
    "# Driver code\n",
    "print(subsets(arr=[1,3,5]))\n",
    "findsubset(arr=[1,3,5])"
   ]
  }
 ],
 "metadata": {
  "kernelspec": {
   "display_name": "vmlimpl",
   "language": "python",
   "name": "vmlimpl"
  },
  "language_info": {
   "name": "python",
   "version": "3.8.10"
  },
  "orig_nbformat": 4
 },
 "nbformat": 4,
 "nbformat_minor": 2
}
