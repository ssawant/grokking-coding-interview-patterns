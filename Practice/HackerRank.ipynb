{
 "cells": [
  {
   "cell_type": "markdown",
   "metadata": {},
   "source": [
    "#### Json Pagination\n"
   ]
  },
  {
   "cell_type": "code",
   "execution_count": 254,
   "metadata": {},
   "outputs": [
    {
     "name": "stdout",
     "output_type": "stream",
     "text": [
      "[{'id': 1, 'name': 'Item 1', 'price': 10}, {'id': 2, 'name': 'Item 2', 'price': 20}, {'id': 3, 'name': 'Item 3', 'price': 30}, {'id': 1, 'name': 'Item 1', 'price': 10}, {'id': 2, 'name': 'Item 2', 'price': 20}, {'id': 3, 'name': 'Item 3', 'price': 30}]\n"
     ]
    }
   ],
   "source": [
    "import requests\n",
    "from requests.structures import CaseInsensitiveDict\n",
    "\n",
    "server = \"https://reqbin.com\"\n",
    "url = \"/echo/get/json/page/3\"\n",
    "\n",
    "headers = CaseInsensitiveDict()\n",
    "headers[\"Accept\"] = \"application/json\"\n",
    "\n",
    "resp = requests.get(server + url, headers=headers).json()\n",
    "items = resp[\"items\"]\n",
    "\n",
    "while resp[\"links\"][\"next\"]:\n",
    "    url = str(resp[\"links\"][\"next\"])\n",
    "    resp = requests.get(server + url, headers=headers).json()\n",
    "    items.extend(resp[\"items\"])\n",
    "    break\n",
    "\n",
    "print(items)"
   ]
  },
  {
   "cell_type": "markdown",
   "metadata": {},
   "source": [
    "### Sliding window Maximum"
   ]
  },
  {
   "cell_type": "code",
   "execution_count": 190,
   "metadata": {},
   "outputs": [],
   "source": [
    "### Sliding Window Maximum\n",
    "\n",
    "from collections import deque\n",
    "\n",
    "def maxSlidingWindow(nums, k):\n",
    "    n = len(nums)\n",
    "    if n * k == 0:\n",
    "        return []\n",
    "    if k == 1:\n",
    "        return nums\n",
    "    \n",
    "    def clean_deque(i):\n",
    "        # remove indexes of elements not from sliding window\n",
    "        if deq and deq[0] == i - k:\n",
    "            deq.pop()\n",
    "        \n",
    "        while deq and nums[i] > nums[deq[-1]]:\n",
    "            deq.pop()\n",
    "            \n",
    "    # init deque and output\n",
    "    deq = deque()\n",
    "    max_idx = 0\n",
    "    for i in range(k):\n",
    "        clean_deque(i)\n",
    "        deque.append(i)\n",
    "        if nums[i] > nums[ma_idx]:\n",
    "            max_idx = i\n",
    "    output = [nums[max_idx]]\n",
    "\n",
    "    # build output\n",
    "    for i in range(k, n):\n",
    "        clean_deque(i)\n",
    "        deq.append(i)\n",
    "        output.append(nums[deq[0]])\n",
    "    return output\n"
   ]
  },
  {
   "cell_type": "code",
   "execution_count": 214,
   "metadata": {},
   "outputs": [],
   "source": [
    "from collections import deque\n",
    "\n",
    "def printMax(arr, k):\n",
    "    n = len(arr)\n",
    "    deq = deque()\n",
    "    output = []\n",
    "\n",
    "    for i in range(k):\n",
    "        while deq and arr[i] >= arr[deq[-1]]:\n",
    "            deq.pop()\n",
    "        deq.append(i)\n",
    "        \n",
    "    for i in range(k, n):\n",
    "        output.append(arr[deq[0]])\n",
    "\n",
    "        while deq and deq[0] <= i-k:\n",
    "            deq.popleft()\n",
    "        \n",
    "        while deq and arr[i] >= arr[deq[-1]]:\n",
    "            deq.pop()\n",
    "\n",
    "        deq.append(i)\n",
    "    \n",
    "    output.append(arr[deq[0]])\n",
    "    return output"
   ]
  },
  {
   "cell_type": "code",
   "execution_count": 216,
   "metadata": {},
   "outputs": [
    {
     "name": "stdout",
     "output_type": "stream",
     "text": [
      "[3, 3, 5, 5, 6, 7]\n"
     ]
    }
   ],
   "source": [
    "# print(maxSlidingWindow(nums=[1,3,-1,-3,5,3,6,7], k=3))\n",
    "# arr = [12, 1, 78, 90, 57, 89, 56]\n",
    "arr = [1,3,-1,-3,5,3,6,7]\n",
    "print(printMax(arr, k=3))\n"
   ]
  },
  {
   "cell_type": "markdown",
   "metadata": {},
   "source": [
    "### Subarray with Given Sum 8\n",
    "\n",
    "Given an array of n intergers, and a required sum k find the number of subarrays whose sum is equal to the required sum. A subarray is a contiguous segment of an array.\n",
    "\n",
    "```\n",
    "Example\n",
    "Input: arr = [1,2,3,0], k = 3\n",
    "Output: 3 \n",
    "Explanation: Subarray with given sum are [1,2],[3],[3,0], thus ans is 3\n",
    "```"
   ]
  },
  {
   "cell_type": "code",
   "execution_count": 75,
   "metadata": {},
   "outputs": [],
   "source": [
    "# Prefix sum arr : represent sum of all the value between 0 and the current index\n",
    "# Soluation : https://leetcode.com/problems/subarray-sum-equals-k/solution/\n",
    "def count_num_of_subarray(arr, k):\n",
    "    count = {}\n",
    "    prefix_sum = 0\n",
    "    ans = 0\n",
    "    count[0] = 1\n",
    "    for i in range(len(arr)):\n",
    "        prefix_sum += arr[i]\n",
    "        ans += count.get(prefix_sum - k, 0)\n",
    "        if prefix_sum not in count:\n",
    "            count[prefix_sum] = 0\n",
    "        count[prefix_sum] += 1\n",
    "    print(count)\n",
    "    return ans"
   ]
  },
  {
   "cell_type": "code",
   "execution_count": 76,
   "metadata": {},
   "outputs": [
    {
     "name": "stdout",
     "output_type": "stream",
     "text": [
      "{0: 1, -2: 1, -1: 2, 1: 1, 4: 1, 2: 1, 3: 1}\n",
      "5\n",
      "{0: 1, 1: 1, 3: 1, 6: 2}\n",
      "3\n"
     ]
    }
   ],
   "source": [
    "print(count_num_of_subarray(arr=[-2, 1, 2, -2, 5,-2, 1], k=3))\n",
    "print(count_num_of_subarray(arr=[1, 2, 3, 0], k=3))"
   ]
  },
  {
   "cell_type": "markdown",
   "metadata": {},
   "source": [
    "### K Subarrays\n",
    "Given a large list of positive integers, count the number of k-subsequences.\n",
    "\n",
    "A k-subarray of an array is define as below\n",
    "* it is a subarry - contiguous elements in the array\n",
    "* The sum of the subarray elements, s, is evenlly divisible by k i.e. sum mod k = 0\n",
    "\n",
    "```\n",
    "Example:\n",
    "Input: arr = [5, 10, 11, 9, 5], k = 5\n",
    "Output: 10, {5}, {5,10}, {5,10,11,9}, {5,10,11,9,5}, {10}, {10,11,9}, {10,11,9,5}, {11,9}, {11,9,5}, {5}"
   ]
  },
  {
   "cell_type": "markdown",
   "metadata": {},
   "source": [
    "https://leetcode.com/problems/subarray-sums-divisible-by-k/\n",
    "\n"
   ]
  },
  {
   "cell_type": "code",
   "execution_count": 143,
   "metadata": {},
   "outputs": [],
   "source": [
    "def k_sub(arr, k) -> int:\n",
    "    mod_count = {0: 1}\n",
    "    result, prefix_sum = 0, 0\n",
    "\n",
    "    for num in arr:\n",
    "        prefix_sum = (prefix_sum + num) % k\n",
    "        if prefix_sum not in mod_count:\n",
    "            mod_count[prefix_sum] = 0\n",
    "        result += mod_count[prefix_sum]\n",
    "        mod_count[prefix_sum] += 1\n",
    "    \n",
    "    return result"
   ]
  },
  {
   "cell_type": "code",
   "execution_count": 144,
   "metadata": {},
   "outputs": [
    {
     "name": "stdout",
     "output_type": "stream",
     "text": [
      "10\n"
     ]
    }
   ],
   "source": [
    "print(k_sub(arr=[5, 10, 11, 9, 5], k=5))\n",
    "#print(k_sub(arr=[4,5,0,-2,-3,1], k=5))\n",
    "# print(k_sub(arr=[5], k=9))"
   ]
  },
  {
   "cell_type": "markdown",
   "metadata": {},
   "source": [
    "### Coding Friends\n",
    "\n",
    "Sam and Kelly are programming buddies. Kelly resolves to practices more as sam is ahead initially. The each solve a number of problems daily. Find the minimum number of days for kelly to have solved more problem than Sam. If Kelly cannt surpass return -1\n",
    "\n",
    "```\n",
    "Example:\n",
    "\n",
    "sam_daily = 3\n",
    "kelly_daily = 5\n",
    "difference = 5\n",
    "\n",
    "Day 1: sam = difference + daily : 5 + 3 = 8\n",
    "       kelly = daily = 5\n",
    "Day 2: sam = 8 + 3 = 11\n",
    "       kelly = 5 + 5 = 10\n",
    "Day 3: sam = 11 + 3 = 14\n",
    "       kelly = 10 + 5 = 15\n",
    "\n",
    "kelly pass sam on day 3\n",
    "```"
   ]
  },
  {
   "cell_type": "code",
   "execution_count": 183,
   "metadata": {},
   "outputs": [],
   "source": [
    "def num_min(sam_daily, kelly_daily, diff):\n",
    "    count = 1\n",
    "    sam_count = sam_daily + diff\n",
    "    kelly_count = kelly_daily\n",
    "\n",
    "    if sam_daily > kelly_daily:\n",
    "        return -1\n",
    "\n",
    "    while sam_count >= kelly_count:\n",
    "        sam_count += sam_daily\n",
    "        kelly_count += kelly_daily\n",
    "        count += 1\n",
    "\n",
    "    return count\n"
   ]
  },
  {
   "cell_type": "code",
   "execution_count": 188,
   "metadata": {},
   "outputs": [
    {
     "name": "stdout",
     "output_type": "stream",
     "text": [
      "3\n"
     ]
    }
   ],
   "source": [
    "print(num_min(sam_daily=3, kelly_daily=5, diff=5))"
   ]
  },
  {
   "cell_type": "markdown",
   "metadata": {},
   "source": [
    "### Vanity Number search"
   ]
  },
  {
   "cell_type": "markdown",
   "metadata": {},
   "source": [
    "Customer somtimes request to purchase vanity phone number. These vanity should return a sortedarry of phone numbers that match onre or more vanity code\n",
    "\n",
    "##### Constraints\n",
    "* The input numbers array may have repeat elements.\n",
    "* The output must be a sorted array of unique numbers.\n",
    "* Vanity code wil only consist of uppercase letters(A-Z)\n",
    "* All vanity codewill be of shorterlength than all phone numbers.\n",
    "* The output array should be subset of the input array of phone numbers.\n",
    "* Vanity codes can appear anywhere in the number, including country or area coders.\n",
    "* Phone numbers will be in `E.164 format` i.e. a plus (+) followed by upto 15 digits (0-9).\n",
    "\n",
    "```\n",
    "3\n",
    "TWLO\n",
    "CODE\n",
    "HTCH\n",
    "5\n",
    "+17474824380\n",
    "+14157088956\n",
    "+919810155555\n",
    "+15109926333\n",
    "+1415123456\n",
    "\n",
    "Sample Output:\n",
    "+14157088956\n",
    "+15109926333\n",
    "+17474824380\n",
    "\n",
    "Explanation\n",
    "TWLO matches +14157088956 (+1415708-TWLO)   8956 (number pad)\n",
    "CODE matches +15109926333 (+1510992-CODE-3)  3633 (number pad)\n",
    "HTCH matches +17474824380 (+1747-HTCH-380)  4824 (number pad)\n",
    "```"
   ]
  },
  {
   "cell_type": "code",
   "execution_count": 73,
   "metadata": {},
   "outputs": [],
   "source": [
    "def get_vanity_numbers(codes, numbers):\n",
    "    number_pad = {}\n",
    "    number_pad[2] = \"abc\"\n",
    "    number_pad[3] = \"def\"\n",
    "    number_pad[4] = \"ghi\"\n",
    "    number_pad[5] = \"jkl\"\n",
    "    number_pad[6] = \"mno\"\n",
    "    number_pad[7] = \"pqrs\"\n",
    "    number_pad[8] = \"tuv\"\n",
    "    number_pad[9] = \"wxyz\"\n",
    "\n",
    "    decode_codes = []\n",
    "    results = []\n",
    "\n",
    "    for code in codes:\n",
    "        decode_code = \"\"\n",
    "        code = code.lower()\n",
    "        for char in code:\n",
    "            for value, key in number_pad.items():\n",
    "                if char in key:\n",
    "                    decode_code = decode_code + str(value)\n",
    "        decode_codes.append(decode_code)\n",
    "    \n",
    "    for number in numbers:\n",
    "        for code in decode_codes:\n",
    "            if code in number:\n",
    "                results.append(number)\n",
    "    \n",
    "    return list(set(results))"
   ]
  },
  {
   "cell_type": "code",
   "execution_count": 74,
   "metadata": {},
   "outputs": [
    {
     "name": "stdout",
     "output_type": "stream",
     "text": [
      "['+17474824380', '+15109926333', '+14157088956']\n"
     ]
    }
   ],
   "source": [
    "print(get_vanity_numbers(codes=[\"TWLO\",\"CODE\",\"HTCH\"],numbers=[\"+17474824380\",\"+14157088956\",\"+919810155555\",\"+15109926333\",\"+1415123456\"]))"
   ]
  },
  {
   "cell_type": "markdown",
   "metadata": {},
   "source": [
    "### SMS Splitting\n",
    "\n",
    "Given an input string of arbitary length, output SMS-compliant segmentswith suffixes.\n",
    "* A SMS-compliant segment is of length 160 char or less.\n",
    "* Do not generate segments if the input fits in a single message.\n",
    "* A segement suffix lookslike \"1/5\" for the first five segments.\n",
    "* The segement content and suffix must both fit in the segment.\n",
    "\n",
    "Input Constraints\n",
    "* Inputs will only consist of A-Z,a-z,spaces(), commas(,) and periods(.)\n",
    "* Your implementation can expect a maximim of 9 segments per input.\n"
   ]
  },
  {
   "cell_type": "code",
   "execution_count": 71,
   "metadata": {},
   "outputs": [],
   "source": [
    "def segments(message):\n",
    "    result = []\n",
    "    segment, start, end = 0, 0, 154\n",
    "    \n",
    "    while end < len(message):\n",
    "        while (end > start and message[end] != \" \" and message[end+1] !=\" \"):\n",
    "            end -= 1\n",
    "        result.append(message[start:end+1])\n",
    "        \n",
    "        start = end + 1\n",
    "        if segment <= 9:\n",
    "            end = start + 154\n",
    "        else:\n",
    "            end = start + 159\n",
    "        segment+=1\n",
    "    result.append(message[start:end+1])\n",
    "    segment+=1\n",
    "    \n",
    "    for i in range(segment):\n",
    "        result[i] += \"(\" + str(i+1) + \"/\" + str(segment) +\")\"\n",
    "    \n",
    "    return result"
   ]
  },
  {
   "cell_type": "code",
   "execution_count": 72,
   "metadata": {},
   "outputs": [
    {
     "name": "stdout",
     "output_type": "stream",
     "text": [
      "['Lorem ipsum dolor sit amet, consectetuer adipiscing elit. Aenean commodo ligula eget dolor. Aenean massa. Cum sociis natoque penatibus et magnis dis partu (1/3)', 'sed ut perspiciatis unde omnis iste natus error sit voluptatem accusantium doloremque laudantium, totam rem aperiam, eaque ipsa quae ab illo inventore ver (2/3)', 'rup. Li Europan lingues es membres del sam familie. Lor separat existentie es un myth. Por scientie, musica, sport etc, litot Europa.(3/3)']\n"
     ]
    }
   ],
   "source": [
    "print(segments(message=\"Lorem ipsum dolor sit amet, consectetuer adipiscing elit. Aenean commodo ligula eget dolor. Aenean massa. Cum sociis natoque penatibus et magnis dis partu sed ut perspiciatis unde omnis iste natus error sit voluptatem accusantium doloremque laudantium, totam rem aperiam, eaque ipsa quae ab illo inventore ver rup. Li Europan lingues es membres del sam familie. Lor separat existentie es un myth. Por scientie, musica, sport etc, litot Europa.\"))"
   ]
  }
 ],
 "metadata": {
  "kernelspec": {
   "display_name": "vmlimpl",
   "language": "python",
   "name": "vmlimpl"
  },
  "language_info": {
   "codemirror_mode": {
    "name": "ipython",
    "version": 3
   },
   "file_extension": ".py",
   "mimetype": "text/x-python",
   "name": "python",
   "nbconvert_exporter": "python",
   "pygments_lexer": "ipython3",
   "version": "3.8.10"
  },
  "orig_nbformat": 4
 },
 "nbformat": 4,
 "nbformat_minor": 2
}
