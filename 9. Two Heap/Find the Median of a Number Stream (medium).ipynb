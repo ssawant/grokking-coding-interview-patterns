{
 "cells": [
  {
   "cell_type": "markdown",
   "metadata": {},
   "source": [
    "#### Find the Median of a Number stream\n",
    "Design a class to calcuate the median of a number stream. The class should have the following two methods:\n",
    "\n",
    "insertNum(int num):storesthe number in the class\\\n",
    "findMedian(): returns the median of all numbers inserted in the class\\\n",
    "If the count of numbers inserted in the class is even,the median will be the average of the middle two numbers.\n",
    "\n",
    "```\n",
    "Example 1:\n",
    "\n",
    "- insertNum(3)\n",
    "- insertNum(1)\n",
    "- findMedian() -> output: 2\n",
    "- insertNum(5)\n",
    "- findMedian() -> output: 3\n",
    "- insertNum(4)\n",
    "- findMedian() -> output: 3.5"
   ]
  },
  {
   "cell_type": "code",
   "execution_count": 1,
   "metadata": {},
   "outputs": [],
   "source": [
    "import heapq \n",
    "\n",
    "\n",
    "class MedianOfAStream:\n",
    "    maxHeap = [] # containing first half of numbers\n",
    "    minHeap = [] # containing second half of numbers\n",
    "\n",
    "    def insert_num(self, num):\n",
    "        if not self.maxHeap or -self.maxHeap[0] >= num:\n",
    "            heapq.heappush(self.maxHeap, -num) # python doesn't have max heap. so we are using -num in a min heap\n",
    "        else:\n",
    "            heapq.heappush(self.minHeap, num)\n",
    "        print(len(self.maxHeap), len(self.minHeap))\n",
    "        # either both the heaps will have equal numer of elements or max-heap will have one\n",
    "        # more element than the min-heap\n",
    "        if len(self.maxHeap) > len(self.minHeap) + 1:\n",
    "            heapq.heappush(self.minHeap, -heapq.heappop(self.maxHeap))\n",
    "        elif len(self.maxHeap) < len(self.minHeap):\n",
    "            heapq.heappush(self.maxHeap, -heapq.heappop(self.minHeap))\n",
    "        print(f\"MaxHeap: {self.maxHeap} MinHeap: {self.minHeap}\")\n",
    "    \n",
    "    def find_median(self):\n",
    "        if len(self.maxHeap) == len(self.minHeap):\n",
    "            # we have even number of elements, take the average of middle two elements\n",
    "            return -self.maxHeap[0] / 2.0 + self.minHeap[0] / 2.0\n",
    "        \n",
    "        # because max-heap will have one more element than the min-heap\n",
    "        return -self.maxHeap[0] / 1.0"
   ]
  },
  {
   "cell_type": "code",
   "execution_count": 25,
   "metadata": {},
   "outputs": [
    {
     "name": "stdout",
     "output_type": "stream",
     "text": [
      "1 0\n",
      "MaxHeap: [-3] MinHeap: []\n",
      "2 0\n",
      "MaxHeap: [-1] MinHeap: [3]\n",
      "The median is 2.0\n",
      "1 2\n",
      "MaxHeap: [-3, -1] MinHeap: [5]\n",
      "The median is 3.0\n",
      "2 2\n",
      "MaxHeap: [-3, -1] MinHeap: [4, 5]\n",
      "The median is 3.5\n"
     ]
    }
   ],
   "source": [
    "medianOfAStream = MedianOfAStream()\n",
    "medianOfAStream.insert_num(3)\n",
    "medianOfAStream.insert_num(1)\n",
    "print(f\"The median is {medianOfAStream.find_median()}\")\n",
    "medianOfAStream.insert_num(5)\n",
    "print(f\"The median is {medianOfAStream.find_median()}\")\n",
    "medianOfAStream.insert_num(4)\n",
    "print(f\"The median is {medianOfAStream.find_median()}\")\n"
   ]
  }
 ],
 "metadata": {
  "kernelspec": {
   "display_name": "vmlimpl",
   "language": "python",
   "name": "vmlimpl"
  },
  "language_info": {
   "codemirror_mode": {
    "name": "ipython",
    "version": 3
   },
   "file_extension": ".py",
   "mimetype": "text/x-python",
   "name": "python",
   "nbconvert_exporter": "python",
   "pygments_lexer": "ipython3",
   "version": "3.8.10"
  },
  "orig_nbformat": 4
 },
 "nbformat": 4,
 "nbformat_minor": 2
}
