{
 "cells": [
  {
   "cell_type": "markdown",
   "metadata": {},
   "source": [
    "#### Leet 70: Climbing chair.\n",
    "\n",
    "Given a value `n` represent number of stairs find max path it can be climb.\\\n",
    "A stair can be climb `1` or `2` steps at a time."
   ]
  },
  {
   "cell_type": "code",
   "execution_count": 4,
   "metadata": {},
   "outputs": [],
   "source": [
    "class Solution:\n",
    "    def climbStairs(self, n: int) -> int:\n",
    "        one, two = 1, 1\n",
    "        for i in range(n-1):\n",
    "            temp = one\n",
    "            one = one + two\n",
    "            two = temp\n",
    "        \n",
    "        return one"
   ]
  },
  {
   "cell_type": "code",
   "execution_count": 5,
   "metadata": {},
   "outputs": [
    {
     "data": {
      "text/plain": [
       "8"
      ]
     },
     "execution_count": 5,
     "metadata": {},
     "output_type": "execute_result"
    }
   ],
   "source": [
    "solution = Solution()\n",
    "solution.climbStairs(5)\n"
   ]
  }
 ],
 "metadata": {
  "kernelspec": {
   "display_name": "Python 3.8.10 ('vmlimpl')",
   "language": "python",
   "name": "python3"
  },
  "language_info": {
   "codemirror_mode": {
    "name": "ipython",
    "version": 3
   },
   "file_extension": ".py",
   "mimetype": "text/x-python",
   "name": "python",
   "nbconvert_exporter": "python",
   "pygments_lexer": "ipython3",
   "version": "3.8.10"
  },
  "orig_nbformat": 4,
  "vscode": {
   "interpreter": {
    "hash": "7626a37170bde8cbd07d8d30684bdff5f1c1a26dbdf249b53898a22fb9c20fab"
   }
  }
 },
 "nbformat": 4,
 "nbformat_minor": 2
}
