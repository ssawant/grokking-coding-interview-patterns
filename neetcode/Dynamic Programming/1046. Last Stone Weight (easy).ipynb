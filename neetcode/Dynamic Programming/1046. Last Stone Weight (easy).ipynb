{
 "cells": [
  {
   "cell_type": "markdown",
   "metadata": {},
   "source": [
    "#### 1046. Last Stone Weight\n",
    "We have a collection of stones, each stone has a positive integer weight.\n",
    "\n",
    "Each trun, we choose the two **heaviest** stone and smash them together"
   ]
  },
  {
   "cell_type": "code",
   "execution_count": 7,
   "metadata": {},
   "outputs": [],
   "source": [
    "from __future__ import annotations\n",
    "import heapq\n",
    "\n",
    "class Solution:\n",
    "    def lastStoneWeight(self, stones: List[int]) -> int:\n",
    "        stones = [-s for s in stones] # since in python we don't have maxHeap we just add -ve value in a min heap\n",
    "\n",
    "        heapq.heapify(stones) # this is minHeap but we want maxHeap\n",
    "        while len(stones) > 1:\n",
    "            first = abs(heapq.heappop(stones))\n",
    "            second = abs(heapq.heappop(stones))\n",
    "\n",
    "            if second < first:\n",
    "                heapq.heappush(stones, (first - second)*-1)\n",
    "\n",
    "        if not stones:\n",
    "            stones.append(0)\n",
    "\n",
    "        return abs(stones[0])"
   ]
  },
  {
   "cell_type": "code",
   "execution_count": 8,
   "metadata": {},
   "outputs": [
    {
     "data": {
      "text/plain": [
       "1"
      ]
     },
     "execution_count": 8,
     "metadata": {},
     "output_type": "execute_result"
    }
   ],
   "source": [
    "### Driver code\n",
    "solution = Solution()\n",
    "solution.lastStoneWeight(stones=[2,7,4,1,8,1])"
   ]
  }
 ],
 "metadata": {
  "kernelspec": {
   "display_name": "Python 3.8.10 ('vmlimpl')",
   "language": "python",
   "name": "python3"
  },
  "language_info": {
   "codemirror_mode": {
    "name": "ipython",
    "version": 3
   },
   "file_extension": ".py",
   "mimetype": "text/x-python",
   "name": "python",
   "nbconvert_exporter": "python",
   "pygments_lexer": "ipython3",
   "version": "3.8.10"
  },
  "orig_nbformat": 4,
  "vscode": {
   "interpreter": {
    "hash": "7626a37170bde8cbd07d8d30684bdff5f1c1a26dbdf249b53898a22fb9c20fab"
   }
  }
 },
 "nbformat": 4,
 "nbformat_minor": 2
}
