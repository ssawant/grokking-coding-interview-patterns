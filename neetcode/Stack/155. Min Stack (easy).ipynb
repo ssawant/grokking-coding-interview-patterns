{
 "cells": [
  {
   "cell_type": "markdown",
   "metadata": {},
   "source": [
    "#### 155. Min Stack\n",
    "\n",
    "Design a stack that supportspush, pop, top and reterieving the **minimum elements in cosntant time**.\n",
    "\n",
    "Implement the `MinStack` class:\n",
    "- `MinStack()` initializethe stack object\n",
    "- `void push(val) ` pushes the element value onto the stack.\n",
    "- `void pop()` removes the element on the top of the stack.\n",
    "- `int top()` get the top element of the stack.\n",
    "- `int getMin()` retrieves the minmum element in the stack."
   ]
  },
  {
   "cell_type": "code",
   "execution_count": 16,
   "metadata": {},
   "outputs": [],
   "source": [
    "import math\n",
    "\n",
    "class MinStack:\n",
    "    def __init__(self):\n",
    "        self.stack = []\n",
    "        self.currMin = math.inf\n",
    "        self.minVal = []\n",
    "    \n",
    "    def push(self, value: int) -> None:\n",
    "        self.currMin = min(self.currMin, value)\n",
    "        self.stack.append(value)\n",
    "        self.minVal.append(self.currMin)\n",
    "    \n",
    "    def pop(self) -> int:\n",
    "        self.minVal.pop()\n",
    "        return self.stack.pop()\n",
    "\n",
    "    def top(self) -> int:\n",
    "        return self.stack[0]\n",
    "    \n",
    "    def getMin(self) -> int:\n",
    "        return self.minVal[-1]\n",
    "    \n",
    "    def print(self) -> None:\n",
    "        print(self.stack)"
   ]
  },
  {
   "cell_type": "code",
   "execution_count": 17,
   "metadata": {},
   "outputs": [
    {
     "name": "stdout",
     "output_type": "stream",
     "text": [
      "[10, 20, 1, -2]\n",
      "-2\n",
      "1\n"
     ]
    }
   ],
   "source": [
    "minStack = MinStack()\n",
    "minStack.push(10)\n",
    "minStack.push(20)\n",
    "minStack.push(1)\n",
    "minStack.push(-2)\n",
    "minStack.print()\n",
    "print(minStack.getMin())\n",
    "minStack.pop()\n",
    "print(minStack.getMin())"
   ]
  }
 ],
 "metadata": {
  "kernelspec": {
   "display_name": "Python 3.8.10 ('vmlimpl')",
   "language": "python",
   "name": "python3"
  },
  "language_info": {
   "codemirror_mode": {
    "name": "ipython",
    "version": 3
   },
   "file_extension": ".py",
   "mimetype": "text/x-python",
   "name": "python",
   "nbconvert_exporter": "python",
   "pygments_lexer": "ipython3",
   "version": "3.8.10"
  },
  "orig_nbformat": 4,
  "vscode": {
   "interpreter": {
    "hash": "7626a37170bde8cbd07d8d30684bdff5f1c1a26dbdf249b53898a22fb9c20fab"
   }
  }
 },
 "nbformat": 4,
 "nbformat_minor": 2
}
