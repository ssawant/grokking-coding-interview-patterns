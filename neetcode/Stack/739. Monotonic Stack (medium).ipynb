{
 "cells": [
  {
   "cell_type": "markdown",
   "metadata": {},
   "source": [
    "#### 739. Dialy Temp -Monotonic Stack\n",
    "Given an array of intergers temperatures represents the daily temperatures, return an array answer such that answer[i] is the number of days you have to wait after the ith day to get a warmer temp. If there is no future day for which this is possible, keep ans[i] == 0 instead.\n",
    "\n",
    "```\n",
    "Example 1:\n",
    "Input: temp = [73,74, 75,71, 69,72,76,73]\n",
    "Output: [1,1,4,2,1,1,0,0]\n",
    "```"
   ]
  },
  {
   "cell_type": "code",
   "execution_count": 4,
   "metadata": {},
   "outputs": [],
   "source": [
    "from __future__ import annotations\n",
    "\n",
    "class Solution:\n",
    "    def dailyTemperature(self, temperature: List[int]) -> List[int]:\n",
    "        result = [0] * len(temperature)\n",
    "        stack = [] # pair: [temp, index]\n",
    "\n",
    "        for index, temp in enumerate(temperature):\n",
    "            while stack and temp > stack[-1][0]:\n",
    "                _, stackIdx = stack.pop()\n",
    "                result[stackIdx] = index - stackIdx\n",
    "            stack.append([temp, index])\n",
    "        \n",
    "        return result"
   ]
  },
  {
   "cell_type": "code",
   "execution_count": 5,
   "metadata": {},
   "outputs": [
    {
     "data": {
      "text/plain": [
       "[1, 1, 4, 2, 1, 1, 0, 0]"
      ]
     },
     "execution_count": 5,
     "metadata": {},
     "output_type": "execute_result"
    }
   ],
   "source": [
    "### Driver code\n",
    "solution = Solution()\n",
    "solution.dailyTemperature([73,74,75,71,69,72,76,73])"
   ]
  }
 ],
 "metadata": {
  "kernelspec": {
   "display_name": "Python 3.8.10 ('vmlimpl')",
   "language": "python",
   "name": "python3"
  },
  "language_info": {
   "codemirror_mode": {
    "name": "ipython",
    "version": 3
   },
   "file_extension": ".py",
   "mimetype": "text/x-python",
   "name": "python",
   "nbconvert_exporter": "python",
   "pygments_lexer": "ipython3",
   "version": "3.8.10"
  },
  "orig_nbformat": 4,
  "vscode": {
   "interpreter": {
    "hash": "7626a37170bde8cbd07d8d30684bdff5f1c1a26dbdf249b53898a22fb9c20fab"
   }
  }
 },
 "nbformat": 4,
 "nbformat_minor": 2
}
