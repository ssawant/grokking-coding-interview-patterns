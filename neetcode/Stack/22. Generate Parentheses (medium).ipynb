{
 "cells": [
  {
   "cell_type": "markdown",
   "metadata": {},
   "source": [
    "#### 22. Generate Parentheses\n",
    "\n",
    "Given n paris of parentheses, write a function to generate all combinations of well-formed parentheses.\n",
    "\n",
    "```\n",
    "Input: n = 3\n",
    "Output: [\"((()))\", \"(()())\", \"(())()\", \"()(())\", \"()()()\"]\n",
    "```"
   ]
  },
  {
   "cell_type": "code",
   "execution_count": 4,
   "metadata": {},
   "outputs": [],
   "source": [
    "from __future__ import annotations\n",
    "\n",
    "class Solution:\n",
    "    \"\"\"Using backtracking with stack\n",
    "    \"\"\"\n",
    "    def generateParenthesis(self, n: int) -> List[str]:\n",
    "        # only add open paranthesis if open < n\n",
    "        # only add a close parantheis if closed < open\n",
    "        # valid IF open == close == n <- based case\n",
    "        stack = []\n",
    "        result = []\n",
    "\n",
    "        def backtrack(openN, closeN):\n",
    "            if openN == closeN == n:\n",
    "                result.append(\" \".join(stack))\n",
    "                return\n",
    "            \n",
    "            if openN < n:\n",
    "                stack.append(\"(\")\n",
    "                backtrack(openN + 1, closeN)\n",
    "                stack.pop()\n",
    "            \n",
    "            if closeN < openN:\n",
    "                stack.append(\")\")\n",
    "                backtrack(openN, closeN + 1)\n",
    "                stack.pop()\n",
    "            \n",
    "        backtrack(0,0)\n",
    "        return result"
   ]
  },
  {
   "cell_type": "code",
   "execution_count": 3,
   "metadata": {},
   "outputs": [
    {
     "data": {
      "text/plain": [
       "['( ( ( ) ) )', '( ( ) ( ) )', '( ( ) ) ( )', '( ) ( ( ) )', '( ) ( ) ( )']"
      ]
     },
     "execution_count": 3,
     "metadata": {},
     "output_type": "execute_result"
    }
   ],
   "source": [
    "solution = Solution()\n",
    "solution.generateParenthesis(3)"
   ]
  }
 ],
 "metadata": {
  "kernelspec": {
   "display_name": "Python 3.8.10 ('vmlimpl')",
   "language": "python",
   "name": "python3"
  },
  "language_info": {
   "codemirror_mode": {
    "name": "ipython",
    "version": 3
   },
   "file_extension": ".py",
   "mimetype": "text/x-python",
   "name": "python",
   "nbconvert_exporter": "python",
   "pygments_lexer": "ipython3",
   "version": "3.8.10"
  },
  "orig_nbformat": 4,
  "vscode": {
   "interpreter": {
    "hash": "7626a37170bde8cbd07d8d30684bdff5f1c1a26dbdf249b53898a22fb9c20fab"
   }
  }
 },
 "nbformat": 4,
 "nbformat_minor": 2
}
