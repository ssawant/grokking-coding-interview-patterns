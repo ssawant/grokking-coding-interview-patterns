{
 "cells": [
  {
   "cell_type": "markdown",
   "metadata": {},
   "source": [
    "Given an array of strings `strs`, group **the anagrams** together. You cna return the answer in any order.\n",
    "\n",
    "An **Anagram** is a word or phrase fromed by rearranging the letters of a different word or phrase, typically using all the original letters exacctly once.\n",
    "\n",
    "```\n",
    "Example 1:\n",
    "Input: strs = [\"ear\", \"tea\", \"tan\", \"ate\", \"nat\", \"bat\"]\n",
    "Output: [[\"bat\"], [\"nat\",\"tan\"], [\"ate\",\"eat\",\"tea\"]]\n",
    "```"
   ]
  },
  {
   "cell_type": "code",
   "execution_count": 22,
   "metadata": {},
   "outputs": [],
   "source": [
    "from __future__ import annotations\n",
    "\n",
    "class Soluation:\n",
    "    def groupAnagram(self, strs: List[str]) -> List[List[str]]:\n",
    "        result = {} # hash map to store anagram\n",
    "        for str in strs:\n",
    "            count = [0] * 26\n",
    "            for char in str:\n",
    "                count[ord(char) - ord('a')] += 1 \n",
    "            \n",
    "            if tuple(count) not in result:\n",
    "                result[tuple(count)] = []\n",
    "            result[tuple(count)].append(str)\n",
    "\n",
    "        return list(result.values())"
   ]
  },
  {
   "cell_type": "code",
   "execution_count": 23,
   "metadata": {},
   "outputs": [
    {
     "data": {
      "text/plain": [
       "[['ear'], ['tea', 'ate'], ['tan', 'nat'], ['bat']]"
      ]
     },
     "execution_count": 23,
     "metadata": {},
     "output_type": "execute_result"
    }
   ],
   "source": [
    "# Driver code\n",
    "soluation = Soluation()\n",
    "soluation.groupAnagram(strs=[\"ear\", \"tea\", \"tan\", \"ate\", \"nat\", \"bat\"])"
   ]
  }
 ],
 "metadata": {
  "kernelspec": {
   "display_name": "Python 3.8.10 ('vmlimpl')",
   "language": "python",
   "name": "python3"
  },
  "language_info": {
   "codemirror_mode": {
    "name": "ipython",
    "version": 3
   },
   "file_extension": ".py",
   "mimetype": "text/x-python",
   "name": "python",
   "nbconvert_exporter": "python",
   "pygments_lexer": "ipython3",
   "version": "3.8.10"
  },
  "orig_nbformat": 4,
  "vscode": {
   "interpreter": {
    "hash": "7626a37170bde8cbd07d8d30684bdff5f1c1a26dbdf249b53898a22fb9c20fab"
   }
  }
 },
 "nbformat": 4,
 "nbformat_minor": 2
}
