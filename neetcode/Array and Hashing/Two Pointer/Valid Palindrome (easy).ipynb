{
 "cells": [
  {
   "cell_type": "markdown",
   "metadata": {},
   "source": [
    "#### Valid Palindrome\n",
    "Give a string `s`,determine if it is a palindrom,considering only alphanumeric char and ignoring cases.\n",
    "\n",
    "```\n",
    "Example 1:\n",
    "Input: S = \"A man, a plan, a canal: Panama\"\n",
    "Output: True\n",
    "Explanation: \"amanaplanacanalpanana\" is a palindrome.\n",
    "```"
   ]
  },
  {
   "cell_type": "code",
   "execution_count": 7,
   "metadata": {},
   "outputs": [],
   "source": [
    "class Soluation:\n",
    "    def isPalindrome(self, s: str) -> bool:\n",
    "        left, right = 0, len(s)-1\n",
    "        while left <= right:\n",
    "            while left < right and not self.alphaNum(s[left]):\n",
    "                left += 1\n",
    "            while right > left and not self.alphaNum(s[right]):\n",
    "                right -= 1\n",
    "            if s[left].lower() != s[right].lower():\n",
    "                return False\n",
    "            left, right = left + 1, right - 1\n",
    "            \n",
    "        return True\n",
    "    \n",
    "\n",
    "    def alphaNum(self, c):\n",
    "        return (ord('A') <= ord(c) <= ord('Z')) or \\\n",
    "        (ord('a') <= ord(c) <= ord('z')) or \\\n",
    "        (ord('A') <= ord(c) <= ord('Z'))"
   ]
  },
  {
   "cell_type": "code",
   "execution_count": 8,
   "metadata": {},
   "outputs": [
    {
     "data": {
      "text/plain": [
       "True"
      ]
     },
     "execution_count": 8,
     "metadata": {},
     "output_type": "execute_result"
    }
   ],
   "source": [
    "soluation = Soluation()\n",
    "soluation.isPalindrome(s=\"A man, a plan, a canal: Panama\")"
   ]
  }
 ],
 "metadata": {
  "kernelspec": {
   "display_name": "Python 3.8.10 ('vmlimpl')",
   "language": "python",
   "name": "python3"
  },
  "language_info": {
   "codemirror_mode": {
    "name": "ipython",
    "version": 3
   },
   "file_extension": ".py",
   "mimetype": "text/x-python",
   "name": "python",
   "nbconvert_exporter": "python",
   "pygments_lexer": "ipython3",
   "version": "3.8.10"
  },
  "orig_nbformat": 4,
  "vscode": {
   "interpreter": {
    "hash": "7626a37170bde8cbd07d8d30684bdff5f1c1a26dbdf249b53898a22fb9c20fab"
   }
  }
 },
 "nbformat": 4,
 "nbformat_minor": 2
}
