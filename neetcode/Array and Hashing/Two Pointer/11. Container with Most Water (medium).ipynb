{
 "cells": [
  {
   "cell_type": "markdown",
   "metadata": {},
   "source": [
    "#### Leet Code 11: Container with most water (similar to tapping rain water)\n",
    "Given `n` non nevatibe integer where eache represent a point at coordinate . `n` vertical lines are drawn \\\n",
    "such that the two endpoints of the `(i, ai) and (i, 0)`. Find two lines, which, together with the x=axis forms a container, such that container contins most water \n",
    "\n",
    "```\n",
    "Input: height = [1,8,6,2,5,4,8,3,7]\n",
    "Output : 49\n",
    "Explanation: The above vertical lines are represented by array [1.8.6.2.5.4.8.3.7]. In this case the max are of water the container is 49 i.e, 8 * 7\n",
    "```"
   ]
  },
  {
   "cell_type": "code",
   "execution_count": 9,
   "metadata": {},
   "outputs": [],
   "source": [
    "from __future__ import annotations\n",
    "\n",
    "class Soluation:\n",
    "    def maxWaterArea(self, arr: List[int]) -> int:\n",
    "        n = len(arr)\n",
    "        maxArea = 0\n",
    "        left, right = 0, n-1\n",
    "\n",
    "        while left < right:\n",
    "            height = min(arr[left], arr[right])\n",
    "            width = right - left \n",
    "            maxArea = max(maxArea, height * width)\n",
    "            if arr[left] < arr[right]:\n",
    "                left += 1\n",
    "            else: \n",
    "                right -= 1\n",
    "        \n",
    "        return maxArea       "
   ]
  },
  {
   "cell_type": "code",
   "execution_count": 10,
   "metadata": {},
   "outputs": [
    {
     "data": {
      "text/plain": [
       "49"
      ]
     },
     "execution_count": 10,
     "metadata": {},
     "output_type": "execute_result"
    }
   ],
   "source": [
    "soluation = Soluation()\n",
    "soluation.maxWaterArea(arr=[1,8,6,2,5,4,8,3,7])"
   ]
  }
 ],
 "metadata": {
  "kernelspec": {
   "display_name": "Python 3.8.10 ('vmlimpl')",
   "language": "python",
   "name": "python3"
  },
  "language_info": {
   "codemirror_mode": {
    "name": "ipython",
    "version": 3
   },
   "file_extension": ".py",
   "mimetype": "text/x-python",
   "name": "python",
   "nbconvert_exporter": "python",
   "pygments_lexer": "ipython3",
   "version": "3.8.10"
  },
  "orig_nbformat": 4,
  "vscode": {
   "interpreter": {
    "hash": "7626a37170bde8cbd07d8d30684bdff5f1c1a26dbdf249b53898a22fb9c20fab"
   }
  }
 },
 "nbformat": 4,
 "nbformat_minor": 2
}
