{
 "cells": [
  {
   "cell_type": "markdown",
   "metadata": {},
   "source": [
    "#### 3Sum\n",
    "Given an array `nums` of `n` integers, are there elements `a, b, c` in `nums` such that a + b + c = 0? \\\n",
    "Find all unique tripletes in the array which givesthe sum of zero.\n",
    "\n",
    "**Note**\n",
    "The soulation set must not contain duplicate triplets.\n",
    "\n",
    "```\n",
    "Example:\n",
    "Given array nums = [-1, 0, 1, 2, -1, -4]\n",
    "\n",
    "A aoluation set is:\n",
    "[\n",
    "    [-1, 0, 1],\n",
    "    [-1, -1, 2]\n",
    "]\n",
    "```"
   ]
  },
  {
   "cell_type": "code",
   "execution_count": 7,
   "metadata": {},
   "outputs": [],
   "source": [
    "from __future__ import annotations\n",
    "\n",
    "class Soluation:\n",
    "    def tripleSum(self, arr: List[int]) -> List[List[int]]:\n",
    "        arr.sort()  # sort the arr here\n",
    "        result = []\n",
    "\n",
    "        for i, a in enumerate(arr):\n",
    "            if i > 0 and a == arr[i - 1]: # make sure the adjucent values are not same\n",
    "                continue\n",
    "            left, right = i, len(arr) - 1\n",
    "            while left < right:\n",
    "                threeSum = a + arr[left] + arr[right] # get the one value of 3sum and solve remaning two using 2sum method\n",
    "                if threeSum > 0:\n",
    "                    right -= 1\n",
    "                elif threeSum < 0:\n",
    "                    left += 1\n",
    "                else:\n",
    "                    result.append([a, arr[left], arr[right]])\n",
    "                    left += 1\n",
    "                    while arr[left] == arr[left -1] and left < right: # make sure the adjucent left value is not same\n",
    "                        left += 1\n",
    "        \n",
    "        return result"
   ]
  },
  {
   "cell_type": "code",
   "execution_count": 8,
   "metadata": {},
   "outputs": [
    {
     "data": {
      "text/plain": [
       "[[-1, -1, 2], [-1, 0, 1]]"
      ]
     },
     "execution_count": 8,
     "metadata": {},
     "output_type": "execute_result"
    }
   ],
   "source": [
    "soluation = Soluation()\n",
    "soluation.tripleSum(arr=[-1, 0, 1, 2, -1, -4])"
   ]
  }
 ],
 "metadata": {
  "kernelspec": {
   "display_name": "Python 3.8.10 ('vmlimpl')",
   "language": "python",
   "name": "python3"
  },
  "language_info": {
   "codemirror_mode": {
    "name": "ipython",
    "version": 3
   },
   "file_extension": ".py",
   "mimetype": "text/x-python",
   "name": "python",
   "nbconvert_exporter": "python",
   "pygments_lexer": "ipython3",
   "version": "3.8.10"
  },
  "orig_nbformat": 4,
  "vscode": {
   "interpreter": {
    "hash": "7626a37170bde8cbd07d8d30684bdff5f1c1a26dbdf249b53898a22fb9c20fab"
   }
  }
 },
 "nbformat": 4,
 "nbformat_minor": 2
}
