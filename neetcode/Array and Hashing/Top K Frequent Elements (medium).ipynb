{
 "cells": [
  {
   "cell_type": "markdown",
   "metadata": {},
   "source": [
    "Given an interger array `nums` and an interger `k`, return the `k` most frequent elements\n",
    "You may return the answer in **any order**.\n",
    "\n",
    "```\n",
    "Example 1:\n",
    "Input: nums = [1,1,1,2,2,3], k = 2\n",
    "Output: [1,2]\n",
    "\n",
    "Example 2:\n",
    "Input: nums = [1], k = 1\n",
    "Output: [1]\n",
    "```"
   ]
  },
  {
   "cell_type": "code",
   "execution_count": 19,
   "metadata": {},
   "outputs": [],
   "source": [
    "from __future__ import annotations\n",
    "\n",
    "# Soluation using bucket sort, you can also use max heap to solve below problem\n",
    "# but time complexity will be `klogn`\n",
    "\n",
    "class Soluation:\n",
    "    def topKFreqElement(self, nums: List[int], k:int) -> List[int]:\n",
    "        count = {}\n",
    "        freq =[[] for i in range(len(nums))]\n",
    "\n",
    "        for num in nums:\n",
    "            if num not in count:\n",
    "                count[num] = 0\n",
    "            count[num] += 1\n",
    "        \n",
    "        for n, c in count.items():\n",
    "            freq[c].append(n)\n",
    "\n",
    "        res = []\n",
    "        for i in range(len(freq) - 1, 0, -1):\n",
    "            for n in freq[i]:\n",
    "                res.append(n)\n",
    "                if len(res) == k:\n",
    "                    return res"
   ]
  },
  {
   "cell_type": "code",
   "execution_count": 20,
   "metadata": {},
   "outputs": [
    {
     "data": {
      "text/plain": [
       "[1, 2]"
      ]
     },
     "execution_count": 20,
     "metadata": {},
     "output_type": "execute_result"
    }
   ],
   "source": [
    "# Driver code\n",
    "soluation = Soluation()\n",
    "soluation.topKFreqElement(nums=[1,1,1,2,2,3], k=2)"
   ]
  }
 ],
 "metadata": {
  "kernelspec": {
   "display_name": "Python 3.8.10 ('vmlimpl')",
   "language": "python",
   "name": "python3"
  },
  "language_info": {
   "codemirror_mode": {
    "name": "ipython",
    "version": 3
   },
   "file_extension": ".py",
   "mimetype": "text/x-python",
   "name": "python",
   "nbconvert_exporter": "python",
   "pygments_lexer": "ipython3",
   "version": "3.8.10"
  },
  "orig_nbformat": 4,
  "vscode": {
   "interpreter": {
    "hash": "7626a37170bde8cbd07d8d30684bdff5f1c1a26dbdf249b53898a22fb9c20fab"
   }
  }
 },
 "nbformat": 4,
 "nbformat_minor": 2
}
