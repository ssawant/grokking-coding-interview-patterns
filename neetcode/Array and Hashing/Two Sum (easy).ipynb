{
 "cells": [
  {
   "cell_type": "markdown",
   "metadata": {},
   "source": [
    "### Two Sum\n",
    "Given an array of intergers, return **indices** of the two numbers such that they add up to a specific target.\\\n",
    "You may assume that each input would have exactly one solution, and you may not use the *same* element twice.\n",
    "\n",
    "```Example:\n",
    "\n",
    "input: arr =[2, 7, 11, 15], target = 9\n",
    "output: [0, 1]\n",
    "explanation: 2 + 7 = 9\n"
   ]
  },
  {
   "cell_type": "code",
   "execution_count": null,
   "metadata": {},
   "outputs": [],
   "source": [
    "class Soluation:\n",
    "    def twoSum(self, arr: List(int), target:int) -> List(int):\n",
    "        n = len(arr)\n",
    "        if n == 0:\n",
    "            return []\n",
    "\n",
    "        left, right = arr[0], arr[n-1]\n",
    "\n",
    "        while right > left:\n",
    "            if arr[right] + arr[left] == target:\n",
    "                return[left, right]\n",
    "\n",
    "            if arr[right] + arr[left] > target:\n",
    "                right -= 1\n",
    "            else:\n",
    "                left += 1\n",
    "        \n",
    "        return []\n",
    "            \n"
   ]
  }
 ],
 "metadata": {
  "language_info": {
   "name": "python"
  },
  "orig_nbformat": 4
 },
 "nbformat": 4,
 "nbformat_minor": 2
}
