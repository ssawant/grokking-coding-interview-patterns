{
 "cells": [
  {
   "cell_type": "markdown",
   "metadata": {},
   "source": [
    "### Two Sum\n",
    "Given an array of intergers, return **indices** of the two numbers such that they add up to a specific target.\\\n",
    "You may assume that each input would have exactly one solution, and you may not use the *same* element twice.\n",
    "\n",
    "```Example:\n",
    "\n",
    "input: arr =[2, 7, 11, 15], target = 9\n",
    "output: [0, 1]\n",
    "explanation: 2 + 7 = 9\n"
   ]
  },
  {
   "cell_type": "code",
   "execution_count": 12,
   "metadata": {},
   "outputs": [],
   "source": [
    "from __future__ import annotations\n",
    "\n",
    "class Soluation:\n",
    "    \"\"\"Soluation only work for sorted arr\n",
    "    `Time Complexiy: O(n)` \\\n",
    "    `Auxiliary Space: O(1)\n",
    "    \"\"\"\n",
    "    def twoSum(self, arr: List(int), target:int) -> List(int):\n",
    "        n = len(arr)\n",
    "        if n == 0:\n",
    "            return []\n",
    "\n",
    "        left, right = 0, n-1\n",
    "\n",
    "        while right > left:\n",
    "            if arr[right] + arr[left] == target:\n",
    "                return[left, right]\n",
    "\n",
    "            if arr[right] + arr[left] > target:\n",
    "                right -= 1\n",
    "            else:\n",
    "                left += 1\n",
    "        \n",
    "        return []"
   ]
  },
  {
   "cell_type": "code",
   "execution_count": 13,
   "metadata": {},
   "outputs": [
    {
     "data": {
      "text/plain": [
       "[0, 1]"
      ]
     },
     "execution_count": 13,
     "metadata": {},
     "output_type": "execute_result"
    }
   ],
   "source": [
    "soluation = Soluation()\n",
    "soluation.twoSum(arr=[2, 7, 11, 15], target=9)"
   ]
  },
  {
   "cell_type": "code",
   "execution_count": 22,
   "metadata": {},
   "outputs": [],
   "source": [
    "class Soluation:\n",
    "    \"\"\"Soluation using HashMap, which works for unsorted arr\n",
    "    \"\"\"\n",
    "    def twoSum(self, arr: List[int], target:int) -> list[int]: \n",
    "        prevMap = {} # val, index\n",
    "        for i in range(len(arr)):\n",
    "            diff = target - arr[i]\n",
    "            if diff not in prevMap:\n",
    "                prevMap[arr[i]] = i\n",
    "            else:\n",
    "                return [prevMap.get(diff), i]\n",
    "        return"
   ]
  },
  {
   "cell_type": "code",
   "execution_count": 21,
   "metadata": {},
   "outputs": [
    {
     "data": {
      "text/plain": [
       "[1, 3]"
      ]
     },
     "execution_count": 21,
     "metadata": {},
     "output_type": "execute_result"
    }
   ],
   "source": [
    "soluation = Soluation()\n",
    "soluation.twoSum(arr=[2,1,5,3], target=4)"
   ]
  }
 ],
 "metadata": {
  "kernelspec": {
   "display_name": "Python 3.8.10 ('vmlimpl')",
   "language": "python",
   "name": "python3"
  },
  "language_info": {
   "codemirror_mode": {
    "name": "ipython",
    "version": 3
   },
   "file_extension": ".py",
   "mimetype": "text/x-python",
   "name": "python",
   "nbconvert_exporter": "python",
   "pygments_lexer": "ipython3",
   "version": "3.8.10"
  },
  "orig_nbformat": 4,
  "vscode": {
   "interpreter": {
    "hash": "7626a37170bde8cbd07d8d30684bdff5f1c1a26dbdf249b53898a22fb9c20fab"
   }
  }
 },
 "nbformat": 4,
 "nbformat_minor": 2
}
