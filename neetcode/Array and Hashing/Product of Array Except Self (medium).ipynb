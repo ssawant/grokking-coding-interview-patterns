{
 "cells": [
  {
   "cell_type": "markdown",
   "metadata": {},
   "source": [
    "#### Product of Array Except self (Medium)\n",
    "Given an integer array `nums` return an arrays `answer` such that `answer[i]` is \\\n",
    "equal to the prodcut of all the elements of `nums` except `nums[i]`\n",
    "\n",
    "The product of any prefix or suffix of `nums` is guaranteed to fit in a **32-bit** integer.\n",
    "\n",
    "You must wirte an algorithmthat runs in `O(n)` time and without using the division operation.\n",
    "\n",
    "```\n",
    "Example 1:\n",
    "\n",
    "Input: nums =[1,2,3,4]\n",
    "Output: answer = [24,12,8,6]\n",
    "\n",
    "Example 2:\n",
    "\n",
    "Input: nums = [-1.1.0,-3,3]\n",
    "Output: [0,0,9,0,0]\n",
    "```\n"
   ]
  },
  {
   "cell_type": "code",
   "execution_count": 20,
   "metadata": {},
   "outputs": [],
   "source": [
    "from __future__ import annotations\n",
    "# Soluation using prefix and postfix arr\n",
    "class Soluation:\n",
    "    def prodExceptSelf(self, nums: List[int]) -> List[int] :\n",
    "        result = [1] * len(nums)\n",
    "        \n",
    "        prefix = 1\n",
    "        for i in range(len(nums)):\n",
    "            result[i] = prefix\n",
    "            prefix *= nums[i]\n",
    "        \n",
    "        postfix = 1\n",
    "        for i in range(len(nums)-1, -1, -1):\n",
    "            result[i] *= postfix\n",
    "            postfix *= nums[i]\n",
    "        \n",
    "        return result"
   ]
  },
  {
   "cell_type": "code",
   "execution_count": 21,
   "metadata": {},
   "outputs": [
    {
     "data": {
      "text/plain": [
       "[24, 12, 8, 6]"
      ]
     },
     "execution_count": 21,
     "metadata": {},
     "output_type": "execute_result"
    }
   ],
   "source": [
    "soluation = Soluation()\n",
    "soluation.prodExceptSelf(nums=[1,2,3,4])"
   ]
  }
 ],
 "metadata": {
  "kernelspec": {
   "display_name": "Python 3.8.10 ('vmlimpl')",
   "language": "python",
   "name": "python3"
  },
  "language_info": {
   "codemirror_mode": {
    "name": "ipython",
    "version": 3
   },
   "file_extension": ".py",
   "mimetype": "text/x-python",
   "name": "python",
   "nbconvert_exporter": "python",
   "pygments_lexer": "ipython3",
   "version": "3.8.10"
  },
  "orig_nbformat": 4,
  "vscode": {
   "interpreter": {
    "hash": "7626a37170bde8cbd07d8d30684bdff5f1c1a26dbdf249b53898a22fb9c20fab"
   }
  }
 },
 "nbformat": 4,
 "nbformat_minor": 2
}
