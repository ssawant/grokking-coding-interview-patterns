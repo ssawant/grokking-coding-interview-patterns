{
 "cells": [
  {
   "cell_type": "markdown",
   "metadata": {},
   "source": [
    "#### Valid Anagram\n",
    "Given tow string `s` and `t`, return `true` if `t` is an anagram of `s`,and `false` otherwise.\n",
    "\n",
    "```\n",
    "Example 1:\n",
    "\n",
    "Input: s = \"anagram\", t=\"nagaram\"\n",
    "Output: True\n",
    "\n",
    "Example 2:\n",
    "\n",
    "Input: s = \"rat\", t = \"car\"\n",
    "Output: False\n",
    "```\n",
    "*Time Complexity and Auxiliary space* : `O(s+t)`"
   ]
  },
  {
   "cell_type": "code",
   "execution_count": 11,
   "metadata": {},
   "outputs": [],
   "source": [
    "class Solution:\n",
    "    def is_anagarm(self, s: str, t: str) -> bool:\n",
    "        if len(s) != len(t):\n",
    "            return False\n",
    "\n",
    "        # create two hashmap and compare and compare the count of each char in hashmap\n",
    "        count_s, count_t = {}, {}\n",
    "\n",
    "        for char in s:\n",
    "            count_s[char] = 1 + count_s.get(char, 0)\n",
    "            count_t[char] = 1 + count_t.get(char, 0)\n",
    "        \n",
    "        # if count is not equal for each key return false\n",
    "        for key in count_s:\n",
    "            if count_s[key] != count_t.get(key, 0):\n",
    "                return False\n",
    "        \n",
    "        return True\n"
   ]
  },
  {
   "cell_type": "code",
   "execution_count": 10,
   "metadata": {},
   "outputs": [
    {
     "data": {
      "text/plain": [
       "True"
      ]
     },
     "execution_count": 10,
     "metadata": {},
     "output_type": "execute_result"
    }
   ],
   "source": [
    "solution = Solution()\n",
    "solution.is_anagarm(s=\"anagram\", t=\"nagaram\")"
   ]
  }
 ],
 "metadata": {
  "kernelspec": {
   "display_name": "vmlimpl",
   "language": "python",
   "name": "vmlimpl"
  },
  "language_info": {
   "codemirror_mode": {
    "name": "ipython",
    "version": 3
   },
   "file_extension": ".py",
   "mimetype": "text/x-python",
   "name": "python",
   "nbconvert_exporter": "python",
   "pygments_lexer": "ipython3",
   "version": "3.8.10"
  },
  "orig_nbformat": 4
 },
 "nbformat": 4,
 "nbformat_minor": 2
}
