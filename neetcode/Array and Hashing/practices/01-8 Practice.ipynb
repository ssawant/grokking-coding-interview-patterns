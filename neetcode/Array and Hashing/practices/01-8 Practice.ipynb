{
 "cells": [
  {
   "cell_type": "markdown",
   "metadata": {},
   "source": [
    "#### 217. Contains Duplicate\n",
    "*Time complexity : O(n)*\\\n",
    "*Auxillary space: O(n)*\n"
   ]
  },
  {
   "cell_type": "code",
   "execution_count": 6,
   "metadata": {},
   "outputs": [],
   "source": [
    "from __future__ import annotations\n",
    "\n",
    "class Solution:\n",
    "    def isContainDuplicate(self, nums: List[int]) -> bool:\n",
    "        map = set()\n",
    "        for num in nums:\n",
    "            if num in map:\n",
    "                return True\n",
    "            else:\n",
    "                map.add(num)\n",
    "        \n",
    "        return False"
   ]
  },
  {
   "cell_type": "code",
   "execution_count": 8,
   "metadata": {},
   "outputs": [
    {
     "data": {
      "text/plain": [
       "True"
      ]
     },
     "execution_count": 8,
     "metadata": {},
     "output_type": "execute_result"
    }
   ],
   "source": [
    "## Driver code\n",
    "solution = Solution()\n",
    "solution.isContainDuplicate([1,2,3,1])"
   ]
  },
  {
   "cell_type": "markdown",
   "metadata": {},
   "source": [
    "#### 242. Valid Anagram\n",
    "*Time Complexity: O(n)*\\\n",
    "*Auxillary Space: O(n)*"
   ]
  },
  {
   "cell_type": "code",
   "execution_count": 1,
   "metadata": {},
   "outputs": [],
   "source": [
    "class Solution:\n",
    "    def isValidAnagram(self, s: str, r: str) -> bool:\n",
    "        if len(s) != len(r):\n",
    "            return False\n",
    "        \n",
    "        smap = {}\n",
    "        for ch in s:\n",
    "            if ch not in smap:\n",
    "                smap[ch] = 0\n",
    "            smap[ch] += 1\n",
    "        \n",
    "        for ch in r:\n",
    "            if ch not in smap:\n",
    "                return False\n",
    "            else:\n",
    "                smap[ch] -= 1\n",
    "                if smap[ch] == 0:\n",
    "                    del smap[ch]\n",
    "        \n",
    "        return True if len(smap) == 0 else False"
   ]
  },
  {
   "cell_type": "code",
   "execution_count": 2,
   "metadata": {},
   "outputs": [
    {
     "data": {
      "text/plain": [
       "True"
      ]
     },
     "execution_count": 2,
     "metadata": {},
     "output_type": "execute_result"
    }
   ],
   "source": [
    "solution = Solution()\n",
    "solution.isValidAnagram(\"anagram\", \"nagaram\")"
   ]
  },
  {
   "cell_type": "markdown",
   "metadata": {},
   "source": [
    "#### 1. Two Sum (non sorted array)\n",
    "*Time Complexity : O(n)*\\\n",
    "*Auxiliary Space: O(n)*"
   ]
  },
  {
   "cell_type": "code",
   "execution_count": 12,
   "metadata": {},
   "outputs": [],
   "source": [
    "from __future__ import annotations\n",
    "\n",
    "class Solution:\n",
    "    def towSum(self, nums: List[int], target: int) -> List[int]:\n",
    "        map = {} # val : index\n",
    "\n",
    "        for i in range(len(nums)):\n",
    "            second = target - nums[i]\n",
    "            if second in map:\n",
    "                return [map.get(second), i]\n",
    "            else:\n",
    "                map[nums[i]] = i\n",
    "        return []"
   ]
  },
  {
   "cell_type": "code",
   "execution_count": 11,
   "metadata": {},
   "outputs": [
    {
     "data": {
      "text/plain": [
       "[1, 3]"
      ]
     },
     "execution_count": 11,
     "metadata": {},
     "output_type": "execute_result"
    }
   ],
   "source": [
    "#### Driver code\n",
    "solution = Solution()\n",
    "solution.towSum([2,1,5,3], 4)"
   ]
  },
  {
   "cell_type": "markdown",
   "metadata": {},
   "source": [
    "#### 49. Group Anagrams\n"
   ]
  },
  {
   "cell_type": "code",
   "execution_count": 22,
   "metadata": {},
   "outputs": [],
   "source": [
    "class Solution:\n",
    "    def groupAnagrams(self, strs: List[str]) -> List[List[str]]:\n",
    "        charmap = {} # mapping  charCount to list of Anagrams\n",
    "\n",
    "        for s in strs:\n",
    "            map = [0] * 26\n",
    "            for ch in s:\n",
    "                map[ord(ch) - ord(\"a\")] += 1\n",
    "            \n",
    "            if tuple(map) not in charmap:\n",
    "                charmap[tuple(map)] = []\n",
    "            charmap[tuple(map)].append(s)\n",
    "        \n",
    "        return list(charmap.values())"
   ]
  },
  {
   "cell_type": "code",
   "execution_count": 23,
   "metadata": {},
   "outputs": [
    {
     "data": {
      "text/plain": [
       "[['eat', 'tea', 'ate'], ['nat'], ['bat']]"
      ]
     },
     "execution_count": 23,
     "metadata": {},
     "output_type": "execute_result"
    }
   ],
   "source": [
    "### Driver code\n",
    "solution = Solution()\n",
    "solution.groupAnagrams([\"eat\", \"tea\", \"ate\", \"nat\", \"bat\"])"
   ]
  },
  {
   "cell_type": "markdown",
   "metadata": {},
   "source": [
    "#### 347. Top K Frequent Elements (Bucket sort)\n",
    "`K range [1, the number of unique elements in the array]`"
   ]
  },
  {
   "cell_type": "code",
   "execution_count": 26,
   "metadata": {},
   "outputs": [],
   "source": [
    "class Solution:\n",
    "    def topKFreqElement(self, nums: List[int], k: int) -> List[int]:\n",
    "        count = {}\n",
    "        freq = [[] for i in range(len(nums)+1)]\n",
    "\n",
    "        for num in nums:\n",
    "            if num not in count:\n",
    "                count[num] = 0\n",
    "            count[num] += 1\n",
    "        \n",
    "        for n, c in count.items():\n",
    "            freq[c].append(n)\n",
    "        \n",
    "        result = []\n",
    "        for i in range(len(freq)-1, 0, -1):\n",
    "            for n in freq[i]:\n",
    "                result.append(n)\n",
    "                if len(result) == k:\n",
    "                    return result"
   ]
  },
  {
   "cell_type": "code",
   "execution_count": 27,
   "metadata": {},
   "outputs": [
    {
     "data": {
      "text/plain": [
       "[1, 2]"
      ]
     },
     "execution_count": 27,
     "metadata": {},
     "output_type": "execute_result"
    }
   ],
   "source": [
    "#### Driver code\n",
    "solution = Solution()\n",
    "solution.topKFreqElement([1,1,1,2,2,3], k=2)"
   ]
  }
 ],
 "metadata": {
  "kernelspec": {
   "display_name": "Python 3.8.10 ('vmlimpl')",
   "language": "python",
   "name": "python3"
  },
  "language_info": {
   "codemirror_mode": {
    "name": "ipython",
    "version": 3
   },
   "file_extension": ".py",
   "mimetype": "text/x-python",
   "name": "python",
   "nbconvert_exporter": "python",
   "pygments_lexer": "ipython3",
   "version": "3.8.10"
  },
  "orig_nbformat": 4,
  "vscode": {
   "interpreter": {
    "hash": "7626a37170bde8cbd07d8d30684bdff5f1c1a26dbdf249b53898a22fb9c20fab"
   }
  }
 },
 "nbformat": 4,
 "nbformat_minor": 2
}
