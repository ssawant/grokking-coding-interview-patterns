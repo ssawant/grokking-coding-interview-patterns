{
 "cells": [
  {
   "cell_type": "markdown",
   "metadata": {},
   "source": [
    "#### 121. Best time to buy and sell stokc\n",
    "\n",
    "Given an array on ith elements is the priceof a given stock on a day i.\\\n",
    "if you were only permitted to complete atmost one transaction (i.e, buy one and sell one share of the stock), design an algorithm to find the maximum profit.\\\n",
    "Note: You can't sell a stock before you buy one.\n",
    "\n",
    "```\n",
    "Example 1:\n",
    "Input : [7,1,5,3,6,4]\n",
    "Output: 5\n",
    "Explanation: Buy on day 2 (price = 1) and sell on day 5 (price = 6), profit = 6-1 = 5\n",
    "```"
   ]
  },
  {
   "cell_type": "code",
   "execution_count": 11,
   "metadata": {},
   "outputs": [],
   "source": [
    "from __future__ import annotations\n",
    "\n",
    "class Soluation:\n",
    "    def maxProfit(self, arr: List[int]) -> int:\n",
    "        if len(arr) < 2:\n",
    "            return\n",
    "\n",
    "        maxProfit = 0\n",
    "        left, right = 0, 1 # left=buy, right=sell\n",
    "        while right < len(arr):\n",
    "            if arr[left] > arr[right]:\n",
    "                left = right # buy low sell hight\n",
    "                right += 1\n",
    "            else:\n",
    "                maxProfit = max(maxProfit, arr[right] - arr[left])\n",
    "                right += 1\n",
    "\n",
    "        return maxProfit"
   ]
  },
  {
   "cell_type": "code",
   "execution_count": 12,
   "metadata": {},
   "outputs": [
    {
     "data": {
      "text/plain": [
       "5"
      ]
     },
     "execution_count": 12,
     "metadata": {},
     "output_type": "execute_result"
    }
   ],
   "source": [
    "# Driver Code\n",
    "soluation = Soluation()\n",
    "soluation.maxProfit(arr=[7,1,5,3,6,4])"
   ]
  }
 ],
 "metadata": {
  "kernelspec": {
   "display_name": "Python 3.8.10 ('vmlimpl')",
   "language": "python",
   "name": "python3"
  },
  "language_info": {
   "codemirror_mode": {
    "name": "ipython",
    "version": 3
   },
   "file_extension": ".py",
   "mimetype": "text/x-python",
   "name": "python",
   "nbconvert_exporter": "python",
   "pygments_lexer": "ipython3",
   "version": "3.8.10"
  },
  "orig_nbformat": 4,
  "vscode": {
   "interpreter": {
    "hash": "7626a37170bde8cbd07d8d30684bdff5f1c1a26dbdf249b53898a22fb9c20fab"
   }
  }
 },
 "nbformat": 4,
 "nbformat_minor": 2
}
