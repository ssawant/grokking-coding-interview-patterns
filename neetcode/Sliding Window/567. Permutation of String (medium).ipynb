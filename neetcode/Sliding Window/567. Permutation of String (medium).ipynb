{
 "cells": [
  {
   "cell_type": "markdown",
   "metadata": {},
   "source": [
    "#### Leet Code: 567. Permutation of string\n",
    " Given two string s1 and s1, return true if s2 contains a permutation of s1 or false otherwise. \\\n",
    "In other words,return treu of one of s1's permutations is the substring of s2.\n",
    "\n",
    "```\n",
    "Example 1:\n",
    "Input: s1 = \"ab\", s2 = \"eidbaooo\"\n",
    "Output: true\n",
    "Explanation: s2 contains one permutation of s1 (\"ba\")."
   ]
  },
  {
   "cell_type": "code",
   "execution_count": 8,
   "metadata": {},
   "outputs": [],
   "source": [
    "class Soluation:\n",
    "    def isPemutation(self, str1: str, str2: str):\n",
    "        charFreq = {}\n",
    "        matched = 0\n",
    "        left = 0\n",
    "\n",
    "        for char in str1:\n",
    "            if char not in charFreq:\n",
    "                charFreq[char] = 0\n",
    "            charFreq[char] += 1\n",
    "        \n",
    "        for right in range(len(str2)):\n",
    "            rightChar = str2[right]\n",
    "            if rightChar in charFreq:\n",
    "                charFreq[rightChar] -= 1\n",
    "                if charFreq[rightChar] == 0:\n",
    "                    matched += 1\n",
    "            \n",
    "            if matched == len(charFreq):\n",
    "                return True\n",
    "            \n",
    "            if right + 1 > len(str1):\n",
    "                leftChar = str2[left]\n",
    "                left += 1\n",
    "                if leftChar in charFreq:              \n",
    "                    if charFreq[leftChar] == 0:\n",
    "                        matched -= 1\n",
    "                    charFreq[leftChar] += 1\n",
    "        return False"
   ]
  },
  {
   "cell_type": "code",
   "execution_count": 9,
   "metadata": {},
   "outputs": [
    {
     "data": {
      "text/plain": [
       "False"
      ]
     },
     "execution_count": 9,
     "metadata": {},
     "output_type": "execute_result"
    }
   ],
   "source": [
    "## Driver Code\n",
    "soluation = Soluation()\n",
    "soluation.isPemutation(str1=\"ab\", str2=\"eidooo\")"
   ]
  }
 ],
 "metadata": {
  "kernelspec": {
   "display_name": "Python 3.8.10 ('vmlimpl')",
   "language": "python",
   "name": "python3"
  },
  "language_info": {
   "codemirror_mode": {
    "name": "ipython",
    "version": 3
   },
   "file_extension": ".py",
   "mimetype": "text/x-python",
   "name": "python",
   "nbconvert_exporter": "python",
   "pygments_lexer": "ipython3",
   "version": "3.8.10"
  },
  "orig_nbformat": 4,
  "vscode": {
   "interpreter": {
    "hash": "7626a37170bde8cbd07d8d30684bdff5f1c1a26dbdf249b53898a22fb9c20fab"
   }
  }
 },
 "nbformat": 4,
 "nbformat_minor": 2
}
