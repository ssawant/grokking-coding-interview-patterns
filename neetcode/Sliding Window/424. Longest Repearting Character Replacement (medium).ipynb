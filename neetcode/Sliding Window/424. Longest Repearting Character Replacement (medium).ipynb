{
 "cells": [
  {
   "cell_type": "markdown",
   "metadata": {},
   "source": [
    "#### 424. Longest Repeating Character Replacement\n",
    "\n",
    "Give a string `s` and an interger `k`. Find the longest repearting char after replace char `k` time \\\n",
    "\n",
    "Note: char is upper case only\n",
    "\n",
    "```\n",
    "Example 1:\n",
    "Input: s = \"ABAB\", k = 2\n",
    "Output: 4\n",
    "Explanation: Repalce the two 'A's with tow 'B's or vice versa\n",
    "```"
   ]
  },
  {
   "cell_type": "code",
   "execution_count": 2,
   "metadata": {},
   "outputs": [],
   "source": [
    "class Soluation:\n",
    "    def longestRepeatingCharReplace(self, str: str, k: int) -> int:\n",
    "        charFreq = {}\n",
    "        maxRepeateChar = 0\n",
    "        maxWinLength = 0\n",
    "        windowStart = 0\n",
    "\n",
    "        for windowEnd in range(len(str)):\n",
    "            rightChar = str[windowEnd]\n",
    "            if rightChar not in charFreq:\n",
    "                charFreq[rightChar] = 0\n",
    "            charFreq[rightChar] += 1\n",
    "            maxRepeateChar = max(maxRepeateChar, charFreq[rightChar])\n",
    "\n",
    "            if (windowEnd - windowStart + 1 - maxRepeateChar) > k:\n",
    "                leftChar = str[windowStart]\n",
    "                charFreq[leftChar] -= 1\n",
    "                windowStart += 1\n",
    "            maxWinLength = max(maxWinLength, windowEnd - windowStart + 1)\n",
    "        \n",
    "        return maxWinLength"
   ]
  },
  {
   "cell_type": "code",
   "execution_count": 4,
   "metadata": {},
   "outputs": [
    {
     "data": {
      "text/plain": [
       "4"
      ]
     },
     "execution_count": 4,
     "metadata": {},
     "output_type": "execute_result"
    }
   ],
   "source": [
    "### Driver Code\n",
    "soluation = Soluation()\n",
    "soluation.longestRepeatingCharReplace(str=\"aabccb\", k=2)"
   ]
  }
 ],
 "metadata": {
  "kernelspec": {
   "display_name": "Python 3.8.10 ('vmlimpl')",
   "language": "python",
   "name": "python3"
  },
  "language_info": {
   "codemirror_mode": {
    "name": "ipython",
    "version": 3
   },
   "file_extension": ".py",
   "mimetype": "text/x-python",
   "name": "python",
   "nbconvert_exporter": "python",
   "pygments_lexer": "ipython3",
   "version": "3.8.10"
  },
  "orig_nbformat": 4,
  "vscode": {
   "interpreter": {
    "hash": "7626a37170bde8cbd07d8d30684bdff5f1c1a26dbdf249b53898a22fb9c20fab"
   }
  }
 },
 "nbformat": 4,
 "nbformat_minor": 2
}
