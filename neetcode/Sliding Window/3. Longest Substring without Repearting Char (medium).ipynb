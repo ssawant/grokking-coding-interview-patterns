{
 "cells": [
  {
   "cell_type": "markdown",
   "metadata": {},
   "source": [
    "#### Leet code 3. Longest substring withoutrepeargin characters\n",
    "Given a string,ding the length of the longest substring without repeating char\n",
    "\n",
    "```\n",
    "Example 1:\n",
    "input: \"abcabcbb\"\n",
    "output: 3\n",
    "Explanation: The ans is \"abc\". iwht the length of 3."
   ]
  },
  {
   "cell_type": "code",
   "execution_count": 23,
   "metadata": {},
   "outputs": [],
   "source": [
    "class Soluation:\n",
    "    def longestSubStr(self, str: str) -> int:\n",
    "        charFreq = set()\n",
    "        count, right = 0, 0\n",
    "\n",
    "        for left in range(len(str)):\n",
    "            while str[left] in charFreq:\n",
    "                charFreq.remove(str[left])\n",
    "                left += 1\n",
    "            charFreq.add(str[right])\n",
    "            count = max(count, left - right + 1)\n",
    "\n",
    "        return count"
   ]
  },
  {
   "cell_type": "code",
   "execution_count": 24,
   "metadata": {},
   "outputs": [
    {
     "data": {
      "text/plain": [
       "13"
      ]
     },
     "execution_count": 24,
     "metadata": {},
     "output_type": "execute_result"
    }
   ],
   "source": [
    "soluation = Soluation()\n",
    "soluation.longestSubStr(str=\"abcde12345abc\")\n"
   ]
  }
 ],
 "metadata": {
  "kernelspec": {
   "display_name": "Python 3.8.10 ('vmlimpl')",
   "language": "python",
   "name": "python3"
  },
  "language_info": {
   "codemirror_mode": {
    "name": "ipython",
    "version": 3
   },
   "file_extension": ".py",
   "mimetype": "text/x-python",
   "name": "python",
   "nbconvert_exporter": "python",
   "pygments_lexer": "ipython3",
   "version": "3.8.10"
  },
  "orig_nbformat": 4,
  "vscode": {
   "interpreter": {
    "hash": "7626a37170bde8cbd07d8d30684bdff5f1c1a26dbdf249b53898a22fb9c20fab"
   }
  }
 },
 "nbformat": 4,
 "nbformat_minor": 2
}
