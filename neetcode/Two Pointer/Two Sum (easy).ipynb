{
 "cells": [
  {
   "cell_type": "markdown",
   "metadata": {},
   "source": [
    "#### Two Sum (easy)\n",
    "Given an array of intergers that is already sorted in asceding order. Find tow numbers such that they add up to specific targer numer.\n",
    "\n",
    "Ther function twoSum should return indices of the tow numbers such that they add up the target,whre index1 must be less the index2.\n",
    "\n",
    "**Note**:\n",
    "- Your return answer (both index1 and index2) are not zero-based.\n",
    "- You may assume that each input whould have exactly one soluation and you amy not use the same element twice."
   ]
  },
  {
   "cell_type": "code",
   "execution_count": 3,
   "metadata": {},
   "outputs": [],
   "source": [
    "from __future__ import annotations\n",
    "\n",
    "class Soluation:\n",
    "    def twoSum(self, arr: List(int), targetSum: int) -> List(int):\n",
    "        if len(arr) < 1:\n",
    "            return []\n",
    "\n",
    "        currSum = 0\n",
    "        left, right = 0, len(arr) - 1\n",
    "        while left < right:\n",
    "            currSum = arr[left] + arr[right]\n",
    "            if currSum == targetSum: \n",
    "                return [left + 1, right + 1]\n",
    "            elif currSum > targetSum:\n",
    "                right -= 1\n",
    "            else:\n",
    "                left += 1\n",
    "        \n",
    "        return []"
   ]
  },
  {
   "cell_type": "code",
   "execution_count": 4,
   "metadata": {},
   "outputs": [
    {
     "data": {
      "text/plain": [
       "[1, 2]"
      ]
     },
     "execution_count": 4,
     "metadata": {},
     "output_type": "execute_result"
    }
   ],
   "source": [
    "soluation = Soluation()\n",
    "soluation.twoSum(arr=[2,7,11,15], targetSum=9)"
   ]
  }
 ],
 "metadata": {
  "kernelspec": {
   "display_name": "Python 3.8.10 ('vmlimpl')",
   "language": "python",
   "name": "python3"
  },
  "language_info": {
   "codemirror_mode": {
    "name": "ipython",
    "version": 3
   },
   "file_extension": ".py",
   "mimetype": "text/x-python",
   "name": "python",
   "nbconvert_exporter": "python",
   "pygments_lexer": "ipython3",
   "version": "3.8.10"
  },
  "orig_nbformat": 4,
  "vscode": {
   "interpreter": {
    "hash": "7626a37170bde8cbd07d8d30684bdff5f1c1a26dbdf249b53898a22fb9c20fab"
   }
  }
 },
 "nbformat": 4,
 "nbformat_minor": 2
}
