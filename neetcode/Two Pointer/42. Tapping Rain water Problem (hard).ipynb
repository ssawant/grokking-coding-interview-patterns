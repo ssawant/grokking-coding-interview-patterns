{
 "cells": [
  {
   "cell_type": "markdown",
   "metadata": {},
   "source": [
    "### Leet Code 42. Tapping rain water problem\n",
    "\n",
    "Given n non-negative interers representing an elevation map where the width of each bar is 1, \\\n",
    "compute how much water it can trap after raining.\n",
    "\n",
    "```\n",
    "Example 1:\n",
    "Input: height = [0,1,0,2,1,0,1,3,2,1,2,1]\n",
    "Output: 6\n",
    "Explanation: The above elevation map (black section) is representedby array [0,1,0,2,1,0,1,3,2,1].In this case, 6units of rain water (blue section) are been trapped.\n",
    "```"
   ]
  },
  {
   "cell_type": "code",
   "execution_count": 24,
   "metadata": {},
   "outputs": [],
   "source": [
    "from __future__ import annotations\n",
    "\n",
    "class Soluation:\n",
    "    def tappingRainWater(self, height: List[int]):\n",
    "        left, right = 0, len(height)-1\n",
    "        leftMax, rightMax = height[left], height[right]\n",
    "        \n",
    "        result = 0\n",
    "\n",
    "        while left < right:\n",
    "            if leftMax < rightMax:\n",
    "                left += 1\n",
    "                leftMax = max(leftMax, height[left])\n",
    "                result += leftMax - height[left]\n",
    "            else:\n",
    "                right -= 1\n",
    "                rightMax = max(rightMax, height[right])\n",
    "                result += rightMax - height[right]\n",
    "\n",
    "        return result"
   ]
  },
  {
   "cell_type": "code",
   "execution_count": 26,
   "metadata": {},
   "outputs": [
    {
     "data": {
      "text/plain": [
       "6"
      ]
     },
     "execution_count": 26,
     "metadata": {},
     "output_type": "execute_result"
    }
   ],
   "source": [
    "soluation = Soluation()\n",
    "soluation.tappingRainWater(height=[0,1,0,2,1,0,1,3,2,1,2,1])\n"
   ]
  }
 ],
 "metadata": {
  "kernelspec": {
   "display_name": "Python 3.8.10 ('vmlimpl')",
   "language": "python",
   "name": "python3"
  },
  "language_info": {
   "codemirror_mode": {
    "name": "ipython",
    "version": 3
   },
   "file_extension": ".py",
   "mimetype": "text/x-python",
   "name": "python",
   "nbconvert_exporter": "python",
   "pygments_lexer": "ipython3",
   "version": "3.8.10"
  },
  "orig_nbformat": 4,
  "vscode": {
   "interpreter": {
    "hash": "7626a37170bde8cbd07d8d30684bdff5f1c1a26dbdf249b53898a22fb9c20fab"
   }
  }
 },
 "nbformat": 4,
 "nbformat_minor": 2
}
