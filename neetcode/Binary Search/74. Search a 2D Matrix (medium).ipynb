{
 "cells": [
  {
   "cell_type": "markdown",
   "metadata": {},
   "source": [
    "#### 74. Search a 2D matrix\n",
    "\n",
    "Writea ane efficient algorithm that searches for a value in an m *m matrix.\n",
    "- Integers in each row are sorted from left to right\n",
    "- The first integer of each row is a greater than the last integer of the previous row\n",
    "\n",
    "```\n",
    "Input: matrix = [[1,3,5,7],[10,11,16,20],[23,30,34,60]], target = 3\n",
    "Output: true\n",
    "```\n",
    "\n",
    "*Time compexity: log(m + n)*"
   ]
  },
  {
   "cell_type": "code",
   "execution_count": 2,
   "metadata": {},
   "outputs": [],
   "source": [
    "from  __future__ import annotations\n",
    "\n",
    "class Solution:\n",
    "     def searchMatrix(self, metrix: List[int], target: int) -> bool:\n",
    "        ROW, COL = len(metrix), len(metrix[0])\n",
    "\n",
    "        top, bot = 0, ROW - 1\n",
    "        while top <= bot:\n",
    "            row = (top + bot) // 2\n",
    "            if target > metrix[row][-1]:\n",
    "                top = row + 1\n",
    "            elif target < metrix[row][0]:\n",
    "                bot = row - 1\n",
    "            else:\n",
    "                break\n",
    "        \n",
    "        if not (top <= bot):\n",
    "            return False\n",
    "\n",
    "        l, r = 0, COL - 1\n",
    "        while l <= r:\n",
    "            mid = (l + r) // 2\n",
    "            if target > metrix[row][mid]:\n",
    "                l = mid + 1\n",
    "            elif target < metrix[row][mid]:\n",
    "                r = mid - 1\n",
    "            else:\n",
    "                return True"
   ]
  },
  {
   "cell_type": "code",
   "execution_count": 4,
   "metadata": {},
   "outputs": [
    {
     "data": {
      "text/plain": [
       "False"
      ]
     },
     "execution_count": 4,
     "metadata": {},
     "output_type": "execute_result"
    }
   ],
   "source": [
    "solution = Solution()\n",
    "solution.searchMatrix([[1,3,5,7],[10,11,16,20],[23,30,34,60]],target = 21)"
   ]
  }
 ],
 "metadata": {
  "kernelspec": {
   "display_name": "Python 3.8.10 ('vmlimpl')",
   "language": "python",
   "name": "python3"
  },
  "language_info": {
   "codemirror_mode": {
    "name": "ipython",
    "version": 3
   },
   "file_extension": ".py",
   "mimetype": "text/x-python",
   "name": "python",
   "nbconvert_exporter": "python",
   "pygments_lexer": "ipython3",
   "version": "3.8.10"
  },
  "orig_nbformat": 4,
  "vscode": {
   "interpreter": {
    "hash": "7626a37170bde8cbd07d8d30684bdff5f1c1a26dbdf249b53898a22fb9c20fab"
   }
  }
 },
 "nbformat": 4,
 "nbformat_minor": 2
}
